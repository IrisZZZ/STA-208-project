{
 "cells": [
  {
   "cell_type": "code",
   "execution_count": 1,
   "metadata": {},
   "outputs": [],
   "source": [
    "import numpy as np\n",
    "import pandas as pd\n",
    "import os\n",
    "import sqlalchemy as sqla\n",
    "import sqlite3 as sql\n",
    "from sqlite3 import Error\n",
    "import re\n",
    "\n",
    "import matplotlib as mpl\n",
    "import matplotlib.pyplot as plt\n",
    "import seaborn as sns\n",
    "\n",
    "%matplotlib inline"
   ]
  },
  {
   "cell_type": "code",
   "execution_count": 2,
   "metadata": {},
   "outputs": [],
   "source": [
    "file_loc = os.getcwd()"
   ]
  },
  {
   "cell_type": "code",
   "execution_count": 3,
   "metadata": {},
   "outputs": [
    {
     "data": {
      "text/plain": [
       "'C:\\\\Users\\\\KH7020823\\\\sta208\\\\STA-208-project'"
      ]
     },
     "execution_count": 3,
     "metadata": {},
     "output_type": "execute_result"
    }
   ],
   "source": [
    "file_loc"
   ]
  },
  {
   "cell_type": "code",
   "execution_count": 4,
   "metadata": {},
   "outputs": [],
   "source": [
    "db1= sql.connect(file_loc+\"\\data1.db\")\n",
    "df1=pd.read_sql(\"SELECT * FROM loan\",db1)\n",
    "db2= sql.connect(file_loc+\"\\data2.db\")\n",
    "df2=pd.read_sql(\"SELECT * FROM loan\",db2)\n",
    "db3= sql.connect(file_loc+\"\\data3.db\")\n",
    "df3=pd.read_sql(\"SELECT * FROM loan\",db3)\n",
    "db4= sql.connect(file_loc+\"\\data4.db\")\n",
    "df4=pd.read_sql(\"SELECT * FROM loan\",db4)\n",
    "db5= sql.connect(file_loc+\"\\data5.db\")\n",
    "df5=pd.read_sql(\"SELECT * FROM loan\",db5)\n",
    "db6= sql.connect(file_loc+\"\\data6.db\")\n",
    "df6=pd.read_sql(\"SELECT * FROM loan\",db6)\n",
    "db7= sql.connect(file_loc+\"\\data7.db\")\n",
    "df7=pd.read_sql(\"SELECT * FROM loan\",db7)\n",
    "db8= sql.connect(file_loc+\"\\data8.db\")\n",
    "df8=pd.read_sql(\"SELECT * FROM loan\",db8)\n",
    "db9= sql.connect(file_loc+\"\\data9.db\")\n",
    "df9=pd.read_sql(\"SELECT * FROM loan\",db9)\n",
    "db10= sql.connect(file_loc+\"\\data10.db\")\n",
    "df10=pd.read_sql(\"SELECT * FROM loan\",db10)\n",
    "db11= sql.connect(file_loc+\"\\data11.db\")\n",
    "df11=pd.read_sql(\"SELECT * FROM loan\",db11)\n",
    "db12= sql.connect(file_loc+\"\\data12.db\")\n",
    "df12=pd.read_sql(\"SELECT * FROM loan\",db12)"
   ]
  },
  {
   "cell_type": "code",
   "execution_count": 5,
   "metadata": {},
   "outputs": [
    {
     "data": {
      "text/plain": [
       "(434407, 65)"
      ]
     },
     "execution_count": 5,
     "metadata": {},
     "output_type": "execute_result"
    }
   ],
   "source": [
    "df = pd.DataFrame()\n",
    "df = df.append(df1)\n",
    "df = df.append(df2)\n",
    "df = df.append(df3)\n",
    "df = df.append(df4)\n",
    "df = df.append(df5)\n",
    "df = df.append(df6)\n",
    "df = df.append(df7)\n",
    "df = df.append(df8)\n",
    "df = df.append(df9)\n",
    "df = df.append(df10)\n",
    "df = df.append(df11)\n",
    "df = df.append(df12)\n",
    "df.shape"
   ]
  },
  {
   "cell_type": "code",
   "execution_count": 6,
   "metadata": {},
   "outputs": [
    {
     "data": {
      "text/html": [
       "<div>\n",
       "<style scoped>\n",
       "    .dataframe tbody tr th:only-of-type {\n",
       "        vertical-align: middle;\n",
       "    }\n",
       "\n",
       "    .dataframe tbody tr th {\n",
       "        vertical-align: top;\n",
       "    }\n",
       "\n",
       "    .dataframe thead th {\n",
       "        text-align: right;\n",
       "    }\n",
       "</style>\n",
       "<table border=\"1\" class=\"dataframe\">\n",
       "  <thead>\n",
       "    <tr style=\"text-align: right;\">\n",
       "      <th></th>\n",
       "      <th>loan_amnt</th>\n",
       "      <th>funded_amnt</th>\n",
       "      <th>funded_amnt_inv</th>\n",
       "      <th>term</th>\n",
       "      <th>int_rate</th>\n",
       "      <th>installment</th>\n",
       "      <th>grade</th>\n",
       "      <th>sub_grade</th>\n",
       "      <th>home_ownership</th>\n",
       "      <th>annual_inc</th>\n",
       "      <th>...</th>\n",
       "      <th>num_sats</th>\n",
       "      <th>num_tl_90g_dpd_24m</th>\n",
       "      <th>num_tl_op_past_12m</th>\n",
       "      <th>pct_tl_nvr_dlq</th>\n",
       "      <th>pub_rec_bankruptcies</th>\n",
       "      <th>tax_liens</th>\n",
       "      <th>tot_hi_cred_lim</th>\n",
       "      <th>total_bal_ex_mort</th>\n",
       "      <th>total_bc_limit</th>\n",
       "      <th>total_il_high_credit_limit</th>\n",
       "    </tr>\n",
       "  </thead>\n",
       "  <tbody>\n",
       "    <tr>\n",
       "      <th>0</th>\n",
       "      <td>17600</td>\n",
       "      <td>17600</td>\n",
       "      <td>17600</td>\n",
       "      <td>36 months</td>\n",
       "      <td>10.75%</td>\n",
       "      <td>574.12</td>\n",
       "      <td>B</td>\n",
       "      <td>B4</td>\n",
       "      <td>RENT</td>\n",
       "      <td>57109</td>\n",
       "      <td>...</td>\n",
       "      <td>6</td>\n",
       "      <td>0</td>\n",
       "      <td>1</td>\n",
       "      <td>95.1</td>\n",
       "      <td>1</td>\n",
       "      <td>0</td>\n",
       "      <td>88629</td>\n",
       "      <td>83563</td>\n",
       "      <td>2300</td>\n",
       "      <td>80329</td>\n",
       "    </tr>\n",
       "    <tr>\n",
       "      <th>1</th>\n",
       "      <td>12500</td>\n",
       "      <td>12500</td>\n",
       "      <td>12500</td>\n",
       "      <td>60 months</td>\n",
       "      <td>8.39%</td>\n",
       "      <td>255.8</td>\n",
       "      <td>B</td>\n",
       "      <td>B1</td>\n",
       "      <td>RENT</td>\n",
       "      <td>120000</td>\n",
       "      <td>...</td>\n",
       "      <td>9</td>\n",
       "      <td>0</td>\n",
       "      <td>1</td>\n",
       "      <td>100</td>\n",
       "      <td>0</td>\n",
       "      <td>0</td>\n",
       "      <td>80899</td>\n",
       "      <td>40673</td>\n",
       "      <td>48400</td>\n",
       "      <td>32499</td>\n",
       "    </tr>\n",
       "    <tr>\n",
       "      <th>2</th>\n",
       "      <td>10000</td>\n",
       "      <td>10000</td>\n",
       "      <td>10000</td>\n",
       "      <td>36 months</td>\n",
       "      <td>11.99%</td>\n",
       "      <td>332.1</td>\n",
       "      <td>C</td>\n",
       "      <td>C1</td>\n",
       "      <td>MORTGAGE</td>\n",
       "      <td>75000</td>\n",
       "      <td>...</td>\n",
       "      <td>9</td>\n",
       "      <td>0</td>\n",
       "      <td>2</td>\n",
       "      <td>100</td>\n",
       "      <td>0</td>\n",
       "      <td>1</td>\n",
       "      <td>71858</td>\n",
       "      <td>48844</td>\n",
       "      <td>0</td>\n",
       "      <td>60358</td>\n",
       "    </tr>\n",
       "    <tr>\n",
       "      <th>3</th>\n",
       "      <td>3000</td>\n",
       "      <td>3000</td>\n",
       "      <td>3000</td>\n",
       "      <td>36 months</td>\n",
       "      <td>7.39%</td>\n",
       "      <td>93.17</td>\n",
       "      <td>A</td>\n",
       "      <td>A4</td>\n",
       "      <td>RENT</td>\n",
       "      <td>80000</td>\n",
       "      <td>...</td>\n",
       "      <td>6</td>\n",
       "      <td>0</td>\n",
       "      <td>0</td>\n",
       "      <td>95</td>\n",
       "      <td>0</td>\n",
       "      <td>0</td>\n",
       "      <td>221908</td>\n",
       "      <td>25665</td>\n",
       "      <td>42200</td>\n",
       "      <td>30936</td>\n",
       "    </tr>\n",
       "    <tr>\n",
       "      <th>4</th>\n",
       "      <td>2000</td>\n",
       "      <td>2000</td>\n",
       "      <td>2000</td>\n",
       "      <td>36 months</td>\n",
       "      <td>6.49%</td>\n",
       "      <td>61.29</td>\n",
       "      <td>A</td>\n",
       "      <td>A2</td>\n",
       "      <td>RENT</td>\n",
       "      <td>90000</td>\n",
       "      <td>...</td>\n",
       "      <td>19</td>\n",
       "      <td>0</td>\n",
       "      <td>2</td>\n",
       "      <td>97.3</td>\n",
       "      <td>0</td>\n",
       "      <td>0</td>\n",
       "      <td>176338</td>\n",
       "      <td>68841</td>\n",
       "      <td>122100</td>\n",
       "      <td>48438</td>\n",
       "    </tr>\n",
       "  </tbody>\n",
       "</table>\n",
       "<p>5 rows × 65 columns</p>\n",
       "</div>"
      ],
      "text/plain": [
       "   loan_amnt  funded_amnt funded_amnt_inv        term int_rate installment  \\\n",
       "0      17600        17600           17600   36 months   10.75%      574.12   \n",
       "1      12500        12500           12500   60 months    8.39%       255.8   \n",
       "2      10000        10000           10000   36 months   11.99%       332.1   \n",
       "3       3000         3000            3000   36 months    7.39%       93.17   \n",
       "4       2000         2000            2000   36 months    6.49%       61.29   \n",
       "\n",
       "  grade sub_grade home_ownership annual_inc             ...              \\\n",
       "0     B        B4           RENT      57109             ...               \n",
       "1     B        B1           RENT     120000             ...               \n",
       "2     C        C1       MORTGAGE      75000             ...               \n",
       "3     A        A4           RENT      80000             ...               \n",
       "4     A        A2           RENT      90000             ...               \n",
       "\n",
       "  num_sats num_tl_90g_dpd_24m num_tl_op_past_12m pct_tl_nvr_dlq  \\\n",
       "0        6                  0                  1           95.1   \n",
       "1        9                  0                  1            100   \n",
       "2        9                  0                  2            100   \n",
       "3        6                  0                  0             95   \n",
       "4       19                  0                  2           97.3   \n",
       "\n",
       "  pub_rec_bankruptcies tax_liens  tot_hi_cred_lim total_bal_ex_mort  \\\n",
       "0                    1         0            88629             83563   \n",
       "1                    0         0            80899             40673   \n",
       "2                    0         1            71858             48844   \n",
       "3                    0         0           221908             25665   \n",
       "4                    0         0           176338             68841   \n",
       "\n",
       "   total_bc_limit  total_il_high_credit_limit  \n",
       "0            2300                       80329  \n",
       "1           48400                       32499  \n",
       "2               0                       60358  \n",
       "3           42200                       30936  \n",
       "4          122100                       48438  \n",
       "\n",
       "[5 rows x 65 columns]"
      ]
     },
     "execution_count": 6,
     "metadata": {},
     "output_type": "execute_result"
    }
   ],
   "source": [
    "df.head()"
   ]
  },
  {
   "cell_type": "markdown",
   "metadata": {},
   "source": [
    "Notice that the grade and subgrade variables are assessed directly from the interest rate, that is, the variable int_rate. Thus, mere int_rate suffices to cover the information provided by them, and grade and subgrade can be removed from our list of variables. Also zip_code is not appropriate to be deemed as a variable and issue_d doesn't contain valuable information, we also drop both of them."
   ]
  },
  {
   "cell_type": "markdown",
   "metadata": {},
   "source": [
    "#### Dummy variables\n",
    "\n",
    "Among the 59 variables we have now, some of them are quantitative and have only a few statuses. For these variables, we can establish dummy variables that take either 0 or 1. For quantitative variables that have more than two categories, we combine some of to create more synthesized categories.\n",
    "\n",
    "For the resonse variable loan_status, because it has 7 different categories, Fully paid, Current, In Grace Period, Late(16-30 days), Late(31-120 days), Default, Charged Off, we want to categorize them into two groups that result to a binary variable. Since the first two categories are signs of a good status of loan, and the latter five indicate different extents of late payment, we denote good status as Fully paid or Current, and bad status as In Grace Period, Late(16-30 days), Late(31-120 days), Default or Charged Off.\n",
    "\n",
    "loan_status$=\n",
    "\\left\\{\\begin{array}{cl} \n",
    "\t\t1,& \\text{good status}\\\\\n",
    "\t\t0,& \\text{bad status}\n",
    "\t\\end{array}\\right.$\n",
    "\n",
    "And among the predictor varibles, purpose also has multiple categories: car, home-improvement, house, moving, major_purchase, renewable_enery, credit_card, debt_consolidation, small_business, medical, vacation and other, which requires many dummy variables. To make the situation simpler, except for medical, we classify car, home_improvement, house, moving, major_purchase and renewable_enery as property, credit_card, debt_consolidation and small_business as financial, vacation and other as others. Therefore, we get 4 categories of purposes, which can be represented by 3 dummy variables:\n",
    "\n",
    "purpose1$=\n",
    "\\left\\{\\begin{array}{cl} \n",
    "\t\t1,& \\text{property}\\\\\n",
    "\t\t0,& \\text{others} \n",
    "\t\\end{array}\\right.$, \n",
    "purpose2$= \n",
    "\\left\\{\\begin{array}{cl} \n",
    "\t\t1,&\\text{financial} \\\\\n",
    "\t\t0,&\\text{others} \n",
    "\t\\end{array}\\right.$, \n",
    "purpose3$=\n",
    "\\left\\{\\begin{array}{cl} \n",
    "\t\t1,&\\text{medical} \\\\\n",
    "\t\t0,&\\text{others}  \n",
    "\t\\end{array}\\right.$\n",
    "\n",
    "Also note that addr_state records the state address of the borrower. Considering the data is collected from Lending Club, which locates in San Francisco, CA, we want to know whether it makes a difference if the loan request is from an instate borrower or not. In this case, we only have to make a distinction between a California loaner and a non California borrower.\n",
    "\n",
    "addr_state$=\n",
    "\\left\\{\\begin{array}{cl} \n",
    "\t\t1,&\\text{California} \\\\\n",
    "\t\t0,&\\text{other states}  \n",
    "\t\\end{array}\\right.$\n",
    "\n",
    "Similarly, in verification_status, we combine verified and source verified as verified:\n",
    "\n",
    "verification_status$=\n",
    "\\left\\{\\begin{array}{cl} \n",
    "\t\t1,& \\text{verified}\\\\\n",
    "\t\t0, & \\text{not verified}\n",
    "\t\\end{array}\\right.$\n",
    " \n",
    "There are 4 more qualitative variables, which are coded as below:\n",
    "\n",
    "term$=\n",
    "\\left\\{\\begin{array}{cl} \n",
    "\t\t1,&\\text{36 months} \\\\\n",
    "\t\t0,&\\text{60 others}  \n",
    "\t\\end{array}\\right.$\n",
    " \n",
    "home_ownership1$=\n",
    "\\left\\{\\begin{array}{cl} \n",
    "\t\t1,& \\text{rent}\\\\\n",
    "\t\t0,& \\text{any}  \n",
    "\t\\end{array}\\right.$, \n",
    "home_ownership2$=\n",
    "\\left\\{\\begin{array}{cl} \n",
    "\t\t1,& \\text{own}\\\\\n",
    "\t\t0,& \\text{any}\n",
    "\t\\end{array}\\right.$, \n",
    "home_ownership3$=\n",
    "\\left\\{\\begin{array}{cl} \n",
    "\t\t1,& \\text{mortage}\\\\\n",
    "\t\t0,& \\text{any} \n",
    "\t\\end{array}\\right.$\n",
    "\n",
    "initial_list_status$=\n",
    "\\left\\{\\begin{array}{cl} \n",
    "\t\t1,& \\text{whole}\\\\\n",
    "\t\t0,& \\text{fraction}\n",
    "\t\\end{array}\\right.$\n",
    "\n",
    "application_type$=\n",
    "\\left\\{\\begin{array}{cl} \n",
    "\t\t1,& \\text{Individual}\\\\\n",
    "\t\t0,& \\text{Joint App}\n",
    "\t\\end{array}\\right.$"
   ]
  },
  {
   "cell_type": "code",
   "execution_count": 7,
   "metadata": {},
   "outputs": [],
   "source": [
    "data = df.copy()\n",
    "\n",
    "col_drop = ['grade','sub_grade','issue_d','earliest_cr_line','grade','zip_code',\n",
    "            'last_credit_pull_d', 'total_pymnt_inv','funded_amnt','funded_amnt_inv']\n",
    "data = data.drop(col_drop, axis = 1)\n",
    "data = data.reset_index(drop=True)"
   ]
  },
  {
   "cell_type": "code",
   "execution_count": 8,
   "metadata": {},
   "outputs": [],
   "source": [
    "y_temp = data['loan_status']"
   ]
  },
  {
   "cell_type": "code",
   "execution_count": 9,
   "metadata": {},
   "outputs": [],
   "source": [
    "# recode loan_status\n",
    "y = y_temp.copy()\n",
    "for i in range(len(y)):\n",
    "    if (y_temp[i] == 'Fully Paid') or (y_temp[i] == 'Current'):\n",
    "        y[i] = 'good'\n",
    "    else:\n",
    "        y[i] = 'bad'"
   ]
  },
  {
   "cell_type": "code",
   "execution_count": 10,
   "metadata": {},
   "outputs": [
    {
     "data": {
      "text/plain": [
       "0    good\n",
       "1    good\n",
       "2    good\n",
       "3    good\n",
       "4    good\n",
       "Name: loan_status, dtype: object"
      ]
     },
     "execution_count": 10,
     "metadata": {},
     "output_type": "execute_result"
    }
   ],
   "source": [
    "y.head()"
   ]
  },
  {
   "cell_type": "code",
   "execution_count": 11,
   "metadata": {},
   "outputs": [],
   "source": [
    "purpose_temp = data['purpose']"
   ]
  },
  {
   "cell_type": "code",
   "execution_count": 12,
   "metadata": {},
   "outputs": [],
   "source": [
    "#recode purposes\n",
    "purpose = purpose_temp.copy()\n",
    "for i in range(len(purpose)):\n",
    "    if (purpose_temp[i] == 'credit_card') or ( purpose_temp[i] == 'debt_consolidation') or (purpose_temp[i] == 'small_business'):\n",
    "        purpose[i] = 'finantial'\n",
    "    elif (purpose_temp[i] == 'vacation') or (purpose_temp[i] == 'other'):\n",
    "        purpose[i] = 'others'\n",
    "    elif purpose_temp[i] == 'medical':\n",
    "        purpose[i] == 'medical'\n",
    "    else:\n",
    "        purpose[i] = 'property'"
   ]
  },
  {
   "cell_type": "code",
   "execution_count": 13,
   "metadata": {
    "scrolled": true
   },
   "outputs": [
    {
     "data": {
      "text/plain": [
       "0    finantial\n",
       "1    finantial\n",
       "2    finantial\n",
       "3       others\n",
       "4    finantial\n",
       "Name: purpose, dtype: object"
      ]
     },
     "execution_count": 13,
     "metadata": {},
     "output_type": "execute_result"
    }
   ],
   "source": [
    "purpose.head()"
   ]
  },
  {
   "cell_type": "code",
   "execution_count": 14,
   "metadata": {},
   "outputs": [],
   "source": [
    "addr_state_temp = data['addr_state']"
   ]
  },
  {
   "cell_type": "code",
   "execution_count": 15,
   "metadata": {},
   "outputs": [],
   "source": [
    "#recode addr_state\n",
    "addr_state = addr_state_temp.copy()\n",
    "for i in range(len(y)):\n",
    "    if addr_state_temp[i] == 'CA':\n",
    "        addr_state[i] = 'CA'\n",
    "    else:\n",
    "        addr_state[i] = 'other'"
   ]
  },
  {
   "cell_type": "code",
   "execution_count": 16,
   "metadata": {},
   "outputs": [
    {
     "data": {
      "text/plain": [
       "0    other\n",
       "1    other\n",
       "2    other\n",
       "3    other\n",
       "4    other\n",
       "Name: addr_state, dtype: object"
      ]
     },
     "execution_count": 16,
     "metadata": {},
     "output_type": "execute_result"
    }
   ],
   "source": [
    "addr_state.head()"
   ]
  },
  {
   "cell_type": "code",
   "execution_count": 17,
   "metadata": {},
   "outputs": [],
   "source": [
    "verification_status_temp = data['verification_status']"
   ]
  },
  {
   "cell_type": "code",
   "execution_count": 18,
   "metadata": {},
   "outputs": [],
   "source": [
    "#recode addr_state\n",
    "verification_status = verification_status_temp.copy()\n",
    "for i in range(len(y)):\n",
    "    if verification_status_temp[i] == 'Not Verified':\n",
    "        verification_status[i] = 'not verified'\n",
    "    else:\n",
    "        verification_status[i] = 'verified'"
   ]
  },
  {
   "cell_type": "code",
   "execution_count": 19,
   "metadata": {},
   "outputs": [
    {
     "data": {
      "text/plain": [
       "0        verified\n",
       "1    not verified\n",
       "2    not verified\n",
       "3    not verified\n",
       "4    not verified\n",
       "Name: verification_status, dtype: object"
      ]
     },
     "execution_count": 19,
     "metadata": {},
     "output_type": "execute_result"
    }
   ],
   "source": [
    "verification_status.head()"
   ]
  },
  {
   "cell_type": "code",
   "execution_count": 20,
   "metadata": {},
   "outputs": [],
   "source": [
    "#Create dummy variables\n",
    "dummy1 = pd.get_dummies(y)\n",
    "dummy2 = pd.get_dummies(purpose)\n",
    "dummy3 = pd.get_dummies(addr_state)\n",
    "dummy4 = pd.get_dummies(data['term'])\n",
    "dummy5 = pd.get_dummies(data['home_ownership'])\n",
    "dummy6 = pd.get_dummies(verification_status)\n",
    "dummy7 = pd.get_dummies(data['initial_list_status'])\n",
    "dummy8 = pd.get_dummies(data['application_type'])"
   ]
  },
  {
   "cell_type": "code",
   "execution_count": 21,
   "metadata": {},
   "outputs": [],
   "source": [
    "data_category = ['loan_status','verification_status','addr_state', 'term', 'initial_list_status',\n",
    "                 'application_type','finantial','medical','property','MORTGAGE','OWN','RENT']"
   ]
  },
  {
   "cell_type": "code",
   "execution_count": 22,
   "metadata": {
    "scrolled": false
   },
   "outputs": [
    {
     "data": {
      "text/html": [
       "<div>\n",
       "<style scoped>\n",
       "    .dataframe tbody tr th:only-of-type {\n",
       "        vertical-align: middle;\n",
       "    }\n",
       "\n",
       "    .dataframe tbody tr th {\n",
       "        vertical-align: top;\n",
       "    }\n",
       "\n",
       "    .dataframe thead th {\n",
       "        text-align: right;\n",
       "    }\n",
       "</style>\n",
       "<table border=\"1\" class=\"dataframe\">\n",
       "  <thead>\n",
       "    <tr style=\"text-align: right;\">\n",
       "      <th></th>\n",
       "      <th>loan_amnt</th>\n",
       "      <th>term</th>\n",
       "      <th>int_rate</th>\n",
       "      <th>installment</th>\n",
       "      <th>annual_inc</th>\n",
       "      <th>verification_status</th>\n",
       "      <th>loan_status</th>\n",
       "      <th>addr_state</th>\n",
       "      <th>delinq_2yrs</th>\n",
       "      <th>open_acc</th>\n",
       "      <th>...</th>\n",
       "      <th>tot_hi_cred_lim</th>\n",
       "      <th>total_bal_ex_mort</th>\n",
       "      <th>total_bc_limit</th>\n",
       "      <th>total_il_high_credit_limit</th>\n",
       "      <th>finantial</th>\n",
       "      <th>medical</th>\n",
       "      <th>property</th>\n",
       "      <th>MORTGAGE</th>\n",
       "      <th>OWN</th>\n",
       "      <th>RENT</th>\n",
       "    </tr>\n",
       "  </thead>\n",
       "  <tbody>\n",
       "    <tr>\n",
       "      <th>0</th>\n",
       "      <td>17600.0</td>\n",
       "      <td>1.0</td>\n",
       "      <td>0.1075</td>\n",
       "      <td>574.12</td>\n",
       "      <td>57109.0</td>\n",
       "      <td>1.0</td>\n",
       "      <td>1.0</td>\n",
       "      <td>0.0</td>\n",
       "      <td>0.0</td>\n",
       "      <td>6.0</td>\n",
       "      <td>...</td>\n",
       "      <td>88629.0</td>\n",
       "      <td>83563.0</td>\n",
       "      <td>2300.0</td>\n",
       "      <td>80329.0</td>\n",
       "      <td>1.0</td>\n",
       "      <td>0.0</td>\n",
       "      <td>0.0</td>\n",
       "      <td>0.0</td>\n",
       "      <td>0.0</td>\n",
       "      <td>1.0</td>\n",
       "    </tr>\n",
       "    <tr>\n",
       "      <th>1</th>\n",
       "      <td>12500.0</td>\n",
       "      <td>0.0</td>\n",
       "      <td>0.0839</td>\n",
       "      <td>255.80</td>\n",
       "      <td>120000.0</td>\n",
       "      <td>0.0</td>\n",
       "      <td>1.0</td>\n",
       "      <td>0.0</td>\n",
       "      <td>0.0</td>\n",
       "      <td>9.0</td>\n",
       "      <td>...</td>\n",
       "      <td>80899.0</td>\n",
       "      <td>40673.0</td>\n",
       "      <td>48400.0</td>\n",
       "      <td>32499.0</td>\n",
       "      <td>1.0</td>\n",
       "      <td>0.0</td>\n",
       "      <td>0.0</td>\n",
       "      <td>0.0</td>\n",
       "      <td>0.0</td>\n",
       "      <td>1.0</td>\n",
       "    </tr>\n",
       "    <tr>\n",
       "      <th>2</th>\n",
       "      <td>10000.0</td>\n",
       "      <td>1.0</td>\n",
       "      <td>0.1199</td>\n",
       "      <td>332.10</td>\n",
       "      <td>75000.0</td>\n",
       "      <td>0.0</td>\n",
       "      <td>1.0</td>\n",
       "      <td>0.0</td>\n",
       "      <td>0.0</td>\n",
       "      <td>9.0</td>\n",
       "      <td>...</td>\n",
       "      <td>71858.0</td>\n",
       "      <td>48844.0</td>\n",
       "      <td>0.0</td>\n",
       "      <td>60358.0</td>\n",
       "      <td>1.0</td>\n",
       "      <td>0.0</td>\n",
       "      <td>0.0</td>\n",
       "      <td>1.0</td>\n",
       "      <td>0.0</td>\n",
       "      <td>0.0</td>\n",
       "    </tr>\n",
       "    <tr>\n",
       "      <th>3</th>\n",
       "      <td>3000.0</td>\n",
       "      <td>1.0</td>\n",
       "      <td>0.0739</td>\n",
       "      <td>93.17</td>\n",
       "      <td>80000.0</td>\n",
       "      <td>0.0</td>\n",
       "      <td>1.0</td>\n",
       "      <td>0.0</td>\n",
       "      <td>1.0</td>\n",
       "      <td>6.0</td>\n",
       "      <td>...</td>\n",
       "      <td>221908.0</td>\n",
       "      <td>25665.0</td>\n",
       "      <td>42200.0</td>\n",
       "      <td>30936.0</td>\n",
       "      <td>0.0</td>\n",
       "      <td>0.0</td>\n",
       "      <td>0.0</td>\n",
       "      <td>0.0</td>\n",
       "      <td>0.0</td>\n",
       "      <td>1.0</td>\n",
       "    </tr>\n",
       "    <tr>\n",
       "      <th>4</th>\n",
       "      <td>2000.0</td>\n",
       "      <td>1.0</td>\n",
       "      <td>0.0649</td>\n",
       "      <td>61.29</td>\n",
       "      <td>90000.0</td>\n",
       "      <td>0.0</td>\n",
       "      <td>1.0</td>\n",
       "      <td>0.0</td>\n",
       "      <td>0.0</td>\n",
       "      <td>19.0</td>\n",
       "      <td>...</td>\n",
       "      <td>176338.0</td>\n",
       "      <td>68841.0</td>\n",
       "      <td>122100.0</td>\n",
       "      <td>48438.0</td>\n",
       "      <td>1.0</td>\n",
       "      <td>0.0</td>\n",
       "      <td>0.0</td>\n",
       "      <td>0.0</td>\n",
       "      <td>0.0</td>\n",
       "      <td>1.0</td>\n",
       "    </tr>\n",
       "  </tbody>\n",
       "</table>\n",
       "<p>5 rows × 60 columns</p>\n",
       "</div>"
      ],
      "text/plain": [
       "   loan_amnt  term  int_rate  installment  annual_inc  verification_status  \\\n",
       "0    17600.0   1.0    0.1075       574.12     57109.0                  1.0   \n",
       "1    12500.0   0.0    0.0839       255.80    120000.0                  0.0   \n",
       "2    10000.0   1.0    0.1199       332.10     75000.0                  0.0   \n",
       "3     3000.0   1.0    0.0739        93.17     80000.0                  0.0   \n",
       "4     2000.0   1.0    0.0649        61.29     90000.0                  0.0   \n",
       "\n",
       "   loan_status  addr_state  delinq_2yrs  open_acc  ...   tot_hi_cred_lim  \\\n",
       "0          1.0         0.0          0.0       6.0  ...           88629.0   \n",
       "1          1.0         0.0          0.0       9.0  ...           80899.0   \n",
       "2          1.0         0.0          0.0       9.0  ...           71858.0   \n",
       "3          1.0         0.0          1.0       6.0  ...          221908.0   \n",
       "4          1.0         0.0          0.0      19.0  ...          176338.0   \n",
       "\n",
       "   total_bal_ex_mort  total_bc_limit  total_il_high_credit_limit  finantial  \\\n",
       "0            83563.0          2300.0                     80329.0        1.0   \n",
       "1            40673.0         48400.0                     32499.0        1.0   \n",
       "2            48844.0             0.0                     60358.0        1.0   \n",
       "3            25665.0         42200.0                     30936.0        0.0   \n",
       "4            68841.0        122100.0                     48438.0        1.0   \n",
       "\n",
       "   medical  property  MORTGAGE  OWN  RENT  \n",
       "0      0.0       0.0       0.0  0.0   1.0  \n",
       "1      0.0       0.0       0.0  0.0   1.0  \n",
       "2      0.0       0.0       1.0  0.0   0.0  \n",
       "3      0.0       0.0       0.0  0.0   1.0  \n",
       "4      0.0       0.0       0.0  0.0   1.0  \n",
       "\n",
       "[5 rows x 60 columns]"
      ]
     },
     "execution_count": 22,
     "metadata": {},
     "output_type": "execute_result"
    }
   ],
   "source": [
    "#Insert dummy variables into dataset\n",
    "data['loan_status'] = dummy1['good']\n",
    "data['addr_state'] = dummy3['CA']\n",
    "data['term'] = dummy4[' 36 months']\n",
    "data['verification_status'] = dummy6['verified']\n",
    "data['initial_list_status'] = dummy7['w']\n",
    "data['application_type'] = dummy8['Individual']\n",
    "\n",
    "data = data.drop(['purpose','home_ownership'], axis = 1)\n",
    "data = pd.concat([data, dummy2.iloc[:,[0,1,3]],dummy5.iloc[:,1:4]],axis = 1)\n",
    "\n",
    "# convert all data as float\n",
    "data['int_rate'] = [x[:-1] for x in data['int_rate']]\n",
    "data = data.astype(float)\n",
    "data['int_rate'] = data['int_rate']/100\n",
    "\n",
    "data.head()"
   ]
  },
  {
   "cell_type": "markdown",
   "metadata": {},
   "source": [
    "dummy1['good']\n",
    "\n",
    "dummy2.iloc[:,[0,1,3]]\n",
    "\n",
    "dummy3['CA']\n",
    "\n",
    "dummy4[' 36 months']\n",
    "\n",
    "dummy5.iloc[:,1:4]\n",
    "\n",
    "dummy6['verified']\n",
    "\n",
    "dummy7['w']\n",
    "\n",
    "dummy8['Individual']"
   ]
  },
  {
   "cell_type": "code",
   "execution_count": 30,
   "metadata": {},
   "outputs": [],
   "source": [
    "data_lasso = data.copy()"
   ]
  },
  {
   "cell_type": "code",
   "execution_count": 31,
   "metadata": {
    "scrolled": true
   },
   "outputs": [],
   "source": [
    "from  sklearn.preprocessing  import scale\n",
    "data_lasso[data.columns[~data_lasso.columns.isin(data_category)]]=scale(data_lasso[data.columns[~data_lasso.columns.isin(data_category)]])"
   ]
  },
  {
   "cell_type": "code",
   "execution_count": 32,
   "metadata": {},
   "outputs": [],
   "source": [
    "X = data_lasso[data_lasso.columns.difference(['loan_status'])].values\n",
    "y = data_lasso.loc[:, 'loan_status'].values"
   ]
  },
  {
   "cell_type": "code",
   "execution_count": 33,
   "metadata": {},
   "outputs": [],
   "source": [
    "X=X.astype(float)"
   ]
  },
  {
   "cell_type": "markdown",
   "metadata": {},
   "source": [
    "Through setting the threshold - the coefficient is larger than $0.05$, we finally get the following $25$ X variables:\n",
    "\n",
    "1) loan_amount: the list amount of the loan applied by the borrowers;\n",
    "\n",
    "2)* term: The number of payments on the loan. 36months/60months;\n",
    "\n",
    "3) int_rate: interest rate on the loan;\n",
    "\n",
    "4) annual_inc: The self-reported annual income provided by the borrower during registration;\n",
    "\n",
    "5) delinq_2yrs: The number of 30+ days past-due incidences of delinquency in the borrower's credit file for the past 2 years;\n",
    "\n",
    "6) total_acc:  The total number of credit lines currently in the borrower's credit file;\n",
    "\n",
    "7)* initial_list_status: The initial listing status of the loan. Possible values are – W, F;\n",
    "\n",
    "8) out_prncp_inv: Remaining outstanding principal for portion of total amount funded by investors;\n",
    "\n",
    "9) total_pymnt: Payments received to date for total amount funded;\n",
    "\n",
    "10) total_rec_prncp: Principal received to date;\n",
    "\n",
    "11) total_rec_int: Interest received to date;\n",
    "\n",
    "12) total_rec_late_fee: Late fees received to date;\n",
    "\n",
    "13) recoveries: post charge off gross recovery;\n",
    "\n",
    "14) num_bc_sats: Number of satisfactory bankcard accounts;\n",
    "\n",
    "15) num_bc_tl: Number of bankcard accounts;\n",
    "\n",
    "16) num_op_rev_tl: Number of open revolving accounts;\n",
    "\n",
    "17) num_rev_tl_bal_gt_0: Number of revolving trades with balance >0;\n",
    "\n",
    "18) num_sats: Number of satisfactory accounts;\n",
    "\n",
    "19) num_tl_op_past_12m: Number of accounts opened in past 12 months;\n",
    "\n",
    "20) total_bc_limit: Total bankcard high credit/credit limit;\n",
    "\n",
    "21)* finantial, medical, property: Purpose;\n",
    "\n",
    "22)* MORTGAGE, RENT: home_ownership."
   ]
  },
  {
   "cell_type": "code",
   "execution_count": 34,
   "metadata": {},
   "outputs": [],
   "source": [
    "selected_X_0 = ['loan_amnt', 'term', 'int_rate', 'annual_inc', 'out_prncp',\n",
    "       'total_rec_prncp', 'total_rec_int', 'total_rec_late_fee', 'recoveries',\n",
    "       'last_pymnt_amnt', 'num_bc_tl', 'num_op_rev_tl', 'num_rev_tl_bal_gt_0',\n",
    "       'num_tl_op_past_12m', 'total_bc_limit', 'finantial', 'property',\n",
    "       'MORTGAGE']"
   ]
  },
  {
   "cell_type": "code",
   "execution_count": 35,
   "metadata": {},
   "outputs": [],
   "source": [
    "data_fnl = pd.concat([data_lasso[selected_X_0], data_lasso['loan_status']],axis = 1)"
   ]
  },
  {
   "cell_type": "code",
   "execution_count": 36,
   "metadata": {},
   "outputs": [],
   "source": [
    "### training and test set split\n",
    "#Split the data into training set(75% of data) and testing set(25% of data)\n",
    "from sklearn.model_selection import train_test_split\n",
    "\n",
    "train, test = train_test_split(data_fnl, test_size = 0.25, random_state = 0)\n",
    "\n",
    "## get the train and test data set\n",
    "X_tr = train[train.columns.difference(['loan_status'])].values\n",
    "y_tr = train.loc[:, 'loan_status'].values\n",
    "\n",
    "X_te = test[test.columns.difference(['loan_status'])].values\n",
    "y_te = test.loc[:, 'loan_status'].values"
   ]
  },
  {
   "cell_type": "markdown",
   "metadata": {
    "collapsed": true
   },
   "source": [
    "### PCA\n",
    "\n",
    "https://jakevdp.github.io/PythonDataScienceHandbook/05.09-principal-component-analysis.html\n",
    "\n",
    "http://scikit-learn.org/stable/auto_examples/datasets/plot_iris_dataset.html#sphx-glr-auto-examples-datasets-plot-iris-dataset-py\n"
   ]
  },
  {
   "cell_type": "markdown",
   "metadata": {},
   "source": [
    "Since we have 62 predictor varaibles in total, dimension reduction of the design matrix is required in order to investigate into how different the borrowers are that results into their current loan status."
   ]
  },
  {
   "cell_type": "code",
   "execution_count": 34,
   "metadata": {},
   "outputs": [],
   "source": [
    "import matplotlib.pyplot as plt\n",
    "from mpl_toolkits.mplot3d import Axes3D\n",
    "from sklearn import datasets\n",
    "from sklearn.decomposition import PCA"
   ]
  },
  {
   "cell_type": "code",
   "execution_count": 35,
   "metadata": {},
   "outputs": [
    {
     "data": {
      "text/plain": [
       "PCA(copy=True, iterated_power='auto', n_components=None, random_state=None,\n",
       "  svd_solver='auto', tol=0.0, whiten=False)"
      ]
     },
     "execution_count": 35,
     "metadata": {},
     "output_type": "execute_result"
    }
   ],
   "source": [
    "pca = PCA()\n",
    "pca.fit(X)"
   ]
  },
  {
   "cell_type": "code",
   "execution_count": 36,
   "metadata": {},
   "outputs": [
    {
     "name": "stdout",
     "output_type": "stream",
     "text": [
      "[[  4.13929757e-02  -2.22730688e-04  -4.11721513e-02 ...,   1.27766177e-01\n",
      "    2.17455070e-01  -4.71501453e-03]\n",
      " [  5.75084541e-02  -6.01137543e-03  -5.14881632e-02 ...,   2.16542564e-01\n",
      "    7.78261882e-02   4.03010797e-03]\n",
      " [  6.26512148e-02  -5.13189282e-03  -5.75465415e-02 ...,  -8.07356928e-02\n",
      "   -2.84911776e-02  -6.73370933e-03]\n",
      " ..., \n",
      " [ -5.77222944e-01  -5.77533162e-01  -5.77293999e-01 ...,   6.20046338e-05\n",
      "    4.03988407e-05   2.28788328e-05]\n",
      " [ -3.23975238e-04  -3.16918038e-04  -3.49864701e-04 ...,  -3.22484567e-06\n",
      "    1.29940330e-05  -1.43578917e-05]\n",
      " [ -4.44142244e-10  -1.50561669e-09  -7.63254680e-10 ...,   6.55767964e-01\n",
      "   -8.14407527e-10  -2.49064144e-10]]\n"
     ]
    }
   ],
   "source": [
    "print(pca.components_)"
   ]
  },
  {
   "cell_type": "code",
   "execution_count": 37,
   "metadata": {},
   "outputs": [
    {
     "name": "stdout",
     "output_type": "stream",
     "text": [
      "[  9.81608413e+00   5.14510008e+00   3.30906292e+00   2.88422094e+00\n",
      "   2.72092967e+00   2.33921190e+00   2.09417275e+00   1.79930456e+00\n",
      "   1.39233096e+00   1.19027838e+00   1.17970868e+00   1.08317101e+00\n",
      "   1.03463236e+00   9.82473151e-01   9.73164645e-01   9.53992859e-01\n",
      "   8.82861841e-01   8.48981876e-01   8.14369183e-01   8.00570650e-01\n",
      "   7.04152437e-01   6.82601906e-01   6.02410250e-01   5.59861184e-01\n",
      "   4.82021733e-01   4.59159384e-01   4.38914804e-01   3.62848800e-01\n",
      "   3.28550660e-01   2.69739364e-01   2.37887970e-01   2.20793108e-01\n",
      "   2.14864436e-01   2.07547806e-01   2.03035497e-01   1.82409598e-01\n",
      "   1.58820378e-01   1.57621314e-01   1.33244199e-01   1.13242831e-01\n",
      "   1.05864302e-01   1.04460066e-01   7.87383836e-02   7.10033312e-02\n",
      "   5.74312793e-02   4.89953398e-02   3.78087598e-02   3.55634673e-02\n",
      "   2.02333992e-02   1.93966079e-02   1.72375628e-02   1.22584917e-02\n",
      "   1.00650657e-02   6.38446061e-03   1.64925405e-03   1.00701473e-03\n",
      "   8.43423279e-05   2.49288898e-06   1.66899458e-14]\n"
     ]
    }
   ],
   "source": [
    "print(pca.explained_variance_)"
   ]
  },
  {
   "cell_type": "markdown",
   "metadata": {},
   "source": [
    "If keeping the components that explain variances larger than 0.5, the first 24 components should be chosen as principal compnents."
   ]
  },
  {
   "cell_type": "code",
   "execution_count": 38,
   "metadata": {},
   "outputs": [
    {
     "data": {
      "image/png": "[encoded data removed]",
      "text/plain": [
       "<matplotlib.figure.Figure at 0x4fb99278>"
      ]
     },
     "metadata": {},
     "output_type": "display_data"
    }
   ],
   "source": [
    "# plot the first three PCA dimensions\n",
    "fig = plt.figure(1, figsize=(8, 6))\n",
    "ax = Axes3D(fig, elev=-150, azim=110)\n",
    "X_reduced = PCA(n_components=3).fit_transform(X,y)\n",
    "ax.scatter(X_reduced[:, 0], X_reduced[:, 1], X_reduced[:, 2], c=y,\n",
    "           cmap=plt.cm.Set1, edgecolor='k', s=40)\n",
    "ax.set_title(\"First three PCA directions\")\n",
    "ax.set_xlabel(\"1st eigenvector\")\n",
    "ax.w_xaxis.set_ticklabels([])\n",
    "ax.set_ylabel(\"2nd eigenvector\")\n",
    "ax.w_yaxis.set_ticklabels([])\n",
    "ax.set_zlabel(\"3rd eigenvector\")\n",
    "ax.w_zaxis.set_ticklabels([])\n",
    "\n",
    "plt.show()"
   ]
  },
  {
   "cell_type": "code",
   "execution_count": 40,
   "metadata": {},
   "outputs": [],
   "source": [
    "pc = pca.components_[:24]\n",
    "pc = pd.DataFrame(pc)\n",
    "pc.columns = data.drop(['loan_status'],axis = 1).columns.values"
   ]
  },
  {
   "cell_type": "code",
   "execution_count": 41,
   "metadata": {},
   "outputs": [
    {
     "data": {
      "text/html": [
       "<div>\n",
       "<style scoped>\n",
       "    .dataframe tbody tr th:only-of-type {\n",
       "        vertical-align: middle;\n",
       "    }\n",
       "\n",
       "    .dataframe tbody tr th {\n",
       "        vertical-align: top;\n",
       "    }\n",
       "\n",
       "    .dataframe thead th {\n",
       "        text-align: right;\n",
       "    }\n",
       "</style>\n",
       "<table border=\"1\" class=\"dataframe\">\n",
       "  <thead>\n",
       "    <tr style=\"text-align: right;\">\n",
       "      <th></th>\n",
       "      <th>loan_amnt</th>\n",
       "      <th>term</th>\n",
       "      <th>int_rate</th>\n",
       "      <th>installment</th>\n",
       "      <th>annual_inc</th>\n",
       "      <th>verification_status</th>\n",
       "      <th>addr_state</th>\n",
       "      <th>delinq_2yrs</th>\n",
       "      <th>open_acc</th>\n",
       "      <th>revol_bal</th>\n",
       "      <th>...</th>\n",
       "      <th>tot_hi_cred_lim</th>\n",
       "      <th>total_bal_ex_mort</th>\n",
       "      <th>total_bc_limit</th>\n",
       "      <th>total_il_high_credit_limit</th>\n",
       "      <th>finantial</th>\n",
       "      <th>medical</th>\n",
       "      <th>property</th>\n",
       "      <th>MORTGAGE</th>\n",
       "      <th>OWN</th>\n",
       "      <th>RENT</th>\n",
       "    </tr>\n",
       "  </thead>\n",
       "  <tbody>\n",
       "    <tr>\n",
       "      <th>0</th>\n",
       "      <td>0.041393</td>\n",
       "      <td>-0.000223</td>\n",
       "      <td>-0.041172</td>\n",
       "      <td>0.006078</td>\n",
       "      <td>0.139716</td>\n",
       "      <td>-0.000627</td>\n",
       "      <td>0.109445</td>\n",
       "      <td>-0.000486</td>\n",
       "      <td>0.056315</td>\n",
       "      <td>0.002510</td>\n",
       "      <td>...</td>\n",
       "      <td>0.230702</td>\n",
       "      <td>0.166745</td>\n",
       "      <td>0.206512</td>\n",
       "      <td>0.120172</td>\n",
       "      <td>0.146471</td>\n",
       "      <td>0.116288</td>\n",
       "      <td>0.009507</td>\n",
       "      <td>0.127766</td>\n",
       "      <td>0.217455</td>\n",
       "      <td>-0.004715</td>\n",
       "    </tr>\n",
       "    <tr>\n",
       "      <th>1</th>\n",
       "      <td>0.057508</td>\n",
       "      <td>-0.006011</td>\n",
       "      <td>-0.051488</td>\n",
       "      <td>0.005614</td>\n",
       "      <td>-0.181729</td>\n",
       "      <td>0.002842</td>\n",
       "      <td>0.151799</td>\n",
       "      <td>-0.004056</td>\n",
       "      <td>0.277776</td>\n",
       "      <td>-0.002107</td>\n",
       "      <td>...</td>\n",
       "      <td>-0.075890</td>\n",
       "      <td>0.136721</td>\n",
       "      <td>0.056838</td>\n",
       "      <td>0.110612</td>\n",
       "      <td>0.244053</td>\n",
       "      <td>0.192501</td>\n",
       "      <td>0.030682</td>\n",
       "      <td>0.216543</td>\n",
       "      <td>0.077826</td>\n",
       "      <td>0.004030</td>\n",
       "    </tr>\n",
       "    <tr>\n",
       "      <th>2</th>\n",
       "      <td>0.062651</td>\n",
       "      <td>-0.005132</td>\n",
       "      <td>-0.057547</td>\n",
       "      <td>0.031068</td>\n",
       "      <td>0.135233</td>\n",
       "      <td>-0.007176</td>\n",
       "      <td>0.075435</td>\n",
       "      <td>0.003125</td>\n",
       "      <td>0.221019</td>\n",
       "      <td>0.044761</td>\n",
       "      <td>...</td>\n",
       "      <td>0.201664</td>\n",
       "      <td>0.233746</td>\n",
       "      <td>-0.091244</td>\n",
       "      <td>0.275564</td>\n",
       "      <td>-0.133931</td>\n",
       "      <td>-0.242759</td>\n",
       "      <td>-0.010542</td>\n",
       "      <td>-0.080736</td>\n",
       "      <td>-0.028491</td>\n",
       "      <td>-0.006734</td>\n",
       "    </tr>\n",
       "    <tr>\n",
       "      <th>3</th>\n",
       "      <td>0.028586</td>\n",
       "      <td>0.006241</td>\n",
       "      <td>-0.034850</td>\n",
       "      <td>-0.012487</td>\n",
       "      <td>-0.188387</td>\n",
       "      <td>0.008204</td>\n",
       "      <td>0.027796</td>\n",
       "      <td>0.005421</td>\n",
       "      <td>0.112887</td>\n",
       "      <td>-0.043999</td>\n",
       "      <td>...</td>\n",
       "      <td>-0.092625</td>\n",
       "      <td>-0.079145</td>\n",
       "      <td>0.222063</td>\n",
       "      <td>-0.167085</td>\n",
       "      <td>-0.011096</td>\n",
       "      <td>-0.336333</td>\n",
       "      <td>-0.079128</td>\n",
       "      <td>0.093547</td>\n",
       "      <td>0.223750</td>\n",
       "      <td>-0.049851</td>\n",
       "    </tr>\n",
       "    <tr>\n",
       "      <th>4</th>\n",
       "      <td>0.021804</td>\n",
       "      <td>0.000552</td>\n",
       "      <td>-0.022428</td>\n",
       "      <td>0.024127</td>\n",
       "      <td>-0.153999</td>\n",
       "      <td>-0.005978</td>\n",
       "      <td>0.029583</td>\n",
       "      <td>0.000629</td>\n",
       "      <td>0.089828</td>\n",
       "      <td>0.020790</td>\n",
       "      <td>...</td>\n",
       "      <td>-0.007549</td>\n",
       "      <td>0.068146</td>\n",
       "      <td>0.068008</td>\n",
       "      <td>0.022860</td>\n",
       "      <td>-0.360003</td>\n",
       "      <td>0.028662</td>\n",
       "      <td>0.000200</td>\n",
       "      <td>-0.402689</td>\n",
       "      <td>0.098531</td>\n",
       "      <td>-0.026614</td>\n",
       "    </tr>\n",
       "  </tbody>\n",
       "</table>\n",
       "<p>5 rows × 59 columns</p>\n",
       "</div>"
      ],
      "text/plain": [
       "   loan_amnt      term  int_rate  installment  annual_inc  \\\n",
       "0   0.041393 -0.000223 -0.041172     0.006078    0.139716   \n",
       "1   0.057508 -0.006011 -0.051488     0.005614   -0.181729   \n",
       "2   0.062651 -0.005132 -0.057547     0.031068    0.135233   \n",
       "3   0.028586  0.006241 -0.034850    -0.012487   -0.188387   \n",
       "4   0.021804  0.000552 -0.022428     0.024127   -0.153999   \n",
       "\n",
       "   verification_status  addr_state  delinq_2yrs  open_acc  revol_bal  \\\n",
       "0            -0.000627    0.109445    -0.000486  0.056315   0.002510   \n",
       "1             0.002842    0.151799    -0.004056  0.277776  -0.002107   \n",
       "2            -0.007176    0.075435     0.003125  0.221019   0.044761   \n",
       "3             0.008204    0.027796     0.005421  0.112887  -0.043999   \n",
       "4            -0.005978    0.029583     0.000629  0.089828   0.020790   \n",
       "\n",
       "     ...     tot_hi_cred_lim  total_bal_ex_mort  total_bc_limit  \\\n",
       "0    ...            0.230702           0.166745        0.206512   \n",
       "1    ...           -0.075890           0.136721        0.056838   \n",
       "2    ...            0.201664           0.233746       -0.091244   \n",
       "3    ...           -0.092625          -0.079145        0.222063   \n",
       "4    ...           -0.007549           0.068146        0.068008   \n",
       "\n",
       "   total_il_high_credit_limit  finantial   medical  property  MORTGAGE  \\\n",
       "0                    0.120172   0.146471  0.116288  0.009507  0.127766   \n",
       "1                    0.110612   0.244053  0.192501  0.030682  0.216543   \n",
       "2                    0.275564  -0.133931 -0.242759 -0.010542 -0.080736   \n",
       "3                   -0.167085  -0.011096 -0.336333 -0.079128  0.093547   \n",
       "4                    0.022860  -0.360003  0.028662  0.000200 -0.402689   \n",
       "\n",
       "        OWN      RENT  \n",
       "0  0.217455 -0.004715  \n",
       "1  0.077826  0.004030  \n",
       "2 -0.028491 -0.006734  \n",
       "3  0.223750 -0.049851  \n",
       "4  0.098531 -0.026614  \n",
       "\n",
       "[5 rows x 59 columns]"
      ]
     },
     "execution_count": 41,
     "metadata": {},
     "output_type": "execute_result"
    }
   ],
   "source": [
    "pc.head()"
   ]
  },
  {
   "cell_type": "code",
   "execution_count": 42,
   "metadata": {
    "scrolled": false
   },
   "outputs": [
    {
     "name": "stdout",
     "output_type": "stream",
     "text": [
      "component 1:\n",
      " total_rev_hi_lim            0.218828\n",
      "acc_open_past_24mths        0.227593\n",
      "avg_cur_bal                 0.237175\n",
      "chargeoff_within_12_mths    0.226499\n",
      "mo_sin_old_rev_tl_op        0.249543\n",
      "mo_sin_rcnt_rev_tl_op       0.234723\n",
      "mo_sin_rcnt_tl              0.225950\n",
      "mort_acc                    0.255642\n",
      "num_actv_rev_tl             0.256476\n",
      "tot_hi_cred_lim             0.230702\n",
      "total_bc_limit              0.206512\n",
      "OWN                         0.217455\n",
      "Name: 0, dtype: float64\n",
      "\n",
      "component 2:\n",
      " open_acc                0.277776\n",
      "total_rec_prncp         0.250020\n",
      "recoveries              0.268844\n",
      "mo_sin_old_rev_tl_op   -0.212607\n",
      "pub_rec_bankruptcies    0.230360\n",
      "tax_liens               0.222157\n",
      "finantial               0.244053\n",
      "MORTGAGE                0.216543\n",
      "Name: 1, dtype: float64\n",
      "\n",
      "component 3:\n",
      " open_acc                      0.221019\n",
      "recoveries                   -0.208166\n",
      "delinq_amnt                   0.287357\n",
      "num_bc_sats                  -0.229216\n",
      "num_bc_tl                    -0.229209\n",
      "pub_rec_bankruptcies          0.255811\n",
      "tax_liens                     0.237132\n",
      "tot_hi_cred_lim               0.201664\n",
      "total_bal_ex_mort             0.233746\n",
      "total_il_high_credit_limit    0.275564\n",
      "medical                      -0.242759\n",
      "Name: 2, dtype: float64\n",
      "\n",
      "component 4:\n",
      " total_rec_int    -0.340413\n",
      "delinq_amnt      -0.220270\n",
      "num_bc_sats      -0.269202\n",
      "num_bc_tl        -0.269191\n",
      "total_bc_limit    0.222063\n",
      "medical          -0.336333\n",
      "OWN               0.223750\n",
      "Name: 3, dtype: float64\n",
      "\n",
      "component 5:\n",
      " total_rec_late_fee   -0.469251\n",
      "num_bc_sats           0.333042\n",
      "num_bc_tl             0.333038\n",
      "finantial            -0.360003\n",
      "MORTGAGE             -0.402689\n",
      "Name: 4, dtype: float64\n",
      "\n",
      "component 6:\n",
      " initial_list_status      0.440582\n",
      "tot_cur_bal              0.351879\n",
      "num_accts_ever_120_pd    0.417503\n",
      "num_il_tl               -0.401180\n",
      "Name: 5, dtype: float64\n",
      "\n",
      "component 7:\n",
      " total_acc              0.643011\n",
      "num_rev_tl_bal_gt_0    0.642892\n",
      "Name: 6, dtype: float64\n",
      "\n",
      "component 8:\n",
      " open_acc                      0.258121\n",
      "application_type             -0.314532\n",
      "acc_now_delinq               -0.328150\n",
      "tot_coll_amt                  0.261453\n",
      "delinq_amnt                  -0.344904\n",
      "num_actv_bc_tl                0.269865\n",
      "total_bal_ex_mort            -0.286841\n",
      "total_il_high_credit_limit   -0.320547\n",
      "Name: 7, dtype: float64\n",
      "\n",
      "component 9:\n",
      " last_pymnt_amnt             0.364008\n",
      "tot_coll_amt                0.290377\n",
      "chargeoff_within_12_mths    0.201002\n",
      "mo_sin_rcnt_rev_tl_op       0.278847\n",
      "num_rev_accts               0.287110\n",
      "num_sats                   -0.280413\n",
      "tot_hi_cred_lim             0.308717\n",
      "Name: 8, dtype: float64\n",
      "\n",
      "component 10:\n",
      " installment    0.646483\n",
      "out_prncp      0.624852\n",
      "tot_cur_bal   -0.253344\n",
      "num_il_tl      0.211202\n",
      "Name: 9, dtype: float64\n",
      "\n",
      "component 11:\n",
      " open_acc               -0.215570\n",
      "total_rec_int          -0.244096\n",
      "application_type       -0.325086\n",
      "acc_now_delinq         -0.317272\n",
      "acc_open_past_24mths   -0.283530\n",
      "mo_sin_rcnt_tl         -0.288720\n",
      "total_bc_limit          0.313063\n",
      "OWN                     0.301625\n",
      "Name: 10, dtype: float64\n",
      "\n",
      "component 12:\n",
      " installment              0.206588\n",
      "revol_bal               -0.314444\n",
      "initial_list_status     -0.232308\n",
      "out_prncp                0.311628\n",
      "tot_cur_bal              0.308618\n",
      "num_accts_ever_120_pd   -0.284611\n",
      "num_il_tl               -0.253207\n",
      "num_tl_90g_dpd_24m       0.296464\n",
      "pct_tl_nvr_dlq           0.534232\n",
      "Name: 11, dtype: float64\n",
      "\n",
      "component 13:\n",
      " num_rev_accts         0.478508\n",
      "num_tl_90g_dpd_24m    0.732767\n",
      "property              0.204673\n",
      "Name: 12, dtype: float64\n",
      "\n",
      "component 14:\n",
      " revol_bal        -0.276735\n",
      "pct_tl_nvr_dlq   -0.247923\n",
      "property          0.883786\n",
      "Name: 13, dtype: float64\n",
      "\n",
      "component 15:\n",
      " revol_bal             0.256955\n",
      "total_rec_int         0.305869\n",
      "num_rev_accts         0.392296\n",
      "num_sats              0.299330\n",
      "num_tl_90g_dpd_24m   -0.418847\n",
      "pct_tl_nvr_dlq        0.412178\n",
      "property              0.236133\n",
      "Name: 14, dtype: float64\n",
      "\n",
      "component 16:\n",
      " revol_bal         0.583011\n",
      "num_il_tl         0.204980\n",
      "num_rev_accts    -0.288610\n",
      "num_sats         -0.214100\n",
      "pct_tl_nvr_dlq    0.461726\n",
      "property          0.295109\n",
      "Name: 15, dtype: float64\n",
      "\n",
      "component 17:\n",
      " revol_bal               -0.516117\n",
      "initial_list_status      0.354637\n",
      "tot_cur_bal             -0.299036\n",
      "num_accts_ever_120_pd    0.292223\n",
      "num_rev_accts            0.223653\n",
      "pct_tl_nvr_dlq           0.430479\n",
      "Name: 16, dtype: float64\n",
      "\n",
      "component 18:\n",
      " addr_state            0.492094\n",
      "out_prncp             0.282593\n",
      "total_rec_int        -0.279394\n",
      "num_rev_accts         0.370919\n",
      "num_tl_90g_dpd_24m   -0.335776\n",
      "Name: 17, dtype: float64\n",
      "\n",
      "component 19:\n",
      " installment             -0.639774\n",
      "out_prncp                0.591173\n",
      "num_accts_ever_120_pd    0.217029\n",
      "Name: 18, dtype: float64\n",
      "\n",
      "component 20:\n",
      " annual_inc          0.328305\n",
      "addr_state          0.348804\n",
      "last_pymnt_amnt    -0.233035\n",
      "application_type    0.387982\n",
      "acc_now_delinq      0.317781\n",
      "mo_sin_rcnt_tl     -0.205844\n",
      "num_actv_bc_tl      0.340886\n",
      "Name: 19, dtype: float64\n",
      "\n",
      "component 21:\n",
      " addr_state         0.531805\n",
      "last_pymnt_amnt    0.444188\n",
      "tot_cur_bal       -0.273802\n",
      "avg_cur_bal       -0.210632\n",
      "num_rev_accts     -0.385711\n",
      "Name: 20, dtype: float64\n",
      "\n",
      "component 22:\n",
      " total_rec_int                 0.314683\n",
      "last_pymnt_amnt               0.269202\n",
      "total_rev_hi_lim              0.269384\n",
      "avg_cur_bal                   0.286189\n",
      "chargeoff_within_12_mths      0.361805\n",
      "num_sats                     -0.279594\n",
      "total_il_high_credit_limit    0.309522\n",
      "OWN                          -0.248396\n",
      "Name: 21, dtype: float64\n",
      "\n",
      "component 23:\n",
      " annual_inc        -0.260655\n",
      "addr_state         0.400748\n",
      "total_rec_int      0.305834\n",
      "last_pymnt_amnt   -0.379549\n",
      "tot_coll_amt       0.222599\n",
      "delinq_amnt        0.205594\n",
      "num_actv_bc_tl    -0.376849\n",
      "tot_hi_cred_lim    0.246982\n",
      "Name: 22, dtype: float64\n",
      "\n",
      "component 24:\n",
      " tot_coll_amt            -0.455434\n",
      "total_rev_hi_lim        -0.314070\n",
      "delinq_amnt             -0.323563\n",
      "mo_sin_old_rev_tl_op     0.216187\n",
      "mo_sin_rcnt_rev_tl_op    0.340063\n",
      "num_accts_ever_120_pd   -0.205322\n",
      "Name: 23, dtype: float64\n",
      "\n"
     ]
    }
   ],
   "source": [
    "for i in range(len(pc)):\n",
    "    pc1 = pc.iloc[i]\n",
    "    print('component {}:\\n {}\\n'.format(i+1,pc1[abs(pc1)>=0.2]))"
   ]
  },
  {
   "cell_type": "markdown",
   "metadata": {},
   "source": [
    "#### Varimax Rotation:\n",
    "\n",
    "https://en.wikipedia.org/wiki/Talk:Varimax_rotation"
   ]
  },
  {
   "cell_type": "code",
   "execution_count": 43,
   "metadata": {},
   "outputs": [],
   "source": [
    "from scipy import eye, asarray, dot, sum\n",
    "from scipy.linalg import svd"
   ]
  },
  {
   "cell_type": "code",
   "execution_count": 44,
   "metadata": {},
   "outputs": [],
   "source": [
    "def varimax(Phi, gamma = 1.0, q = 20, tol = 1e-6):\n",
    "    #reference: https://en.wikipedia.org/wiki/Talk:Varimax_rotation\n",
    "    p,k = Phi.shape\n",
    "    R = eye(k)\n",
    "    d=0\n",
    "    for i in range(q):\n",
    "        d_old = d\n",
    "        Lambda = dot(Phi, R)\n",
    "        u,s,vh = svd(dot(Phi.T,asarray(Lambda)**3 - (gamma/p) * dot(Lambda, np.diag(np.diag(dot(Lambda.T,Lambda))))))\n",
    "        R = dot(u,vh)\n",
    "        d = sum(s)\n",
    "        if d_old!=0 and d/d_old < 1 + tol: break\n",
    "    return dot(Phi, R)"
   ]
  },
  {
   "cell_type": "code",
   "execution_count": 45,
   "metadata": {},
   "outputs": [],
   "source": [
    "pc_r = varimax(pca.components_)"
   ]
  },
  {
   "cell_type": "code",
   "execution_count": 46,
   "metadata": {},
   "outputs": [],
   "source": [
    "pc_r = pd.DataFrame(pc_r)\n",
    "pc_r.columns = data.drop(['loan_status'],axis = 1).columns.values"
   ]
  },
  {
   "cell_type": "code",
   "execution_count": 48,
   "metadata": {},
   "outputs": [
    {
     "name": "stdout",
     "output_type": "stream",
     "text": [
      "component 1:\n",
      " num_sats    1.0\n",
      "Name: 0, dtype: float64\n",
      "\n",
      "component 2:\n",
      " tax_liens    1.0\n",
      "Name: 1, dtype: float64\n",
      "\n",
      "component 3:\n",
      " num_bc_sats   -1.0\n",
      "Name: 2, dtype: float64\n",
      "\n",
      "component 4:\n",
      " total_rec_int   -1.0\n",
      "Name: 3, dtype: float64\n",
      "\n",
      "component 5:\n",
      " MORTGAGE   -1.0\n",
      "Name: 4, dtype: float64\n",
      "\n",
      "component 6:\n",
      " num_accts_ever_120_pd    1.0\n",
      "Name: 5, dtype: float64\n",
      "\n",
      "component 7:\n",
      " num_rev_tl_bal_gt_0    1.0\n",
      "Name: 6, dtype: float64\n",
      "\n",
      "component 8:\n",
      " total_il_high_credit_limit   -1.0\n",
      "Name: 7, dtype: float64\n",
      "\n",
      "component 9:\n",
      " mo_sin_rcnt_rev_tl_op    1.0\n",
      "Name: 8, dtype: float64\n",
      "\n",
      "component 10:\n",
      " out_prncp    1.0\n",
      "Name: 9, dtype: float64\n",
      "\n",
      "component 11:\n",
      " acc_open_past_24mths   -1.0\n",
      "Name: 10, dtype: float64\n",
      "\n",
      "component 12:\n",
      " pct_tl_nvr_dlq    1.0\n",
      "Name: 11, dtype: float64\n",
      "\n",
      "component 13:\n",
      " num_tl_90g_dpd_24m    1.0\n",
      "Name: 12, dtype: float64\n",
      "\n",
      "component 14:\n",
      " property    1.0\n",
      "Name: 13, dtype: float64\n",
      "\n",
      "component 15:\n",
      " num_rev_accts    1.0\n",
      "Name: 14, dtype: float64\n",
      "\n",
      "component 16:\n",
      " revol_bal    1.0\n",
      "Name: 15, dtype: float64\n",
      "\n",
      "component 17:\n",
      " tot_cur_bal   -1.0\n",
      "Name: 16, dtype: float64\n",
      "\n",
      "component 18:\n",
      " addr_state    1.0\n",
      "Name: 17, dtype: float64\n",
      "\n",
      "component 19:\n",
      " installment   -1.0\n",
      "Name: 18, dtype: float64\n",
      "\n",
      "component 20:\n",
      " application_type    1.0\n",
      "Name: 19, dtype: float64\n",
      "\n",
      "component 21:\n",
      " last_pymnt_amnt    1.0\n",
      "Name: 20, dtype: float64\n",
      "\n",
      "component 22:\n",
      " chargeoff_within_12_mths    1.0\n",
      "Name: 21, dtype: float64\n",
      "\n",
      "component 23:\n",
      " num_actv_bc_tl   -1.0\n",
      "Name: 22, dtype: float64\n",
      "\n",
      "component 24:\n",
      " tot_coll_amt   -1.0\n",
      "Name: 23, dtype: float64\n",
      "\n"
     ]
    }
   ],
   "source": [
    "for i in range(24):\n",
    "    pc1_r = pc_r.iloc[i]\n",
    "    print('component {}:\\n {}\\n'.format(i+1,pc1_r[abs(pc1_r)>=0.2]))"
   ]
  },
  {
   "cell_type": "markdown",
   "metadata": {},
   "source": [
    "### KNN Classification"
   ]
  },
  {
   "cell_type": "code",
   "execution_count": 37,
   "metadata": {},
   "outputs": [],
   "source": [
    "from sklearn.neighbors import KNeighborsClassifier\n",
    "from sklearn.metrics import confusion_matrix\n",
    "from sklearn import metrics as skmetrics\n",
    "import itertools"
   ]
  },
  {
   "cell_type": "code",
   "execution_count": 38,
   "metadata": {},
   "outputs": [],
   "source": [
    "def plot_confusion_matrix(cm, classes,\n",
    "                          normalize=False,\n",
    "                          title='Confusion matrix',\n",
    "                          cmap=plt.cm.Blues):\n",
    "    \"\"\"\n",
    "    This function prints and plots the confusion matrix.\n",
    "    Normalization can be applied by setting `normalize=True`.\n",
    "    Code from http://scikit-learn.org/stable/auto_examples/model_selection/plot_confusion_matrix.html\n",
    "    \"\"\"\n",
    "    plt.imshow(cm, interpolation='nearest', cmap=cmap)\n",
    "    plt.title(title)\n",
    "    plt.colorbar()\n",
    "    tick_marks = np.arange(len(classes))\n",
    "    plt.xticks(tick_marks, classes, rotation=45)\n",
    "    plt.yticks(tick_marks, classes)\n",
    "\n",
    "    if normalize:\n",
    "        cm = cm.astype('float') / cm.sum(axis=1)[:, np.newaxis]\n",
    "        print(\"Normalized confusion matrix\")\n",
    "    else:\n",
    "        print('Confusion matrix, without normalization')\n",
    "\n",
    "    print(cm)\n",
    "\n",
    "    thresh = cm.max() / 2.\n",
    "    for i, j in itertools.product(range(cm.shape[0]), range(cm.shape[1])):\n",
    "        plt.text(j, i, cm[i, j],\n",
    "                 horizontalalignment=\"center\",\n",
    "                 color=\"white\" if cm[i, j] > thresh else \"black\")\n",
    "\n",
    "    plt.ylabel('True label')\n",
    "    plt.xlabel('Predicted label')"
   ]
  },
  {
   "cell_type": "code",
   "execution_count": 39,
   "metadata": {},
   "outputs": [],
   "source": [
    "#Function that calculate the test error\n",
    "def test_error(X_tr,y_tr,X_te,y_te,regmod):\n",
    "    \"\"\"\n",
    "    Return the test error for square error loss\n",
    "    \n",
    "    Input: training and testing design matrix, X_tr ,X_te\n",
    "            training and testing response vector, y_tr, y_te\n",
    "            a regression model, regmod\n",
    "            \n",
    "    Output: scalar empirical risk\n",
    "    \"\"\"\n",
    "    regmod.fit(X_tr,y_tr)\n",
    "    y_hat = regmod.predict(X_te)\n",
    "    return np.mean((y_hat - y_te)**2)"
   ]
  },
  {
   "cell_type": "code",
   "execution_count": null,
   "metadata": {},
   "outputs": [],
   "source": [
    "#Generate possible lambda's: integer points from 1 to 24\n",
    "alphas = [i+1 for i in range(5,15)]\n",
    "\n",
    "#Ridge regression\n",
    "TestEr = []\n",
    "\n",
    "neigh = KNeighborsClassifier()\n",
    "\n",
    "for a in alphas:\n",
    "    neigh.set_params(n_neighbors=a)\n",
    "    TestEr.append(test_error(X_tr,y_tr,X_te,y_te,neigh))"
   ]
  },
  {
   "cell_type": "code",
   "execution_count": 38,
   "metadata": {},
   "outputs": [
    {
     "data": {
      "image/png": "[encoded data removed]",
      "text/plain": [
       "<matplotlib.figure.Figure at 0x4d90e6d8>"
      ]
     },
     "metadata": {},
     "output_type": "display_data"
    }
   ],
   "source": [
    "#Draw the Test Error for KNN classifier\n",
    "fig = plt.figure(figsize = (7,7))\n",
    "plt.plot(alphas,TestEr)\n",
    "\n",
    "plt.xlabel('alphas')\n",
    "plt.ylabel('Test Error')\n",
    "plt.title('Test Error for KNN Classifier')\n",
    "plt.show()"
   ]
  },
  {
   "cell_type": "code",
   "execution_count": 40,
   "metadata": {},
   "outputs": [
    {
     "data": {
      "text/plain": [
       "KNeighborsClassifier(algorithm='auto', leaf_size=30, metric='minkowski',\n",
       "           metric_params=None, n_jobs=1, n_neighbors=5, p=2,\n",
       "           weights='uniform')"
      ]
     },
     "execution_count": 40,
     "metadata": {},
     "output_type": "execute_result"
    }
   ],
   "source": [
    "neigh = KNeighborsClassifier(n_neighbors = 5)\n",
    "neigh.fit(X_tr, y_tr) "
   ]
  },
  {
   "cell_type": "code",
   "execution_count": 34,
   "metadata": {},
   "outputs": [],
   "source": [
    "pred_knn = neigh.predict(X_te)"
   ]
  },
  {
   "cell_type": "code",
   "execution_count": 41,
   "metadata": {},
   "outputs": [
    {
     "name": "stdout",
     "output_type": "stream",
     "text": [
      "Confusion matrix, without normalization\n",
      "[[10038  4227]\n",
      " [ 7128 87209]]\n"
     ]
    },
    {
     "data": {
      "image/png": "[encoded data removed]",
      "text/plain": [
       "<matplotlib.figure.Figure at 0x4d224b00>"
      ]
     },
     "metadata": {},
     "output_type": "display_data"
    }
   ],
   "source": [
    "#Draw the confusion matrix\n",
    "fig = plt.figure(figsize = (10,10))\n",
    "with plt.style.context(('seaborn-white')):\n",
    "    plot_confusion_matrix(confusion_matrix(y_te,pred_knn),[0,1])\n",
    "plt.show()"
   ]
  },
  {
   "cell_type": "markdown",
   "metadata": {},
   "source": [
    "### Random Forest Classifier\n",
    "\n",
    "http://scikit-learn.org/stable/modules/generated/sklearn.ensemble.RandomForestClassifier.html"
   ]
  },
  {
   "cell_type": "code",
   "execution_count": 42,
   "metadata": {},
   "outputs": [
    {
     "data": {
      "text/plain": [
       "RandomForestClassifier(bootstrap=True, class_weight=None, criterion='gini',\n",
       "            max_depth=None, max_features='auto', max_leaf_nodes=None,\n",
       "            min_impurity_decrease=0.0, min_impurity_split=None,\n",
       "            min_samples_leaf=1, min_samples_split=2,\n",
       "            min_weight_fraction_leaf=0.0, n_estimators=1000, n_jobs=1,\n",
       "            oob_score=False, random_state=0, verbose=0, warm_start=False)"
      ]
     },
     "execution_count": 42,
     "metadata": {},
     "output_type": "execute_result"
    }
   ],
   "source": [
    "from sklearn.ensemble import RandomForestClassifier\n",
    "\n",
    "rf = RandomForestClassifier(n_estimators = 1000, random_state = 0)\n",
    "rf.fit(X_tr, y_tr)"
   ]
  },
  {
   "cell_type": "code",
   "execution_count": 43,
   "metadata": {},
   "outputs": [
    {
     "data": {
      "text/plain": [
       "array([ 0.00229517,  0.00251183,  0.01840374,  0.00427328,  0.00334195,\n",
       "        0.00241007,  0.02701729,  0.10805797,  0.00052665,  0.00942579,\n",
       "        0.01140522,  0.01057769,  0.01069469,  0.0115923 ,  0.008898  ,\n",
       "        0.1460369 ,  0.00154122,  0.20640548,  0.00881495,  0.0148542 ,\n",
       "        0.01916585,  0.09350288,  0.05665624,  0.03078872,  0.19080192])"
      ]
     },
     "execution_count": 43,
     "metadata": {},
     "output_type": "execute_result"
    }
   ],
   "source": [
    "rf.feature_importances_"
   ]
  },
  {
   "cell_type": "code",
   "execution_count": 44,
   "metadata": {},
   "outputs": [],
   "source": [
    "pred_rf = rf.predict(X_te)"
   ]
  },
  {
   "cell_type": "code",
   "execution_count": 45,
   "metadata": {},
   "outputs": [],
   "source": [
    "#ROC curve\n",
    "from sklearn.metrics import roc_curve, auc\n",
    "\n",
    "# Compute ROC curve and ROC area for each class\n",
    "fpr = dict()\n",
    "tpr = dict()\n",
    "roc_auc = dict()\n",
    "fpr, tpr, _ = roc_curve(y_te, pred_rf)\n",
    "roc_auc = auc(fpr, tpr)"
   ]
  },
  {
   "cell_type": "code",
   "execution_count": 46,
   "metadata": {},
   "outputs": [
    {
     "data": {
      "image/png": "[encoded data removed]",
      "text/plain": [
       "<matplotlib.figure.Figure at 0x5ab35518>"
      ]
     },
     "metadata": {},
     "output_type": "display_data"
    }
   ],
   "source": [
    "#Plot ROC curve\n",
    "plt.figure(figsize = (7,7))\n",
    "lw = 2\n",
    "plt.plot(fpr, tpr, color='darkorange',\n",
    "         lw=lw, label='ROC curve (area = %0.2f)' % roc_auc)\n",
    "plt.plot([0, 1], [0, 1], color='navy', lw=lw, linestyle='--')\n",
    "plt.xlim([0.0, 1.0])\n",
    "plt.ylim([0.0, 1.05])\n",
    "plt.xlabel('False Positive Rate')\n",
    "plt.ylabel('True Positive Rate')\n",
    "plt.title('ROC curve for earn')\n",
    "plt.legend(loc=\"lower right\")\n",
    "plt.show()"
   ]
  },
  {
   "cell_type": "code",
   "execution_count": 47,
   "metadata": {},
   "outputs": [],
   "source": [
    "#PR curve\n",
    "from sklearn.metrics import precision_recall_curve\n",
    "from sklearn.metrics import average_precision_score\n",
    "\n",
    "average_precision = average_precision_score(y_te, pred_rf)\n",
    "precision, recall, _ = precision_recall_curve(y_te, pred_rf)"
   ]
  },
  {
   "cell_type": "code",
   "execution_count": 48,
   "metadata": {},
   "outputs": [
    {
     "data": {
      "image/png": "[encoded data removed]",
      "text/plain": [
       "<matplotlib.figure.Figure at 0x5ab353c8>"
      ]
     },
     "metadata": {},
     "output_type": "display_data"
    }
   ],
   "source": [
    "#Plot the Precision-Recall curve\n",
    "plt.step(recall, precision, color='b', alpha=0.2, where='post')\n",
    "plt.fill_between(recall, precision, step='post', alpha=0.2,color='b')\n",
    "\n",
    "plt.xlabel('Recall')\n",
    "plt.ylabel('Precision')\n",
    "plt.ylim([0.0, 1.05])\n",
    "plt.xlim([0.0, 1.0])\n",
    "plt.title('PR curve for earn'.format(average_precision))\n",
    "plt.show()"
   ]
  },
  {
   "cell_type": "code",
   "execution_count": 53,
   "metadata": {},
   "outputs": [
    {
     "name": "stdout",
     "output_type": "stream",
     "text": [
      "Confusion matrix, without normalization\n",
      "[[11254  3011]\n",
      " [  136 94201]]\n"
     ]
    },
    {
     "data": {
      "image/png": "[encoded data removed]",
      "text/plain": [
       "<matplotlib.figure.Figure at 0x4cfc50b8>"
      ]
     },
     "metadata": {},
     "output_type": "display_data"
    }
   ],
   "source": [
    "#Draw the confusion matrix\n",
    "fig = plt.figure(figsize = (10,10))\n",
    "with plt.style.context(('seaborn-white')):\n",
    "    plot_confusion_matrix(confusion_matrix(y_te,pred_rf),[0,1])\n",
    "plt.show()"
   ]
  },
  {
   "cell_type": "code",
   "execution_count": 52,
   "metadata": {},
   "outputs": [
    {
     "data": {
      "text/plain": [
       "0.9710226331006796"
      ]
     },
     "execution_count": 52,
     "metadata": {},
     "output_type": "execute_result"
    }
   ],
   "source": [
    "#Accruate rate\n",
    "sum(pred == y_te)/len(pred)"
   ]
  },
  {
   "cell_type": "code",
   "execution_count": null,
   "metadata": {},
   "outputs": [],
   "source": []
  }
 ],
 "metadata": {
  "kernelspec": {
   "display_name": "Python 3",
   "language": "python",
   "name": "python3"
  },
  "language_info": {
   "codemirror_mode": {
    "name": "ipython",
    "version": 3
   },
   "file_extension": ".py",
   "mimetype": "text/x-python",
   "name": "python",
   "nbconvert_exporter": "python",
   "pygments_lexer": "ipython3",
   "version": "3.6.3"
  }
 },
 "nbformat": 4,
 "nbformat_minor": 2
}
