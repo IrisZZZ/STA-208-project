{
 "cells": [
  {
   "cell_type": "code",
   "execution_count": 1,
   "metadata": {
    "collapsed": true
   },
   "outputs": [],
   "source": [
    "import numpy as np\n",
    "import pandas as pd\n",
    "import os\n",
    "import sqlalchemy as sqla\n",
    "import sqlite3 as sql\n",
    "from sqlite3 import Error\n",
    "import re"
   ]
  },
  {
   "cell_type": "code",
   "execution_count": 2,
   "metadata": {
    "collapsed": true
   },
   "outputs": [],
   "source": [
    "'''\n",
    "convert csv. to sql.\n",
    "'''\n",
    "file_names = []\n",
    "for i in range(1,13):\n",
    "    file_names.append(\"RawData/LoanStats_2016-\"+str(i)+\".csv\")"
   ]
  },
  {
   "cell_type": "code",
   "execution_count": 3,
   "metadata": {
    "collapsed": true
   },
   "outputs": [],
   "source": [
    "file_loc = os.getcwd()"
   ]
  },
  {
   "cell_type": "code",
   "execution_count": 4,
   "metadata": {},
   "outputs": [
    {
     "name": "stdout",
     "output_type": "stream",
     "text": [
      "2.6.0\n",
      "2.6.0\n",
      "2.6.0\n",
      "2.6.0\n",
      "2.6.0\n",
      "2.6.0\n",
      "2.6.0\n",
      "2.6.0\n",
      "2.6.0\n",
      "2.6.0\n",
      "2.6.0\n",
      "2.6.0\n"
     ]
    }
   ],
   "source": [
    "def create_connection(db_file):\n",
    "    '''create a database connection to a '''\n",
    "    try:\n",
    "        conn = sql.connect(db_file)\n",
    "        print(sql.version)\n",
    "    except Error as e:\n",
    "        print(e)\n",
    "    finally:\n",
    "        conn.close()\n",
    "\n",
    "'''create a SQLite database with name 'data' '''\n",
    "if __name__ == '__main__':\n",
    "    for i in range(1,13):\n",
    "        create_connection(file_loc+\"/data\"+str(i)+\".db\")"
   ]
  },
  {
   "cell_type": "code",
   "execution_count": 5,
   "metadata": {
    "collapsed": true
   },
   "outputs": [],
   "source": [
    "def create_df(i):\n",
    "    print(i)\n",
    "    df = pd.read_csv(i,encoding = \"ISO-8859-1\")\n",
    "    df.columns = df.iloc[0]\n",
    "    df = df.reindex(df.index.drop(0))\n",
    "    \n",
    "    selected = ['loan_amnt', 'funded_amnt', 'funded_amnt_inv', 'term', 'int_rate',\n",
    "       'installment', 'grade', 'sub_grade', 'home_ownership', 'annual_inc',\n",
    "       'verification_status', 'issue_d', 'loan_status', 'purpose', 'zip_code',\n",
    "       'addr_state', 'delinq_2yrs', 'earliest_cr_line', 'open_acc',\n",
    "       'revol_bal', 'total_acc', 'initial_list_status', 'out_prncp',\n",
    "       'out_prncp_inv', 'total_pymnt', 'total_pymnt_inv', 'total_rec_prncp',\n",
    "       'total_rec_int', 'total_rec_late_fee', 'recoveries',\n",
    "       'collection_recovery_fee', 'last_pymnt_amnt', 'last_credit_pull_d',\n",
    "       'application_type', 'acc_now_delinq', 'tot_coll_amt', 'tot_cur_bal',\n",
    "       'total_rev_hi_lim', 'acc_open_past_24mths', 'avg_cur_bal',\n",
    "       'chargeoff_within_12_mths', 'delinq_amnt', 'mo_sin_old_rev_tl_op',\n",
    "       'mo_sin_rcnt_rev_tl_op', 'mo_sin_rcnt_tl', 'mort_acc',\n",
    "       'num_accts_ever_120_pd', 'num_actv_bc_tl', 'num_actv_rev_tl',\n",
    "       'num_bc_sats', 'num_bc_tl', 'num_il_tl', 'num_op_rev_tl',\n",
    "       'num_rev_accts', 'num_rev_tl_bal_gt_0', 'num_sats',\n",
    "       'num_tl_90g_dpd_24m', 'num_tl_op_past_12m', 'pct_tl_nvr_dlq',\n",
    "       'pub_rec_bankruptcies', 'tax_liens', 'tot_hi_cred_lim',\n",
    "       'total_bal_ex_mort', 'total_bc_limit', 'total_il_high_credit_limit']\n",
    "    df = df[selected]\n",
    "    df = df[pd.notnull(df['loan_status'])]\n",
    "    \n",
    "    for i in df.columns:\n",
    "        try:\n",
    "            df[i] = df[i].astype(int)\n",
    "        except:\n",
    "            pass\n",
    "    \n",
    "    print(df.shape)\n",
    "    \n",
    "    return df"
   ]
  },
  {
   "cell_type": "code",
   "execution_count": 6,
   "metadata": {},
   "outputs": [
    {
     "name": "stdout",
     "output_type": "stream",
     "text": [
      "RawData/LoanStats_2016-1.csv\n"
     ]
    },
    {
     "name": "stderr",
     "output_type": "stream",
     "text": [
      "C:\\Users\\Administrator\\Anaconda3\\lib\\site-packages\\IPython\\core\\interactiveshell.py:2821: DtypeWarning: Columns (0,1,2,3,4,7,13,18,19,24,25,27,28,29,30,31,32,34,36,37,38,39,40,41,42,43,44,46,49,50,51,53,54,56,57,58,59,60,61,62,63,64,65,66,67,68,69,70,71,72,73,74,75,76,77,78,79,80,81,82,83,84,85,86,87,88,89,90,91,92,93,94,95,96,97,98,99,100,101,102,103,104,105,106,107,108,109,110,111,112,113,114,115,116,117,118,119,120,121,126,127,131,132,134,135,136,142,143,144) have mixed types. Specify dtype option on import or set low_memory=False.\n",
      "  if self.run_code(code, result):\n"
     ]
    },
    {
     "name": "stdout",
     "output_type": "stream",
     "text": [
      "(32366, 65)\n",
      "RawData/LoanStats_2016-2.csv\n",
      "(39529, 65)\n",
      "RawData/LoanStats_2016-3.csv\n",
      "(61992, 65)\n",
      "RawData/LoanStats_2016-4.csv\n"
     ]
    },
    {
     "name": "stderr",
     "output_type": "stream",
     "text": [
      "C:\\Users\\Administrator\\Anaconda3\\lib\\site-packages\\IPython\\core\\interactiveshell.py:2821: DtypeWarning: Columns (0,1,2,5,11,16,17,22,23,25,26,27,28,29,30,32,34,35,36,37,38,39,40,41,42,44,47,48,49,51,52,54,55,56,57,58,59,60,61,62,63,64,65,66,67,68,69,70,71,72,73,74,75,76,77,78,79,80,81,82,83,84,85,86,87,88,89,90,91,92,93,94,95,96,97,98,99,100,101,102,103,104,105,106,107,108,109,110,111,112,113,114,115,116,117,118,119,124,125,129,130,132,133,134,140,141,142,143,144) have mixed types. Specify dtype option on import or set low_memory=False.\n",
      "  if self.run_code(code, result):\n"
     ]
    },
    {
     "name": "stdout",
     "output_type": "stream",
     "text": [
      "(0, 65)\n",
      "RawData/LoanStats_2016-5.csv\n"
     ]
    },
    {
     "name": "stderr",
     "output_type": "stream",
     "text": [
      "C:\\Users\\Administrator\\Anaconda3\\lib\\site-packages\\IPython\\core\\interactiveshell.py:2821: DtypeWarning: Columns (0,1,2,3,4,5,6,7,8,9,10,11,12,13,14,15,16,17,18,19,20,21,22,23,24,25,26,27,28,29,30,31,32,33,34,35,36,37,38,39,40,41,42,43,44,45,46,47,48,49,50,51,52,53,54,55,56,57,58,59,60,61,62,63,64,65,66,67,68,69,70,71,72,73,74,75,76,77,78,79,80,81,82,83,84,85,86,87,88,89,90,91,92,93,94,95,96,97,98,99,100,101,102,103,104,105,106,107,108,109,110,111,112,113,114,115,116,117,118,119,120,121,122,123,124,125,126,127,128,129,130,131,132,133,134,135,136,137,138,139,140,141,142,143,144) have mixed types. Specify dtype option on import or set low_memory=False.\n",
      "  if self.run_code(code, result):\n"
     ]
    },
    {
     "name": "stdout",
     "output_type": "stream",
     "text": [
      "(28403, 65)\n",
      "RawData/LoanStats_2016-6.csv\n",
      "(33019, 65)\n",
      "RawData/LoanStats_2016-7.csv\n",
      "(34696, 65)\n",
      "RawData/LoanStats_2016-8.csv\n"
     ]
    },
    {
     "name": "stderr",
     "output_type": "stream",
     "text": [
      "C:\\Users\\Administrator\\Anaconda3\\lib\\site-packages\\IPython\\core\\interactiveshell.py:2821: DtypeWarning: Columns (0,1,2,3,4,7,13,18,19,24,25,27,28,29,30,31,32,34,36,37,38,39,40,41,42,43,44,46,49,50,51,53,54,55,56,57,58,59,60,61,62,63,64,65,66,67,68,69,70,71,72,73,74,75,76,77,78,79,80,81,82,83,84,85,86,87,88,89,90,91,92,93,94,95,96,97,98,99,100,101,102,103,104,105,106,107,108,109,110,111,112,113,114,115,116,117,118,119,120,121,126,127,131,132,134,135,136,142,143,144) have mixed types. Specify dtype option on import or set low_memory=False.\n",
      "  if self.run_code(code, result):\n"
     ]
    },
    {
     "name": "stdout",
     "output_type": "stream",
     "text": [
      "(36280, 65)\n",
      "RawData/LoanStats_2016-9.csv\n",
      "(28144, 65)\n",
      "RawData/LoanStats_2016-10.csv\n"
     ]
    },
    {
     "name": "stderr",
     "output_type": "stream",
     "text": [
      "C:\\Users\\Administrator\\Anaconda3\\lib\\site-packages\\IPython\\core\\interactiveshell.py:2821: DtypeWarning: Columns (0,1,2,3,4,7,13,18,19,24,25,27,28,29,30,31,32,34,36,37,38,39,40,41,42,43,44,46,49,50,51,53,54,55,56,57,58,59,60,61,62,63,64,65,66,67,68,69,70,71,72,73,74,75,76,77,78,79,80,81,82,83,84,85,86,87,88,89,90,91,92,93,94,95,96,97,98,99,100,101,102,103,104,105,106,107,108,109,110,111,112,113,114,115,116,117,118,119,120,121,123,124,125,126,127,128,129,130,131,132,133,134,135,136,139,140,141,142,143,144) have mixed types. Specify dtype option on import or set low_memory=False.\n",
      "  if self.run_code(code, result):\n"
     ]
    },
    {
     "name": "stdout",
     "output_type": "stream",
     "text": [
      "(32772, 65)\n",
      "RawData/LoanStats_2016-11.csv\n",
      "(34591, 65)\n",
      "RawData/LoanStats_2016-12.csv\n",
      "(36183, 65)\n"
     ]
    }
   ],
   "source": [
    "df = create_df('RawData/LoanStats_2016-1.csv')\n",
    "db1= sql.connect(file_loc+\"\\data1.db\")\n",
    "df.to_sql(\"loan\",db1,index=False)\n",
    "df = create_df('RawData/LoanStats_2016-2.csv')\n",
    "db2= sql.connect(file_loc+\"\\data2.db\")\n",
    "df.to_sql(\"loan\",db2,index=False)\n",
    "df = create_df('RawData/LoanStats_2016-3.csv')\n",
    "db3= sql.connect(file_loc+\"\\data3.db\")\n",
    "df.to_sql(\"loan\",db3,index=False)\n",
    "df = create_df('RawData/LoanStats_2016-4.csv')\n",
    "db4= sql.connect(file_loc+\"\\data4.db\")\n",
    "df.to_sql(\"loan\",db4,index=False)\n",
    "df = create_df('RawData/LoanStats_2016-5.csv')\n",
    "db5= sql.connect(file_loc+\"\\data5.db\")\n",
    "df.to_sql(\"loan\",db5,index=False)\n",
    "df = create_df('RawData/LoanStats_2016-6.csv')\n",
    "db6= sql.connect(file_loc+\"\\data6.db\")\n",
    "df.to_sql(\"loan\",db6,index=False)\n",
    "df = create_df('RawData/LoanStats_2016-7.csv')\n",
    "db7= sql.connect(file_loc+\"\\data7.db\")\n",
    "df.to_sql(\"loan\",db7,index=False)\n",
    "df = create_df('RawData/LoanStats_2016-8.csv')\n",
    "db8= sql.connect(file_loc+\"\\data8.db\")\n",
    "df.to_sql(\"loan\",db8,index=False)\n",
    "df = create_df('RawData/LoanStats_2016-9.csv')\n",
    "db9= sql.connect(file_loc+\"\\data9.db\")\n",
    "df.to_sql(\"loan\",db9,index=False)\n",
    "df = create_df('RawData/LoanStats_2016-10.csv')\n",
    "db10= sql.connect(file_loc+\"\\data10.db\")\n",
    "df.to_sql(\"loan\",db10,index=False)\n",
    "df = create_df('RawData/LoanStats_2016-11.csv')\n",
    "db11= sql.connect(file_loc+\"\\data11.db\")\n",
    "df.to_sql(\"loan\",db11,index=False)\n",
    "df = create_df('RawData/LoanStats_2016-12.csv')\n",
    "db12= sql.connect(file_loc+\"\\data12.db\")\n",
    "df.to_sql(\"loan\",db12,index=False)"
   ]
  },
  {
   "cell_type": "code",
   "execution_count": 20,
   "metadata": {},
   "outputs": [
    {
     "name": "stdout",
     "output_type": "stream",
     "text": [
      "df = create_df('RawData/LoanStats_2016-1.csv')\n",
      "db1= sql.connect(file_loc+\"\\data1.db\")\n",
      "df.to_sql(\"loan\",db1,index=False)\n",
      "df = create_df('RawData/LoanStats_2016-2.csv')\n",
      "db2= sql.connect(file_loc+\"\\data2.db\")\n",
      "df.to_sql(\"loan\",db2,index=False)\n",
      "df = create_df('RawData/LoanStats_2016-3.csv')\n",
      "db3= sql.connect(file_loc+\"\\data3.db\")\n",
      "df.to_sql(\"loan\",db3,index=False)\n",
      "df = create_df('RawData/LoanStats_2016-4.csv')\n",
      "db4= sql.connect(file_loc+\"\\data4.db\")\n",
      "df.to_sql(\"loan\",db4,index=False)\n",
      "df = create_df('RawData/LoanStats_2016-5.csv')\n",
      "db5= sql.connect(file_loc+\"\\data5.db\")\n",
      "df.to_sql(\"loan\",db5,index=False)\n",
      "df = create_df('RawData/LoanStats_2016-6.csv')\n",
      "db6= sql.connect(file_loc+\"\\data6.db\")\n",
      "df.to_sql(\"loan\",db6,index=False)\n",
      "df = create_df('RawData/LoanStats_2016-7.csv')\n",
      "db7= sql.connect(file_loc+\"\\data7.db\")\n",
      "df.to_sql(\"loan\",db7,index=False)\n",
      "df = create_df('RawData/LoanStats_2016-8.csv')\n",
      "db8= sql.connect(file_loc+\"\\data8.db\")\n",
      "df.to_sql(\"loan\",db8,index=False)\n",
      "df = create_df('RawData/LoanStats_2016-9.csv')\n",
      "db9= sql.connect(file_loc+\"\\data9.db\")\n",
      "df.to_sql(\"loan\",db9,index=False)\n",
      "df = create_df('RawData/LoanStats_2016-10.csv')\n",
      "db10= sql.connect(file_loc+\"\\data10.db\")\n",
      "df.to_sql(\"loan\",db10,index=False)\n",
      "df = create_df('RawData/LoanStats_2016-11.csv')\n",
      "db11= sql.connect(file_loc+\"\\data11.db\")\n",
      "df.to_sql(\"loan\",db11,index=False)\n",
      "df = create_df('RawData/LoanStats_2016-12.csv')\n",
      "db12= sql.connect(file_loc+\"\\data12.db\")\n",
      "df.to_sql(\"loan\",db12,index=False)\n"
     ]
    }
   ],
   "source": [
    "for i in range(len(file_names)):\n",
    "    print(\"df = create_df('\"+file_names[i]+\"')\")\n",
    "    print(\"db\"+str(i+1)+'= sql.connect(file_loc+\"\\data'+str(i+1)+'.db\")')\n",
    "    print('df.to_sql(\"loan\",db'+str(i+1)+',index=False)')"
   ]
  }
 ],
 "metadata": {
  "kernelspec": {
   "display_name": "Python 3",
   "language": "python",
   "name": "python3"
  },
  "language_info": {
   "codemirror_mode": {
    "name": "ipython",
    "version": 3
   },
   "file_extension": ".py",
   "mimetype": "text/x-python",
   "name": "python",
   "nbconvert_exporter": "python",
   "pygments_lexer": "ipython3",
   "version": "3.6.1"
  }
 },
 "nbformat": 4,
 "nbformat_minor": 2
}
