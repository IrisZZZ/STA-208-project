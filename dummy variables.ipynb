{
 "cells": [
  {
   "cell_type": "code",
   "execution_count": 143,
   "metadata": {
    "collapsed": true
   },
   "outputs": [],
   "source": [
    "import numpy as np\n",
    "import pandas as pd\n",
    "import os\n",
    "import sqlalchemy as sqla\n",
    "import sqlite3 as sql\n",
    "from sqlite3 import Error\n",
    "import re\n",
    "\n",
    "import matplotlib as mpl\n",
    "import matplotlib.pyplot as plt\n",
    "import seaborn as sns\n",
    "\n",
    "%matplotlib inline"
   ]
  },
  {
   "cell_type": "code",
   "execution_count": 2,
   "metadata": {
    "collapsed": true
   },
   "outputs": [],
   "source": [
    "file_loc = os.getcwd()"
   ]
  },
  {
   "cell_type": "code",
   "execution_count": 3,
   "metadata": {},
   "outputs": [
    {
     "data": {
      "text/plain": [
       "'C:\\\\Users\\\\Administrator\\\\1-STA208\\\\STA-208-project'"
      ]
     },
     "execution_count": 3,
     "metadata": {},
     "output_type": "execute_result"
    }
   ],
   "source": [
    "file_loc"
   ]
  },
  {
   "cell_type": "code",
   "execution_count": 4,
   "metadata": {
    "collapsed": true
   },
   "outputs": [],
   "source": [
    "db1= sql.connect(file_loc+\"\\data1.db\")\n",
    "df1=pd.read_sql(\"SELECT * FROM loan\",db1)\n",
    "db2= sql.connect(file_loc+\"\\data2.db\")\n",
    "df2=pd.read_sql(\"SELECT * FROM loan\",db2)\n",
    "db3= sql.connect(file_loc+\"\\data3.db\")\n",
    "df3=pd.read_sql(\"SELECT * FROM loan\",db3)\n",
    "db4= sql.connect(file_loc+\"\\data4.db\")\n",
    "df4=pd.read_sql(\"SELECT * FROM loan\",db4)\n",
    "db5= sql.connect(file_loc+\"\\data5.db\")\n",
    "df5=pd.read_sql(\"SELECT * FROM loan\",db5)\n",
    "db6= sql.connect(file_loc+\"\\data6.db\")\n",
    "df6=pd.read_sql(\"SELECT * FROM loan\",db6)\n",
    "db7= sql.connect(file_loc+\"\\data7.db\")\n",
    "df7=pd.read_sql(\"SELECT * FROM loan\",db7)\n",
    "db8= sql.connect(file_loc+\"\\data8.db\")\n",
    "df8=pd.read_sql(\"SELECT * FROM loan\",db8)\n",
    "db9= sql.connect(file_loc+\"\\data9.db\")\n",
    "df9=pd.read_sql(\"SELECT * FROM loan\",db9)\n",
    "db10= sql.connect(file_loc+\"\\data10.db\")\n",
    "df10=pd.read_sql(\"SELECT * FROM loan\",db10)\n",
    "db11= sql.connect(file_loc+\"\\data11.db\")\n",
    "df11=pd.read_sql(\"SELECT * FROM loan\",db11)\n",
    "db12= sql.connect(file_loc+\"\\data12.db\")\n",
    "df12=pd.read_sql(\"SELECT * FROM loan\",db12)"
   ]
  },
  {
   "cell_type": "code",
   "execution_count": 5,
   "metadata": {},
   "outputs": [
    {
     "data": {
      "text/plain": [
       "(434407, 65)"
      ]
     },
     "execution_count": 5,
     "metadata": {},
     "output_type": "execute_result"
    }
   ],
   "source": [
    "df = pd.DataFrame()\n",
    "df = df.append(df1)\n",
    "df = df.append(df2)\n",
    "df = df.append(df3)\n",
    "df = df.append(df4)\n",
    "df = df.append(df5)\n",
    "df = df.append(df6)\n",
    "df = df.append(df7)\n",
    "df = df.append(df8)\n",
    "df = df.append(df9)\n",
    "df = df.append(df10)\n",
    "df = df.append(df11)\n",
    "df = df.append(df12)\n",
    "df.shape"
   ]
  },
  {
   "cell_type": "code",
   "execution_count": 6,
   "metadata": {},
   "outputs": [
    {
     "data": {
      "text/html": [
       "<div>\n",
       "<style scoped>\n",
       "    .dataframe tbody tr th:only-of-type {\n",
       "        vertical-align: middle;\n",
       "    }\n",
       "\n",
       "    .dataframe tbody tr th {\n",
       "        vertical-align: top;\n",
       "    }\n",
       "\n",
       "    .dataframe thead th {\n",
       "        text-align: right;\n",
       "    }\n",
       "</style>\n",
       "<table border=\"1\" class=\"dataframe\">\n",
       "  <thead>\n",
       "    <tr style=\"text-align: right;\">\n",
       "      <th></th>\n",
       "      <th>loan_amnt</th>\n",
       "      <th>funded_amnt</th>\n",
       "      <th>funded_amnt_inv</th>\n",
       "      <th>term</th>\n",
       "      <th>int_rate</th>\n",
       "      <th>installment</th>\n",
       "      <th>grade</th>\n",
       "      <th>sub_grade</th>\n",
       "      <th>home_ownership</th>\n",
       "      <th>annual_inc</th>\n",
       "      <th>...</th>\n",
       "      <th>num_sats</th>\n",
       "      <th>num_tl_90g_dpd_24m</th>\n",
       "      <th>num_tl_op_past_12m</th>\n",
       "      <th>pct_tl_nvr_dlq</th>\n",
       "      <th>pub_rec_bankruptcies</th>\n",
       "      <th>tax_liens</th>\n",
       "      <th>tot_hi_cred_lim</th>\n",
       "      <th>total_bal_ex_mort</th>\n",
       "      <th>total_bc_limit</th>\n",
       "      <th>total_il_high_credit_limit</th>\n",
       "    </tr>\n",
       "  </thead>\n",
       "  <tbody>\n",
       "    <tr>\n",
       "      <th>0</th>\n",
       "      <td>17600</td>\n",
       "      <td>17600</td>\n",
       "      <td>17600</td>\n",
       "      <td>36 months</td>\n",
       "      <td>10.75%</td>\n",
       "      <td>574.12</td>\n",
       "      <td>B</td>\n",
       "      <td>B4</td>\n",
       "      <td>RENT</td>\n",
       "      <td>57109</td>\n",
       "      <td>...</td>\n",
       "      <td>6</td>\n",
       "      <td>0</td>\n",
       "      <td>1</td>\n",
       "      <td>95.1</td>\n",
       "      <td>1</td>\n",
       "      <td>0</td>\n",
       "      <td>88629</td>\n",
       "      <td>83563</td>\n",
       "      <td>2300</td>\n",
       "      <td>80329</td>\n",
       "    </tr>\n",
       "    <tr>\n",
       "      <th>1</th>\n",
       "      <td>12500</td>\n",
       "      <td>12500</td>\n",
       "      <td>12500</td>\n",
       "      <td>60 months</td>\n",
       "      <td>8.39%</td>\n",
       "      <td>255.8</td>\n",
       "      <td>B</td>\n",
       "      <td>B1</td>\n",
       "      <td>RENT</td>\n",
       "      <td>120000</td>\n",
       "      <td>...</td>\n",
       "      <td>9</td>\n",
       "      <td>0</td>\n",
       "      <td>1</td>\n",
       "      <td>100</td>\n",
       "      <td>0</td>\n",
       "      <td>0</td>\n",
       "      <td>80899</td>\n",
       "      <td>40673</td>\n",
       "      <td>48400</td>\n",
       "      <td>32499</td>\n",
       "    </tr>\n",
       "    <tr>\n",
       "      <th>2</th>\n",
       "      <td>10000</td>\n",
       "      <td>10000</td>\n",
       "      <td>10000</td>\n",
       "      <td>36 months</td>\n",
       "      <td>11.99%</td>\n",
       "      <td>332.1</td>\n",
       "      <td>C</td>\n",
       "      <td>C1</td>\n",
       "      <td>MORTGAGE</td>\n",
       "      <td>75000</td>\n",
       "      <td>...</td>\n",
       "      <td>9</td>\n",
       "      <td>0</td>\n",
       "      <td>2</td>\n",
       "      <td>100</td>\n",
       "      <td>0</td>\n",
       "      <td>1</td>\n",
       "      <td>71858</td>\n",
       "      <td>48844</td>\n",
       "      <td>0</td>\n",
       "      <td>60358</td>\n",
       "    </tr>\n",
       "    <tr>\n",
       "      <th>3</th>\n",
       "      <td>3000</td>\n",
       "      <td>3000</td>\n",
       "      <td>3000</td>\n",
       "      <td>36 months</td>\n",
       "      <td>7.39%</td>\n",
       "      <td>93.17</td>\n",
       "      <td>A</td>\n",
       "      <td>A4</td>\n",
       "      <td>RENT</td>\n",
       "      <td>80000</td>\n",
       "      <td>...</td>\n",
       "      <td>6</td>\n",
       "      <td>0</td>\n",
       "      <td>0</td>\n",
       "      <td>95</td>\n",
       "      <td>0</td>\n",
       "      <td>0</td>\n",
       "      <td>221908</td>\n",
       "      <td>25665</td>\n",
       "      <td>42200</td>\n",
       "      <td>30936</td>\n",
       "    </tr>\n",
       "    <tr>\n",
       "      <th>4</th>\n",
       "      <td>2000</td>\n",
       "      <td>2000</td>\n",
       "      <td>2000</td>\n",
       "      <td>36 months</td>\n",
       "      <td>6.49%</td>\n",
       "      <td>61.29</td>\n",
       "      <td>A</td>\n",
       "      <td>A2</td>\n",
       "      <td>RENT</td>\n",
       "      <td>90000</td>\n",
       "      <td>...</td>\n",
       "      <td>19</td>\n",
       "      <td>0</td>\n",
       "      <td>2</td>\n",
       "      <td>97.3</td>\n",
       "      <td>0</td>\n",
       "      <td>0</td>\n",
       "      <td>176338</td>\n",
       "      <td>68841</td>\n",
       "      <td>122100</td>\n",
       "      <td>48438</td>\n",
       "    </tr>\n",
       "  </tbody>\n",
       "</table>\n",
       "<p>5 rows × 65 columns</p>\n",
       "</div>"
      ],
      "text/plain": [
       "   loan_amnt  funded_amnt funded_amnt_inv        term int_rate installment  \\\n",
       "0      17600        17600           17600   36 months   10.75%      574.12   \n",
       "1      12500        12500           12500   60 months    8.39%       255.8   \n",
       "2      10000        10000           10000   36 months   11.99%       332.1   \n",
       "3       3000         3000            3000   36 months    7.39%       93.17   \n",
       "4       2000         2000            2000   36 months    6.49%       61.29   \n",
       "\n",
       "  grade sub_grade home_ownership annual_inc             ...              \\\n",
       "0     B        B4           RENT      57109             ...               \n",
       "1     B        B1           RENT     120000             ...               \n",
       "2     C        C1       MORTGAGE      75000             ...               \n",
       "3     A        A4           RENT      80000             ...               \n",
       "4     A        A2           RENT      90000             ...               \n",
       "\n",
       "  num_sats num_tl_90g_dpd_24m num_tl_op_past_12m pct_tl_nvr_dlq  \\\n",
       "0        6                  0                  1           95.1   \n",
       "1        9                  0                  1            100   \n",
       "2        9                  0                  2            100   \n",
       "3        6                  0                  0             95   \n",
       "4       19                  0                  2           97.3   \n",
       "\n",
       "  pub_rec_bankruptcies tax_liens  tot_hi_cred_lim total_bal_ex_mort  \\\n",
       "0                    1         0            88629             83563   \n",
       "1                    0         0            80899             40673   \n",
       "2                    0         1            71858             48844   \n",
       "3                    0         0           221908             25665   \n",
       "4                    0         0           176338             68841   \n",
       "\n",
       "   total_bc_limit  total_il_high_credit_limit  \n",
       "0            2300                       80329  \n",
       "1           48400                       32499  \n",
       "2               0                       60358  \n",
       "3           42200                       30936  \n",
       "4          122100                       48438  \n",
       "\n",
       "[5 rows x 65 columns]"
      ]
     },
     "execution_count": 6,
     "metadata": {},
     "output_type": "execute_result"
    }
   ],
   "source": [
    "df.head()"
   ]
  },
  {
   "cell_type": "markdown",
   "metadata": {},
   "source": [
    "Notice that the grade and subgrade variables are assessed directly from the interest rate, that is, the variable int_rate. Thus, mere int_rate suffices to cover the information provided by them, and grade and subgrade can be removed from our list of variables. Also zip_code is not appropriate to be deemed as a variable and issue_d doesn't contain valuable information, we also drop both of them."
   ]
  },
  {
   "cell_type": "markdown",
   "metadata": {},
   "source": [
    "#### Dummy variables\n",
    "\n",
    "Among the 59 variables we have now, some of them are quantitative and have only a few statuses. For these variables, we can establish dummy variables that take either 0 or 1. For quantitative variables that have more than two categories, we combine some of to create more synthesized categories.\n",
    "\n",
    "For the resonse variable loan_status, because it has 7 different categories, Fully paid, Current, In Grace Period, Late(16-30 days), Late(31-120 days), Default, Charged Off, we want to categorize them into two groups that result to a binary variable. Since the first two categories are signs of a good status of loan, and the latter five indicate different extents of late payment, we denote good status as Fully paid or Current, and bad status as In Grace Period, Late(16-30 days), Late(31-120 days), Default or Charged Off.\n",
    "\n",
    "loan_status$=\n",
    "\\left\\{\\begin{array}{cl} \n",
    "\t\t1,& \\text{good status}\\\\\n",
    "\t\t0,& \\text{bad status}\n",
    "\t\\end{array}\\right.$\n",
    "\n",
    "And among the predictor varibles, purpose also has multiple categories: car, home-improvement, house, moving, major_purchase, renewable_enery, credit_card, debt_consolidation, small_business, medical, vacation and other, which requires many dummy variables. To make the situation simpler, except for medical, we classify car, home_improvement, house, moving, major_purchase and renewable_enery as property, credit_card, debt_consolidation and small_business as financial, vacation and other as others. Therefore, we get 4 categories of purposes, which can be represented by 3 dummy variables:\n",
    "\n",
    "purpose1$=\n",
    "\\left\\{\\begin{array}{cl} \n",
    "\t\t1,& \\text{property}\\\\\n",
    "\t\t0,& \\text{others} \n",
    "\t\\end{array}\\right.$, \n",
    "purpose2$= \n",
    "\\left\\{\\begin{array}{cl} \n",
    "\t\t1,&\\text{financial} \\\\\n",
    "\t\t0,&\\text{others} \n",
    "\t\\end{array}\\right.$, \n",
    "purpose3$=\n",
    "\\left\\{\\begin{array}{cl} \n",
    "\t\t1,&\\text{medical} \\\\\n",
    "\t\t0,&\\text{others}  \n",
    "\t\\end{array}\\right.$\n",
    "\n",
    "Also note that addr_state records the state address of the borrower. Considering the data is collected from Lending Club, which locates in San Francisco, CA, we want to know whether it makes a difference if the loan request is from an instate borrower or not. In this case, we only have to make a distinction between a California loaner and a non California borrower.\n",
    "\n",
    "addr_state$=\n",
    "\\left\\{\\begin{array}{cl} \n",
    "\t\t1,&\\text{California} \\\\\n",
    "\t\t0,&\\text{other states}  \n",
    "\t\\end{array}\\right.$\n",
    "\n",
    "Similarly, in verification_status, we combine verified and source verified as verified:\n",
    "\n",
    "verification_status$=\n",
    "\\left\\{\\begin{array}{cl} \n",
    "\t\t1,& \\text{verified}\\\\\n",
    "\t\t0, & \\text{not verified}\n",
    "\t\\end{array}\\right.$\n",
    " \n",
    "There are 4 more qualitative variables, which are coded as below:\n",
    "\n",
    "term$=\n",
    "\\left\\{\\begin{array}{cl} \n",
    "\t\t1,&\\text{36 months} \\\\\n",
    "\t\t0,&\\text{60 others}  \n",
    "\t\\end{array}\\right.$\n",
    " \n",
    "home_ownership1$=\n",
    "\\left\\{\\begin{array}{cl} \n",
    "\t\t1,& \\text{rent}\\\\\n",
    "\t\t0,& \\text{any}  \n",
    "\t\\end{array}\\right.$, \n",
    "home_ownership2$=\n",
    "\\left\\{\\begin{array}{cl} \n",
    "\t\t1,& \\text{own}\\\\\n",
    "\t\t0,& \\text{any}\n",
    "\t\\end{array}\\right.$, \n",
    "home_ownership3$=\n",
    "\\left\\{\\begin{array}{cl} \n",
    "\t\t1,& \\text{mortage}\\\\\n",
    "\t\t0,& \\text{any} \n",
    "\t\\end{array}\\right.$\n",
    "\n",
    "initial_list_status$=\n",
    "\\left\\{\\begin{array}{cl} \n",
    "\t\t1,& \\text{whole}\\\\\n",
    "\t\t0,& \\text{fraction}\n",
    "\t\\end{array}\\right.$\n",
    "\n",
    "application_type$=\n",
    "\\left\\{\\begin{array}{cl} \n",
    "\t\t1,& \\text{Individual}\\\\\n",
    "\t\t0,& \\text{Joint App}\n",
    "\t\\end{array}\\right.$"
   ]
  },
  {
   "cell_type": "code",
   "execution_count": 100,
   "metadata": {
    "collapsed": true
   },
   "outputs": [],
   "source": [
    "data = df.copy()\n",
    "\n",
    "col_drop = ['grade','sub_grade','issue_d','earliest_cr_line','grade','zip_code','last_credit_pull_d']\n",
    "data = data.drop(col_drop, axis = 1)\n",
    "data = data.reset_index(drop=True)"
   ]
  },
  {
   "cell_type": "code",
   "execution_count": 101,
   "metadata": {
    "collapsed": true
   },
   "outputs": [],
   "source": [
    "y_temp = data['loan_status']"
   ]
  },
  {
   "cell_type": "code",
   "execution_count": 102,
   "metadata": {
    "collapsed": true
   },
   "outputs": [],
   "source": [
    "# recode loan_status\n",
    "y = y_temp.copy()\n",
    "for i in range(len(y)):\n",
    "    if (y_temp[i] == 'Fully Paid') or (y_temp[i] == 'Current'):\n",
    "        y[i] = 'good'\n",
    "    else:\n",
    "        y[i] = 'bad'"
   ]
  },
  {
   "cell_type": "code",
   "execution_count": 11,
   "metadata": {},
   "outputs": [
    {
     "data": {
      "text/plain": [
       "0    good\n",
       "1    good\n",
       "2    good\n",
       "3    good\n",
       "4    good\n",
       "Name: loan_status, dtype: object"
      ]
     },
     "execution_count": 11,
     "metadata": {},
     "output_type": "execute_result"
    }
   ],
   "source": [
    "y.head()"
   ]
  },
  {
   "cell_type": "code",
   "execution_count": 103,
   "metadata": {
    "collapsed": true
   },
   "outputs": [],
   "source": [
    "purpose_temp = data['purpose']"
   ]
  },
  {
   "cell_type": "code",
   "execution_count": 104,
   "metadata": {
    "collapsed": true
   },
   "outputs": [],
   "source": [
    "#recode purposes\n",
    "purpose = purpose_temp.copy()\n",
    "for i in range(len(purpose)):\n",
    "    if (purpose_temp[i] == 'credit_card') or ( purpose_temp[i] == 'debt_consolidation') or (purpose_temp[i] == 'small_business'):\n",
    "        purpose[i] = 'finantial'\n",
    "    elif (purpose_temp[i] == 'vacation') or (purpose_temp[i] == 'other'):\n",
    "        purpose[i] = 'others'\n",
    "    elif purpose_temp[i] == 'medical':\n",
    "        purpose[i] == 'medical'\n",
    "    else:\n",
    "        purpose[i] = 'property'"
   ]
  },
  {
   "cell_type": "code",
   "execution_count": 14,
   "metadata": {
    "scrolled": true
   },
   "outputs": [
    {
     "data": {
      "text/plain": [
       "0    finantial\n",
       "1    finantial\n",
       "2    finantial\n",
       "3       others\n",
       "4    finantial\n",
       "Name: purpose, dtype: object"
      ]
     },
     "execution_count": 14,
     "metadata": {},
     "output_type": "execute_result"
    }
   ],
   "source": [
    "purpose.head()"
   ]
  },
  {
   "cell_type": "code",
   "execution_count": 105,
   "metadata": {
    "collapsed": true
   },
   "outputs": [],
   "source": [
    "addr_state_temp = data['addr_state']"
   ]
  },
  {
   "cell_type": "code",
   "execution_count": 106,
   "metadata": {
    "collapsed": true
   },
   "outputs": [],
   "source": [
    "#recode addr_state\n",
    "addr_state = addr_state_temp.copy()\n",
    "for i in range(len(y)):\n",
    "    if addr_state_temp[i] == 'CA':\n",
    "        addr_state[i] = 'CA'\n",
    "    else:\n",
    "        addr_state[i] = 'other'"
   ]
  },
  {
   "cell_type": "code",
   "execution_count": 17,
   "metadata": {},
   "outputs": [
    {
     "data": {
      "text/plain": [
       "0    other\n",
       "1    other\n",
       "2    other\n",
       "3    other\n",
       "4    other\n",
       "Name: addr_state, dtype: object"
      ]
     },
     "execution_count": 17,
     "metadata": {},
     "output_type": "execute_result"
    }
   ],
   "source": [
    "addr_state.head()"
   ]
  },
  {
   "cell_type": "code",
   "execution_count": 107,
   "metadata": {
    "collapsed": true
   },
   "outputs": [],
   "source": [
    "verification_status_temp = data['verification_status']"
   ]
  },
  {
   "cell_type": "code",
   "execution_count": 108,
   "metadata": {
    "collapsed": true
   },
   "outputs": [],
   "source": [
    "#recode addr_state\n",
    "verification_status = verification_status_temp.copy()\n",
    "for i in range(len(y)):\n",
    "    if verification_status_temp[i] == 'Not Verified':\n",
    "        verification_status[i] = 'not verified'\n",
    "    else:\n",
    "        verification_status[i] = 'verified'"
   ]
  },
  {
   "cell_type": "code",
   "execution_count": 20,
   "metadata": {},
   "outputs": [
    {
     "data": {
      "text/plain": [
       "0        verified\n",
       "1    not verified\n",
       "2    not verified\n",
       "3    not verified\n",
       "4    not verified\n",
       "Name: verification_status, dtype: object"
      ]
     },
     "execution_count": 20,
     "metadata": {},
     "output_type": "execute_result"
    }
   ],
   "source": [
    "verification_status.head()"
   ]
  },
  {
   "cell_type": "code",
   "execution_count": 109,
   "metadata": {
    "collapsed": true
   },
   "outputs": [],
   "source": [
    "#Create dummy variables\n",
    "dummy1 = pd.get_dummies(y)\n",
    "dummy2 = pd.get_dummies(purpose)\n",
    "dummy3 = pd.get_dummies(addr_state)\n",
    "dummy4 = pd.get_dummies(data['term'])\n",
    "dummy5 = pd.get_dummies(data['home_ownership'])\n",
    "dummy6 = pd.get_dummies(verification_status)\n",
    "dummy7 = pd.get_dummies(data['initial_list_status'])\n",
    "dummy8 = pd.get_dummies(data['application_type'])"
   ]
  },
  {
   "cell_type": "code",
   "execution_count": 110,
   "metadata": {
    "scrolled": false
   },
   "outputs": [
    {
     "data": {
      "text/html": [
       "<div>\n",
       "<style scoped>\n",
       "    .dataframe tbody tr th:only-of-type {\n",
       "        vertical-align: middle;\n",
       "    }\n",
       "\n",
       "    .dataframe tbody tr th {\n",
       "        vertical-align: top;\n",
       "    }\n",
       "\n",
       "    .dataframe thead th {\n",
       "        text-align: right;\n",
       "    }\n",
       "</style>\n",
       "<table border=\"1\" class=\"dataframe\">\n",
       "  <thead>\n",
       "    <tr style=\"text-align: right;\">\n",
       "      <th></th>\n",
       "      <th>loan_amnt</th>\n",
       "      <th>funded_amnt</th>\n",
       "      <th>funded_amnt_inv</th>\n",
       "      <th>term</th>\n",
       "      <th>int_rate</th>\n",
       "      <th>installment</th>\n",
       "      <th>annual_inc</th>\n",
       "      <th>verification_status</th>\n",
       "      <th>loan_status</th>\n",
       "      <th>addr_state</th>\n",
       "      <th>...</th>\n",
       "      <th>tot_hi_cred_lim</th>\n",
       "      <th>total_bal_ex_mort</th>\n",
       "      <th>total_bc_limit</th>\n",
       "      <th>total_il_high_credit_limit</th>\n",
       "      <th>finantial</th>\n",
       "      <th>medical</th>\n",
       "      <th>property</th>\n",
       "      <th>MORTGAGE</th>\n",
       "      <th>OWN</th>\n",
       "      <th>RENT</th>\n",
       "    </tr>\n",
       "  </thead>\n",
       "  <tbody>\n",
       "    <tr>\n",
       "      <th>0</th>\n",
       "      <td>17600</td>\n",
       "      <td>17600</td>\n",
       "      <td>17600</td>\n",
       "      <td>1</td>\n",
       "      <td>10.75%</td>\n",
       "      <td>574.12</td>\n",
       "      <td>57109</td>\n",
       "      <td>1</td>\n",
       "      <td>1</td>\n",
       "      <td>0</td>\n",
       "      <td>...</td>\n",
       "      <td>88629</td>\n",
       "      <td>83563</td>\n",
       "      <td>2300</td>\n",
       "      <td>80329</td>\n",
       "      <td>1</td>\n",
       "      <td>0</td>\n",
       "      <td>0</td>\n",
       "      <td>0</td>\n",
       "      <td>0</td>\n",
       "      <td>1</td>\n",
       "    </tr>\n",
       "    <tr>\n",
       "      <th>1</th>\n",
       "      <td>12500</td>\n",
       "      <td>12500</td>\n",
       "      <td>12500</td>\n",
       "      <td>0</td>\n",
       "      <td>8.39%</td>\n",
       "      <td>255.8</td>\n",
       "      <td>120000</td>\n",
       "      <td>0</td>\n",
       "      <td>1</td>\n",
       "      <td>0</td>\n",
       "      <td>...</td>\n",
       "      <td>80899</td>\n",
       "      <td>40673</td>\n",
       "      <td>48400</td>\n",
       "      <td>32499</td>\n",
       "      <td>1</td>\n",
       "      <td>0</td>\n",
       "      <td>0</td>\n",
       "      <td>0</td>\n",
       "      <td>0</td>\n",
       "      <td>1</td>\n",
       "    </tr>\n",
       "    <tr>\n",
       "      <th>2</th>\n",
       "      <td>10000</td>\n",
       "      <td>10000</td>\n",
       "      <td>10000</td>\n",
       "      <td>1</td>\n",
       "      <td>11.99%</td>\n",
       "      <td>332.1</td>\n",
       "      <td>75000</td>\n",
       "      <td>0</td>\n",
       "      <td>1</td>\n",
       "      <td>0</td>\n",
       "      <td>...</td>\n",
       "      <td>71858</td>\n",
       "      <td>48844</td>\n",
       "      <td>0</td>\n",
       "      <td>60358</td>\n",
       "      <td>1</td>\n",
       "      <td>0</td>\n",
       "      <td>0</td>\n",
       "      <td>1</td>\n",
       "      <td>0</td>\n",
       "      <td>0</td>\n",
       "    </tr>\n",
       "    <tr>\n",
       "      <th>3</th>\n",
       "      <td>3000</td>\n",
       "      <td>3000</td>\n",
       "      <td>3000</td>\n",
       "      <td>1</td>\n",
       "      <td>7.39%</td>\n",
       "      <td>93.17</td>\n",
       "      <td>80000</td>\n",
       "      <td>0</td>\n",
       "      <td>1</td>\n",
       "      <td>0</td>\n",
       "      <td>...</td>\n",
       "      <td>221908</td>\n",
       "      <td>25665</td>\n",
       "      <td>42200</td>\n",
       "      <td>30936</td>\n",
       "      <td>0</td>\n",
       "      <td>0</td>\n",
       "      <td>0</td>\n",
       "      <td>0</td>\n",
       "      <td>0</td>\n",
       "      <td>1</td>\n",
       "    </tr>\n",
       "    <tr>\n",
       "      <th>4</th>\n",
       "      <td>2000</td>\n",
       "      <td>2000</td>\n",
       "      <td>2000</td>\n",
       "      <td>1</td>\n",
       "      <td>6.49%</td>\n",
       "      <td>61.29</td>\n",
       "      <td>90000</td>\n",
       "      <td>0</td>\n",
       "      <td>1</td>\n",
       "      <td>0</td>\n",
       "      <td>...</td>\n",
       "      <td>176338</td>\n",
       "      <td>68841</td>\n",
       "      <td>122100</td>\n",
       "      <td>48438</td>\n",
       "      <td>1</td>\n",
       "      <td>0</td>\n",
       "      <td>0</td>\n",
       "      <td>0</td>\n",
       "      <td>0</td>\n",
       "      <td>1</td>\n",
       "    </tr>\n",
       "  </tbody>\n",
       "</table>\n",
       "<p>5 rows × 63 columns</p>\n",
       "</div>"
      ],
      "text/plain": [
       "   loan_amnt  funded_amnt funded_amnt_inv  term int_rate installment  \\\n",
       "0      17600        17600           17600     1   10.75%      574.12   \n",
       "1      12500        12500           12500     0    8.39%       255.8   \n",
       "2      10000        10000           10000     1   11.99%       332.1   \n",
       "3       3000         3000            3000     1    7.39%       93.17   \n",
       "4       2000         2000            2000     1    6.49%       61.29   \n",
       "\n",
       "  annual_inc  verification_status  loan_status  addr_state ...   \\\n",
       "0      57109                    1            1           0 ...    \n",
       "1     120000                    0            1           0 ...    \n",
       "2      75000                    0            1           0 ...    \n",
       "3      80000                    0            1           0 ...    \n",
       "4      90000                    0            1           0 ...    \n",
       "\n",
       "   tot_hi_cred_lim  total_bal_ex_mort  total_bc_limit  \\\n",
       "0            88629              83563            2300   \n",
       "1            80899              40673           48400   \n",
       "2            71858              48844               0   \n",
       "3           221908              25665           42200   \n",
       "4           176338              68841          122100   \n",
       "\n",
       "   total_il_high_credit_limit  finantial medical property MORTGAGE OWN RENT  \n",
       "0                       80329          1       0        0        0   0    1  \n",
       "1                       32499          1       0        0        0   0    1  \n",
       "2                       60358          1       0        0        1   0    0  \n",
       "3                       30936          0       0        0        0   0    1  \n",
       "4                       48438          1       0        0        0   0    1  \n",
       "\n",
       "[5 rows x 63 columns]"
      ]
     },
     "execution_count": 110,
     "metadata": {},
     "output_type": "execute_result"
    }
   ],
   "source": [
    "#Insert dummy variables into dataset\n",
    "data['loan_status'] = dummy1['good']\n",
    "data['addr_state'] = dummy3['CA']\n",
    "data['term'] = dummy4[' 36 months']\n",
    "data['verification_status'] = dummy6['verified']\n",
    "data['initial_list_status'] = dummy7['w']\n",
    "data['application_type'] = dummy8['Individual']\n",
    "\n",
    "#data = data.drop(['purpose','home_ownership','grade','sub_grade','issue_d','zip_code'], axis = 1)\n",
    "data = data.drop(['purpose','home_ownership'], axis = 1)\n",
    "data = pd.concat([data, dummy2.iloc[:,[0,1,3]],dummy5.iloc[:,1:4]],axis = 1)\n",
    "\n",
    "# convert all data as float\n",
    "data['int_rate'] = [x[:-1] for x in data['int_rate']]\n",
    "data = data.astype(float)\n",
    "data['int_rate'] = data['int_rate']/100\n",
    "\n",
    "data.head()"
   ]
  },
  {
   "cell_type": "markdown",
   "metadata": {},
   "source": [
    "dummy1['good']\n",
    "\n",
    "dummy2.iloc[:,[0,1,3]]\n",
    "\n",
    "dummy3['CA']\n",
    "\n",
    "dummy4[' 36 months']\n",
    "\n",
    "dummy5.iloc[:,1:4]\n",
    "\n",
    "dummy6['verified']\n",
    "\n",
    "dummy7['w']\n",
    "\n",
    "dummy8['Individual']"
   ]
  },
  {
   "cell_type": "code",
   "execution_count": 22,
   "metadata": {
    "collapsed": true
   },
   "outputs": [],
   "source": [
    "### training and test set split\n",
    "#Split the data into training set(75% of data) and testing set(25% of data)\n",
    "from sklearn.model_selection import train_test_split\n",
    "\n",
    "train, test = train_test_split(data, test_size = 0.25, random_state = 0)"
   ]
  },
  {
   "cell_type": "code",
   "execution_count": 24,
   "metadata": {},
   "outputs": [],
   "source": [
    "from pyglmnet import GLM\n",
    "from pyglmnet.datasets import fetch_group_lasso_datasets"
   ]
  },
  {
   "cell_type": "code",
   "execution_count": 111,
   "metadata": {
    "collapsed": true
   },
   "outputs": [],
   "source": [
    "data_lasso = data.copy()"
   ]
  },
  {
   "cell_type": "code",
   "execution_count": 140,
   "metadata": {},
   "outputs": [],
   "source": [
    "X = data_lasso[data_lasso.columns.difference(['loan_status'])].values\n",
    "y = data_lasso.loc[:, 'loan_status'].values"
   ]
  },
  {
   "cell_type": "code",
   "execution_count": 132,
   "metadata": {},
   "outputs": [
    {
     "data": {
      "text/plain": [
       "array([ 1,  2,  3,  4,  5,  6,  7,  8,  9, 10, 11, 12, 13, 14, 15, 16, 17,\n",
       "       18, 19, 20, 21, 22, 23, 24, 25, 26, 27, 28, 29, 30, 31, 32, 33, 34,\n",
       "       35, 36, 37, 38, 39, 40, 41, 42, 43, 44, 45, 46, 47, 48, 49, 50, 51,\n",
       "       52, 53, 54, 55, 56, 57, 57, 57, 58, 58, 58])"
      ]
     },
     "execution_count": 132,
     "metadata": {},
     "output_type": "execute_result"
    }
   ],
   "source": [
    "group_idxs = np.arange(len(data_lasso.columns)-1)+1\n",
    "group_idxs[-3:] = group_idxs[-5]\n",
    "group_idxs[-6:-3] = group_idxs[-6]\n",
    "group_idxs = group_idxs.astype('int64')\n",
    "group_idxs"
   ]
  },
  {
   "cell_type": "code",
   "execution_count": 133,
   "metadata": {},
   "outputs": [],
   "source": [
    "X=X.astype(float)"
   ]
  },
  {
   "cell_type": "code",
   "execution_count": 134,
   "metadata": {
    "collapsed": true
   },
   "outputs": [],
   "source": [
    "#set up the group lasso GLM model\n",
    "gl_glm = GLM(distr=\"binomial\",\n",
    "             tol=1e-2,\n",
    "             group=group_idxs,\n",
    "             score_metric=\"pseudo_R2\",\n",
    "             alpha=1.0,\n",
    "             reg_lambda=np.logspace(np.log(100), np.log(0.01), 5, base=np.exp(1)))"
   ]
  },
  {
   "cell_type": "code",
   "execution_count": 156,
   "metadata": {},
   "outputs": [
    {
     "name": "stderr",
     "output_type": "stream",
     "text": [
      "C:\\Users\\Administrator\\Anaconda3\\lib\\site-packages\\pyglmnet\\pyglmnet.py:269: RuntimeWarning: overflow encountered in exp\n",
      "  logL = 1. / n_samples * np.sum(y * z - np.log(1 + np.exp(z)))\n",
      "C:\\Users\\Administrator\\Anaconda3\\lib\\site-packages\\pyglmnet\\pyglmnet.py:652: RuntimeWarning: invalid value encountered in double_scalars\n",
      "  DL.append(L[-1] - L[-2])\n",
      "C:\\Users\\Administrator\\Anaconda3\\lib\\site-packages\\pyglmnet\\pyglmnet.py:653: RuntimeWarning: invalid value encountered in double_scalars\n",
      "  if np.abs(DL[-1] / L[-1]) < tol:\n"
     ]
    },
    {
     "data": {
      "text/plain": [
       "<\n",
       "Distribution | binomial\n",
       "alpha | 1.00\n",
       "max_iter | 1000.00\n",
       "lambda: 100.00 to 0.01\n",
       ">"
      ]
     },
     "execution_count": 156,
     "metadata": {},
     "output_type": "execute_result"
    }
   ],
   "source": [
    "gl_glm.fit(X, y)"
   ]
  },
  {
   "cell_type": "code",
   "execution_count": 157,
   "metadata": {},
   "outputs": [
    {
     "name": "stderr",
     "output_type": "stream",
     "text": [
      "C:\\Users\\Administrator\\Anaconda3\\lib\\site-packages\\pyglmnet\\utils.py:62: RuntimeWarning: invalid value encountered in true_divide\n",
      "  1 - yhat) / (1 - np.mean(yhat)))\n"
     ]
    },
    {
     "data": {
      "image/png": "[encoded data removed]",
      "text/plain": [
       "<matplotlib.figure.Figure at 0x1e7975d8ac8>"
      ]
     },
     "metadata": {},
     "output_type": "display_data"
    }
   ],
   "source": [
    "plt.figure(figsize=(7,7))\n",
    "plt.plot(gl_glm.reg_lambda, gl_glm.score(X, y), label = 'Group Lasso')\n",
    "plt.xlabel('$\\lambda$')\n",
    "plt.ylabel('pseudo-$R^2$')\n",
    "#plt.ylim([-0.1, 0.7])\n",
    "plt.xlim([-0.1,.2])\n",
    "\n",
    "#plt.tick_params(axis='y', right='off')\n",
    "#plt.tick_params(axis='x', top='off')\n",
    "#ax = plt.gca()\n",
    "#ax.spines['top'].set_visible(False)\n",
    "#ax.spines['right'].set_visible(False)\n",
    "plt.legend()\n",
    "plt.show()"
   ]
  },
  {
   "cell_type": "code",
   "execution_count": 35,
   "metadata": {},
   "outputs": [
    {
     "data": {
      "image/png": "[encoded data removed]",
      "text/plain": [
       "<matplotlib.figure.Figure at 0x1d80ce919e8>"
      ]
     },
     "metadata": {},
     "output_type": "display_data"
    }
   ],
   "source": [
    "# Analysis of categorical variables\n",
    "# violin plot to check the distribution of qualitative variables\n",
    "# 'term', 'home_ownership', 'verification_status', 'purpose', 'addr_state', 'initial_list_status',\n",
    "# 'application_type'\n",
    "f, axes = plt.subplots(2, 2, figsize=(15,15))\n",
    "buckets = ['term', 'addr_state', 'verification_status', 'initial_list_status']\n",
    "\n",
    "for i in buckets:\n",
    "    catg = data[[\"loan_status\",i]]\n",
    "    row = buckets.index(i) // 2\n",
    "    col = buckets.index(i) % 2\n",
    "    ax_curr = axes[row, col]\n",
    "    sns.violinplot(x=i, y=\"loan_status\", data=catg, ax=ax_curr)\n",
    "    ax_curr.set_title(i)\n",
    "\n",
    "plt.show()"
   ]
  },
  {
   "cell_type": "code",
   "execution_count": null,
   "metadata": {
    "collapsed": true
   },
   "outputs": [],
   "source": []
  }
 ],
 "metadata": {
  "kernelspec": {
   "display_name": "Python 3",
   "language": "python",
   "name": "python3"
  },
  "language_info": {
   "codemirror_mode": {
    "name": "ipython",
    "version": 3
   },
   "file_extension": ".py",
   "mimetype": "text/x-python",
   "name": "python",
   "nbconvert_exporter": "python",
   "pygments_lexer": "ipython3",
   "version": "3.6.1"
  }
 },
 "nbformat": 4,
 "nbformat_minor": 2
}
