{
 "cells": [
  {
   "cell_type": "markdown",
   "metadata": {},
   "source": [
    "# Project Introduction\n",
    "\n",
    "This project aims to analyse "
   ]
  },
  {
   "cell_type": "markdown",
   "metadata": {},
   "source": [
    "# 1. Data Importing"
   ]
  },
  {
   "cell_type": "code",
   "execution_count": 1,
   "metadata": {
    "collapsed": true
   },
   "outputs": [],
   "source": [
    "import numpy as np\n",
    "import pandas as pd\n",
    "import os\n",
    "import sqlalchemy as sqla\n",
    "import sqlite3 as sql\n",
    "from sqlite3 import Error\n",
    "import re\n",
    "\n",
    "import matplotlib as mpl\n",
    "import matplotlib.pyplot as plt\n",
    "import seaborn as sns\n",
    "\n",
    "%matplotlib inline"
   ]
  },
  {
   "cell_type": "code",
   "execution_count": 2,
   "metadata": {
    "collapsed": true
   },
   "outputs": [],
   "source": [
    "file_loc = os.getcwd()"
   ]
  },
  {
   "cell_type": "code",
   "execution_count": 3,
   "metadata": {},
   "outputs": [
    {
     "data": {
      "text/plain": [
       "'C:\\\\Users\\\\Administrator\\\\1-STA208\\\\STA-208-project'"
      ]
     },
     "execution_count": 3,
     "metadata": {},
     "output_type": "execute_result"
    }
   ],
   "source": [
    "file_loc"
   ]
  },
  {
   "cell_type": "code",
   "execution_count": 4,
   "metadata": {
    "collapsed": true
   },
   "outputs": [],
   "source": [
    "db1= sql.connect(file_loc+\"\\data1.db\")\n",
    "df1=pd.read_sql(\"SELECT * FROM loan\",db1)\n",
    "db2= sql.connect(file_loc+\"\\data2.db\")\n",
    "df2=pd.read_sql(\"SELECT * FROM loan\",db2)\n",
    "db3= sql.connect(file_loc+\"\\data3.db\")\n",
    "df3=pd.read_sql(\"SELECT * FROM loan\",db3)\n",
    "db4= sql.connect(file_loc+\"\\data4.db\")\n",
    "df4=pd.read_sql(\"SELECT * FROM loan\",db4)\n",
    "db5= sql.connect(file_loc+\"\\data5.db\")\n",
    "df5=pd.read_sql(\"SELECT * FROM loan\",db5)\n",
    "db6= sql.connect(file_loc+\"\\data6.db\")\n",
    "df6=pd.read_sql(\"SELECT * FROM loan\",db6)\n",
    "db7= sql.connect(file_loc+\"\\data7.db\")\n",
    "df7=pd.read_sql(\"SELECT * FROM loan\",db7)\n",
    "db8= sql.connect(file_loc+\"\\data8.db\")\n",
    "df8=pd.read_sql(\"SELECT * FROM loan\",db8)\n",
    "db9= sql.connect(file_loc+\"\\data9.db\")\n",
    "df9=pd.read_sql(\"SELECT * FROM loan\",db9)\n",
    "db10= sql.connect(file_loc+\"\\data10.db\")\n",
    "df10=pd.read_sql(\"SELECT * FROM loan\",db10)\n",
    "db11= sql.connect(file_loc+\"\\data11.db\")\n",
    "df11=pd.read_sql(\"SELECT * FROM loan\",db11)\n",
    "db12= sql.connect(file_loc+\"\\data12.db\")\n",
    "df12=pd.read_sql(\"SELECT * FROM loan\",db12)"
   ]
  },
  {
   "cell_type": "code",
   "execution_count": 5,
   "metadata": {},
   "outputs": [
    {
     "data": {
      "text/plain": [
       "(434407, 65)"
      ]
     },
     "execution_count": 5,
     "metadata": {},
     "output_type": "execute_result"
    }
   ],
   "source": [
    "df = pd.DataFrame()\n",
    "df = df.append(df1)\n",
    "df = df.append(df2)\n",
    "df = df.append(df3)\n",
    "df = df.append(df4)\n",
    "df = df.append(df5)\n",
    "df = df.append(df6)\n",
    "df = df.append(df7)\n",
    "df = df.append(df8)\n",
    "df = df.append(df9)\n",
    "df = df.append(df10)\n",
    "df = df.append(df11)\n",
    "df = df.append(df12)\n",
    "df.shape"
   ]
  },
  {
   "cell_type": "code",
   "execution_count": 6,
   "metadata": {},
   "outputs": [
    {
     "data": {
      "text/html": [
       "<div>\n",
       "<style scoped>\n",
       "    .dataframe tbody tr th:only-of-type {\n",
       "        vertical-align: middle;\n",
       "    }\n",
       "\n",
       "    .dataframe tbody tr th {\n",
       "        vertical-align: top;\n",
       "    }\n",
       "\n",
       "    .dataframe thead th {\n",
       "        text-align: right;\n",
       "    }\n",
       "</style>\n",
       "<table border=\"1\" class=\"dataframe\">\n",
       "  <thead>\n",
       "    <tr style=\"text-align: right;\">\n",
       "      <th></th>\n",
       "      <th>loan_amnt</th>\n",
       "      <th>funded_amnt</th>\n",
       "      <th>funded_amnt_inv</th>\n",
       "      <th>term</th>\n",
       "      <th>int_rate</th>\n",
       "      <th>installment</th>\n",
       "      <th>grade</th>\n",
       "      <th>sub_grade</th>\n",
       "      <th>home_ownership</th>\n",
       "      <th>annual_inc</th>\n",
       "      <th>...</th>\n",
       "      <th>num_sats</th>\n",
       "      <th>num_tl_90g_dpd_24m</th>\n",
       "      <th>num_tl_op_past_12m</th>\n",
       "      <th>pct_tl_nvr_dlq</th>\n",
       "      <th>pub_rec_bankruptcies</th>\n",
       "      <th>tax_liens</th>\n",
       "      <th>tot_hi_cred_lim</th>\n",
       "      <th>total_bal_ex_mort</th>\n",
       "      <th>total_bc_limit</th>\n",
       "      <th>total_il_high_credit_limit</th>\n",
       "    </tr>\n",
       "  </thead>\n",
       "  <tbody>\n",
       "    <tr>\n",
       "      <th>0</th>\n",
       "      <td>17600</td>\n",
       "      <td>17600</td>\n",
       "      <td>17600</td>\n",
       "      <td>36 months</td>\n",
       "      <td>10.75%</td>\n",
       "      <td>574.12</td>\n",
       "      <td>B</td>\n",
       "      <td>B4</td>\n",
       "      <td>RENT</td>\n",
       "      <td>57109</td>\n",
       "      <td>...</td>\n",
       "      <td>6</td>\n",
       "      <td>0</td>\n",
       "      <td>1</td>\n",
       "      <td>95.1</td>\n",
       "      <td>1</td>\n",
       "      <td>0</td>\n",
       "      <td>88629</td>\n",
       "      <td>83563</td>\n",
       "      <td>2300</td>\n",
       "      <td>80329</td>\n",
       "    </tr>\n",
       "    <tr>\n",
       "      <th>1</th>\n",
       "      <td>12500</td>\n",
       "      <td>12500</td>\n",
       "      <td>12500</td>\n",
       "      <td>60 months</td>\n",
       "      <td>8.39%</td>\n",
       "      <td>255.8</td>\n",
       "      <td>B</td>\n",
       "      <td>B1</td>\n",
       "      <td>RENT</td>\n",
       "      <td>120000</td>\n",
       "      <td>...</td>\n",
       "      <td>9</td>\n",
       "      <td>0</td>\n",
       "      <td>1</td>\n",
       "      <td>100</td>\n",
       "      <td>0</td>\n",
       "      <td>0</td>\n",
       "      <td>80899</td>\n",
       "      <td>40673</td>\n",
       "      <td>48400</td>\n",
       "      <td>32499</td>\n",
       "    </tr>\n",
       "    <tr>\n",
       "      <th>2</th>\n",
       "      <td>10000</td>\n",
       "      <td>10000</td>\n",
       "      <td>10000</td>\n",
       "      <td>36 months</td>\n",
       "      <td>11.99%</td>\n",
       "      <td>332.1</td>\n",
       "      <td>C</td>\n",
       "      <td>C1</td>\n",
       "      <td>MORTGAGE</td>\n",
       "      <td>75000</td>\n",
       "      <td>...</td>\n",
       "      <td>9</td>\n",
       "      <td>0</td>\n",
       "      <td>2</td>\n",
       "      <td>100</td>\n",
       "      <td>0</td>\n",
       "      <td>1</td>\n",
       "      <td>71858</td>\n",
       "      <td>48844</td>\n",
       "      <td>0</td>\n",
       "      <td>60358</td>\n",
       "    </tr>\n",
       "    <tr>\n",
       "      <th>3</th>\n",
       "      <td>3000</td>\n",
       "      <td>3000</td>\n",
       "      <td>3000</td>\n",
       "      <td>36 months</td>\n",
       "      <td>7.39%</td>\n",
       "      <td>93.17</td>\n",
       "      <td>A</td>\n",
       "      <td>A4</td>\n",
       "      <td>RENT</td>\n",
       "      <td>80000</td>\n",
       "      <td>...</td>\n",
       "      <td>6</td>\n",
       "      <td>0</td>\n",
       "      <td>0</td>\n",
       "      <td>95</td>\n",
       "      <td>0</td>\n",
       "      <td>0</td>\n",
       "      <td>221908</td>\n",
       "      <td>25665</td>\n",
       "      <td>42200</td>\n",
       "      <td>30936</td>\n",
       "    </tr>\n",
       "    <tr>\n",
       "      <th>4</th>\n",
       "      <td>2000</td>\n",
       "      <td>2000</td>\n",
       "      <td>2000</td>\n",
       "      <td>36 months</td>\n",
       "      <td>6.49%</td>\n",
       "      <td>61.29</td>\n",
       "      <td>A</td>\n",
       "      <td>A2</td>\n",
       "      <td>RENT</td>\n",
       "      <td>90000</td>\n",
       "      <td>...</td>\n",
       "      <td>19</td>\n",
       "      <td>0</td>\n",
       "      <td>2</td>\n",
       "      <td>97.3</td>\n",
       "      <td>0</td>\n",
       "      <td>0</td>\n",
       "      <td>176338</td>\n",
       "      <td>68841</td>\n",
       "      <td>122100</td>\n",
       "      <td>48438</td>\n",
       "    </tr>\n",
       "  </tbody>\n",
       "</table>\n",
       "<p>5 rows × 65 columns</p>\n",
       "</div>"
      ],
      "text/plain": [
       "   loan_amnt  funded_amnt funded_amnt_inv        term int_rate installment  \\\n",
       "0      17600        17600           17600   36 months   10.75%      574.12   \n",
       "1      12500        12500           12500   60 months    8.39%       255.8   \n",
       "2      10000        10000           10000   36 months   11.99%       332.1   \n",
       "3       3000         3000            3000   36 months    7.39%       93.17   \n",
       "4       2000         2000            2000   36 months    6.49%       61.29   \n",
       "\n",
       "  grade sub_grade home_ownership annual_inc             ...              \\\n",
       "0     B        B4           RENT      57109             ...               \n",
       "1     B        B1           RENT     120000             ...               \n",
       "2     C        C1       MORTGAGE      75000             ...               \n",
       "3     A        A4           RENT      80000             ...               \n",
       "4     A        A2           RENT      90000             ...               \n",
       "\n",
       "  num_sats num_tl_90g_dpd_24m num_tl_op_past_12m pct_tl_nvr_dlq  \\\n",
       "0        6                  0                  1           95.1   \n",
       "1        9                  0                  1            100   \n",
       "2        9                  0                  2            100   \n",
       "3        6                  0                  0             95   \n",
       "4       19                  0                  2           97.3   \n",
       "\n",
       "  pub_rec_bankruptcies tax_liens  tot_hi_cred_lim total_bal_ex_mort  \\\n",
       "0                    1         0            88629             83563   \n",
       "1                    0         0            80899             40673   \n",
       "2                    0         1            71858             48844   \n",
       "3                    0         0           221908             25665   \n",
       "4                    0         0           176338             68841   \n",
       "\n",
       "   total_bc_limit  total_il_high_credit_limit  \n",
       "0            2300                       80329  \n",
       "1           48400                       32499  \n",
       "2               0                       60358  \n",
       "3           42200                       30936  \n",
       "4          122100                       48438  \n",
       "\n",
       "[5 rows x 65 columns]"
      ]
     },
     "execution_count": 6,
     "metadata": {},
     "output_type": "execute_result"
    }
   ],
   "source": [
    "df.head()"
   ]
  },
  {
   "cell_type": "markdown",
   "metadata": {},
   "source": [
    "# 2. Data Processing"
   ]
  },
  {
   "cell_type": "markdown",
   "metadata": {},
   "source": [
    "### 2.1 Prelimilary Data cleansing\n",
    "\n",
    "Through the prelimilary data viewing and the dictionary of all variables (you are able to reach out it at [Data Dictionary](https://resources.lendingclub.com/LCDataDictionary.xlsx)), we do the data cleansing as the following:\n",
    "\n",
    "1. Notice that the __grade__ and __subgrade__ variables are assessed directly from the interest rate, that is, the variable __int_rate__. Thus, mere __int_rate__ suffices to cover the information provided by them, and __grade__ and __subgrade__ can be removed from our list of variables. \n",
    "\n",
    "2. __zip_code__ is not appropriate to be deemed as a variable. ALso, the __addr_state__ includes the information.\n",
    "\n",
    "3. __issue_d__, __earliest_cr_line__ and __last_credit_pull_d__ don't contain valuable information, we also drop them.\n",
    "\n",
    "4. __collection_recovery_fee__ would definitely has a ratio relationship with __recoveries__ which should be dropped here.\n",
    "\n",
    "5. Since __total_pymnt__ is the sum of __total_rec_prncp__, __total_rec_int__, and __total_rec_late_fee__. Meanwhile, __total_pymnt_inv__ is almost the same as __total_pymnt__, obviously we should drop both of them to avoid multicollinearity. \n",
    "\n",
    "6. Finally, as __funded_amnt__,__funded_amnt_inv__ and __out_prncp_inv__ are all duplicate X variables in the dataset, we drop them as well."
   ]
  },
  {
   "cell_type": "code",
   "execution_count": 99,
   "metadata": {},
   "outputs": [
    {
     "data": {
      "text/plain": [
       "(434407, 53)"
      ]
     },
     "execution_count": 99,
     "metadata": {},
     "output_type": "execute_result"
    }
   ],
   "source": [
    "data = df.copy()\n",
    "\n",
    "col_drop = ['grade','sub_grade','issue_d','earliest_cr_line','zip_code','collection_recovery_fee',\n",
    "            'total_pymnt', 'total_pymnt_inv','last_credit_pull_d', 'funded_amnt','funded_amnt_inv','out_prncp_inv']\n",
    "data = data.drop(col_drop, axis = 1)\n",
    "data = data.reset_index(drop=True)\n",
    "data.shape"
   ]
  },
  {
   "cell_type": "markdown",
   "metadata": {},
   "source": [
    "### 2.2  Dummy variables creation\n",
    "\n",
    "Among the __$53$__ variables we have now, some of them are quantitative and have only a few statuses. For these variables, we can establish dummy variables that take either 0 or 1. For quantitative variables that have more than two categories, we combine some of to create more synthesized categories.\n",
    "\n",
    "1. Response variable: __loan_status__\n",
    "\n",
    "   Because it has $7$ different categories, `Fully paid`, `Current`, `In Grace Period`, `Late(16-30 days)`, `Late(31-120 days)`, `Default`, `Charged Off`, we want to categorize them into two groups that result to a binary variable. \n",
    "   \n",
    "   Since the first two categories are signs of a good status of loan, and the latter five indicate different extents of late payment, we denote __good status__ as `Fully paid` or `Current`, and __bad status__ as `In Grace Period`, `Late(16-30 days)`, `Late(31-120 days)`, `Default` or `Charged Off`.\n",
    "   \n",
    "   __loan_status__$=\n",
    "    \\left\\{\\begin{array}{cl} \n",
    "            1,& \\text{good status}\\\\\n",
    "            0,& \\text{bad status}\n",
    "        \\end{array}\\right.$\n",
    "\n",
    "2. Predictor varible 1: __purpose__\n",
    "    \n",
    "    It also has multiple categories: `car, home-improvement, house, moving, major_purchase, renewable_enery, credit_card, debt_consolidation, small_business, medical, vacation and other`, which requires many dummy variables. \n",
    "    \n",
    "    To make the situation simpler, except for __`medical`__, we classify `car, home_improvement, house, moving, major_purchase and renewable_enery` as __`property`__, `credit_card, debt_consolidation and small_business, vacation and other` as __`financial`__. Therefore, we get $3$ categories of purposes, which can be represented by $2$ dummy variables:\n",
    "\n",
    "    __purpose1__$=\n",
    "    \\left\\{\\begin{array}{cl} \n",
    "            1,& \\text{finantial}\\\\\n",
    "            0,& \\text{medical} \n",
    "        \\end{array}\\right.$\n",
    "        \n",
    "    __purpose2__$=\n",
    "    \\left\\{\\begin{array}{cl} \n",
    "            1,&\\text{property} \\\\\n",
    "            0,&\\text{medical}  \n",
    "        \\end{array}\\right.$\n",
    "\n",
    "3. Predictor varible 2: __addr_state__\n",
    "\n",
    "    It records the state address of the borrower. Considering the data is collected from Lending Club, which locates in San Francisco, CA, we want to know whether it makes a difference if the loan request is from an instate borrower or not. In this case, we only have to make a distinction between a California loaner and a non California borrower.\n",
    "\n",
    "    __addr_state__$=\n",
    "    \\left\\{\\begin{array}{cl} \n",
    "            1,&\\text{California} \\\\\n",
    "            0,&\\text{other states}  \n",
    "        \\end{array}\\right.$\n",
    "\n",
    "4. Predictor varible 3: __verification_status__\n",
    "\n",
    "    Similarly, in verification_status, we combine verified and source verified as verified:\n",
    "\n",
    "    __verification_status__$=\n",
    "    \\left\\{\\begin{array}{cl} \n",
    "            1,& \\text{verified}\\\\\n",
    "            0, & \\text{not verified}\n",
    "        \\end{array}\\right.$\n",
    " \n",
    "5. The other 4 more qualitative variables, which are coded as below:\n",
    "\n",
    "    __term__$=\n",
    "    \\left\\{\\begin{array}{cl} \n",
    "            1,&\\text{36 months} \\\\\n",
    "            0,&\\text{60 others}  \n",
    "        \\end{array}\\right.$\n",
    " \n",
    "    __home_ownership1__$=\n",
    "    \\left\\{\\begin{array}{cl} \n",
    "            1,& \\text{rent}\\\\\n",
    "            0,& \\text{any}  \n",
    "        \\end{array}\\right.$ \n",
    "    __home_ownership2__$=\n",
    "    \\left\\{\\begin{array}{cl} \n",
    "            1,& \\text{own}\\\\\n",
    "            0,& \\text{any}\n",
    "        \\end{array}\\right.$ \n",
    "    __home_ownership3__$=\n",
    "    \\left\\{\\begin{array}{cl} \n",
    "            1,& \\text{mortage}\\\\\n",
    "            0,& \\text{any} \n",
    "        \\end{array}\\right.$\n",
    "\n",
    "    __initial_list_status__$=\n",
    "    \\left\\{\\begin{array}{cl} \n",
    "            1,& \\text{whole}\\\\\n",
    "            0,& \\text{fraction}\n",
    "        \\end{array}\\right.$\n",
    "\n",
    "    __application_type__$=\n",
    "    \\left\\{\\begin{array}{cl} \n",
    "            1,& \\text{Individual}\\\\\n",
    "            0,& \\text{Joint App}\n",
    "        \\end{array}\\right.$"
   ]
  },
  {
   "cell_type": "code",
   "execution_count": 8,
   "metadata": {
    "collapsed": true
   },
   "outputs": [],
   "source": [
    "y_temp = data['loan_status']"
   ]
  },
  {
   "cell_type": "code",
   "execution_count": 9,
   "metadata": {
    "collapsed": true
   },
   "outputs": [],
   "source": [
    "# recode loan_status\n",
    "y = y_temp.copy()\n",
    "for i in range(len(y)):\n",
    "    if (y_temp[i] == 'Fully Paid') or (y_temp[i] == 'Current'):\n",
    "        y[i] = 'good'\n",
    "    else:\n",
    "        y[i] = 'bad'"
   ]
  },
  {
   "cell_type": "code",
   "execution_count": 10,
   "metadata": {},
   "outputs": [
    {
     "data": {
      "text/plain": [
       "0    good\n",
       "1    good\n",
       "2    good\n",
       "3    good\n",
       "4    good\n",
       "Name: loan_status, dtype: object"
      ]
     },
     "execution_count": 10,
     "metadata": {},
     "output_type": "execute_result"
    }
   ],
   "source": [
    "y.head()"
   ]
  },
  {
   "cell_type": "code",
   "execution_count": 11,
   "metadata": {
    "collapsed": true
   },
   "outputs": [],
   "source": [
    "purpose_temp = data['purpose']"
   ]
  },
  {
   "cell_type": "code",
   "execution_count": 12,
   "metadata": {
    "collapsed": true
   },
   "outputs": [],
   "source": [
    "#recode purposes\n",
    "purpose = purpose_temp.copy()\n",
    "for i in range(len(purpose)):\n",
    "    if (purpose_temp[i] == 'credit_card') or ( purpose_temp[i] == 'debt_consolidation') or (purpose_temp[i] == 'small_business') or (purpose_temp[i] == 'vacation') or (purpose_temp[i] == 'other'):\n",
    "        purpose[i] = 'finantial'\n",
    "    elif purpose_temp[i] == 'medical':\n",
    "        purpose[i] == 'medical'\n",
    "    else:\n",
    "        purpose[i] = 'property'"
   ]
  },
  {
   "cell_type": "code",
   "execution_count": 13,
   "metadata": {
    "scrolled": true
   },
   "outputs": [
    {
     "data": {
      "text/plain": [
       "0    finantial\n",
       "1    finantial\n",
       "2    finantial\n",
       "3    finantial\n",
       "4    finantial\n",
       "Name: purpose, dtype: object"
      ]
     },
     "execution_count": 13,
     "metadata": {},
     "output_type": "execute_result"
    }
   ],
   "source": [
    "purpose.head()"
   ]
  },
  {
   "cell_type": "code",
   "execution_count": 14,
   "metadata": {
    "collapsed": true
   },
   "outputs": [],
   "source": [
    "addr_state_temp = data['addr_state']"
   ]
  },
  {
   "cell_type": "code",
   "execution_count": 15,
   "metadata": {
    "collapsed": true
   },
   "outputs": [],
   "source": [
    "#recode addr_state\n",
    "addr_state = addr_state_temp.copy()\n",
    "for i in range(len(y)):\n",
    "    if addr_state_temp[i] == 'CA':\n",
    "        addr_state[i] = 'CA'\n",
    "    else:\n",
    "        addr_state[i] = 'other'"
   ]
  },
  {
   "cell_type": "code",
   "execution_count": 16,
   "metadata": {},
   "outputs": [
    {
     "data": {
      "text/plain": [
       "0    other\n",
       "1    other\n",
       "2    other\n",
       "3    other\n",
       "4    other\n",
       "Name: addr_state, dtype: object"
      ]
     },
     "execution_count": 16,
     "metadata": {},
     "output_type": "execute_result"
    }
   ],
   "source": [
    "addr_state.head()"
   ]
  },
  {
   "cell_type": "code",
   "execution_count": 17,
   "metadata": {
    "collapsed": true
   },
   "outputs": [],
   "source": [
    "verification_status_temp = data['verification_status']"
   ]
  },
  {
   "cell_type": "code",
   "execution_count": 18,
   "metadata": {
    "collapsed": true
   },
   "outputs": [],
   "source": [
    "#recode addr_state\n",
    "verification_status = verification_status_temp.copy()\n",
    "for i in range(len(y)):\n",
    "    if verification_status_temp[i] == 'Not Verified':\n",
    "        verification_status[i] = 'not verified'\n",
    "    else:\n",
    "        verification_status[i] = 'verified'"
   ]
  },
  {
   "cell_type": "code",
   "execution_count": 19,
   "metadata": {},
   "outputs": [
    {
     "data": {
      "text/plain": [
       "0        verified\n",
       "1    not verified\n",
       "2    not verified\n",
       "3    not verified\n",
       "4    not verified\n",
       "Name: verification_status, dtype: object"
      ]
     },
     "execution_count": 19,
     "metadata": {},
     "output_type": "execute_result"
    }
   ],
   "source": [
    "verification_status.head()"
   ]
  },
  {
   "cell_type": "code",
   "execution_count": 20,
   "metadata": {
    "collapsed": true
   },
   "outputs": [],
   "source": [
    "#Create dummy variables\n",
    "dummy1 = pd.get_dummies(y)\n",
    "dummy2 = pd.get_dummies(purpose)\n",
    "dummy3 = pd.get_dummies(addr_state)\n",
    "dummy4 = pd.get_dummies(data['term'])\n",
    "dummy5 = pd.get_dummies(data['home_ownership'])\n",
    "dummy6 = pd.get_dummies(verification_status)\n",
    "dummy7 = pd.get_dummies(data['initial_list_status'])\n",
    "dummy8 = pd.get_dummies(data['application_type'])"
   ]
  },
  {
   "cell_type": "code",
   "execution_count": 22,
   "metadata": {
    "scrolled": false
   },
   "outputs": [
    {
     "data": {
      "text/html": [
       "<div>\n",
       "<style scoped>\n",
       "    .dataframe tbody tr th:only-of-type {\n",
       "        vertical-align: middle;\n",
       "    }\n",
       "\n",
       "    .dataframe tbody tr th {\n",
       "        vertical-align: top;\n",
       "    }\n",
       "\n",
       "    .dataframe thead th {\n",
       "        text-align: right;\n",
       "    }\n",
       "</style>\n",
       "<table border=\"1\" class=\"dataframe\">\n",
       "  <thead>\n",
       "    <tr style=\"text-align: right;\">\n",
       "      <th></th>\n",
       "      <th>loan_amnt</th>\n",
       "      <th>term</th>\n",
       "      <th>int_rate</th>\n",
       "      <th>installment</th>\n",
       "      <th>annual_inc</th>\n",
       "      <th>verification_status</th>\n",
       "      <th>loan_status</th>\n",
       "      <th>addr_state</th>\n",
       "      <th>delinq_2yrs</th>\n",
       "      <th>open_acc</th>\n",
       "      <th>...</th>\n",
       "      <th>tax_liens</th>\n",
       "      <th>tot_hi_cred_lim</th>\n",
       "      <th>total_bal_ex_mort</th>\n",
       "      <th>total_bc_limit</th>\n",
       "      <th>total_il_high_credit_limit</th>\n",
       "      <th>finantial</th>\n",
       "      <th>property</th>\n",
       "      <th>MORTGAGE</th>\n",
       "      <th>OWN</th>\n",
       "      <th>RENT</th>\n",
       "    </tr>\n",
       "  </thead>\n",
       "  <tbody>\n",
       "    <tr>\n",
       "      <th>0</th>\n",
       "      <td>17600.0</td>\n",
       "      <td>1.0</td>\n",
       "      <td>0.1075</td>\n",
       "      <td>574.12</td>\n",
       "      <td>57109.0</td>\n",
       "      <td>1.0</td>\n",
       "      <td>1.0</td>\n",
       "      <td>0.0</td>\n",
       "      <td>0.0</td>\n",
       "      <td>6.0</td>\n",
       "      <td>...</td>\n",
       "      <td>0.0</td>\n",
       "      <td>88629.0</td>\n",
       "      <td>83563.0</td>\n",
       "      <td>2300.0</td>\n",
       "      <td>80329.0</td>\n",
       "      <td>1.0</td>\n",
       "      <td>0.0</td>\n",
       "      <td>0.0</td>\n",
       "      <td>0.0</td>\n",
       "      <td>1.0</td>\n",
       "    </tr>\n",
       "    <tr>\n",
       "      <th>1</th>\n",
       "      <td>12500.0</td>\n",
       "      <td>0.0</td>\n",
       "      <td>0.0839</td>\n",
       "      <td>255.80</td>\n",
       "      <td>120000.0</td>\n",
       "      <td>0.0</td>\n",
       "      <td>1.0</td>\n",
       "      <td>0.0</td>\n",
       "      <td>0.0</td>\n",
       "      <td>9.0</td>\n",
       "      <td>...</td>\n",
       "      <td>0.0</td>\n",
       "      <td>80899.0</td>\n",
       "      <td>40673.0</td>\n",
       "      <td>48400.0</td>\n",
       "      <td>32499.0</td>\n",
       "      <td>1.0</td>\n",
       "      <td>0.0</td>\n",
       "      <td>0.0</td>\n",
       "      <td>0.0</td>\n",
       "      <td>1.0</td>\n",
       "    </tr>\n",
       "    <tr>\n",
       "      <th>2</th>\n",
       "      <td>10000.0</td>\n",
       "      <td>1.0</td>\n",
       "      <td>0.1199</td>\n",
       "      <td>332.10</td>\n",
       "      <td>75000.0</td>\n",
       "      <td>0.0</td>\n",
       "      <td>1.0</td>\n",
       "      <td>0.0</td>\n",
       "      <td>0.0</td>\n",
       "      <td>9.0</td>\n",
       "      <td>...</td>\n",
       "      <td>1.0</td>\n",
       "      <td>71858.0</td>\n",
       "      <td>48844.0</td>\n",
       "      <td>0.0</td>\n",
       "      <td>60358.0</td>\n",
       "      <td>1.0</td>\n",
       "      <td>0.0</td>\n",
       "      <td>1.0</td>\n",
       "      <td>0.0</td>\n",
       "      <td>0.0</td>\n",
       "    </tr>\n",
       "    <tr>\n",
       "      <th>3</th>\n",
       "      <td>3000.0</td>\n",
       "      <td>1.0</td>\n",
       "      <td>0.0739</td>\n",
       "      <td>93.17</td>\n",
       "      <td>80000.0</td>\n",
       "      <td>0.0</td>\n",
       "      <td>1.0</td>\n",
       "      <td>0.0</td>\n",
       "      <td>1.0</td>\n",
       "      <td>6.0</td>\n",
       "      <td>...</td>\n",
       "      <td>0.0</td>\n",
       "      <td>221908.0</td>\n",
       "      <td>25665.0</td>\n",
       "      <td>42200.0</td>\n",
       "      <td>30936.0</td>\n",
       "      <td>1.0</td>\n",
       "      <td>0.0</td>\n",
       "      <td>0.0</td>\n",
       "      <td>0.0</td>\n",
       "      <td>1.0</td>\n",
       "    </tr>\n",
       "    <tr>\n",
       "      <th>4</th>\n",
       "      <td>2000.0</td>\n",
       "      <td>1.0</td>\n",
       "      <td>0.0649</td>\n",
       "      <td>61.29</td>\n",
       "      <td>90000.0</td>\n",
       "      <td>0.0</td>\n",
       "      <td>1.0</td>\n",
       "      <td>0.0</td>\n",
       "      <td>0.0</td>\n",
       "      <td>19.0</td>\n",
       "      <td>...</td>\n",
       "      <td>0.0</td>\n",
       "      <td>176338.0</td>\n",
       "      <td>68841.0</td>\n",
       "      <td>122100.0</td>\n",
       "      <td>48438.0</td>\n",
       "      <td>1.0</td>\n",
       "      <td>0.0</td>\n",
       "      <td>0.0</td>\n",
       "      <td>0.0</td>\n",
       "      <td>1.0</td>\n",
       "    </tr>\n",
       "  </tbody>\n",
       "</table>\n",
       "<p>5 rows × 56 columns</p>\n",
       "</div>"
      ],
      "text/plain": [
       "   loan_amnt  term  int_rate  installment  annual_inc  verification_status  \\\n",
       "0    17600.0   1.0    0.1075       574.12     57109.0                  1.0   \n",
       "1    12500.0   0.0    0.0839       255.80    120000.0                  0.0   \n",
       "2    10000.0   1.0    0.1199       332.10     75000.0                  0.0   \n",
       "3     3000.0   1.0    0.0739        93.17     80000.0                  0.0   \n",
       "4     2000.0   1.0    0.0649        61.29     90000.0                  0.0   \n",
       "\n",
       "   loan_status  addr_state  delinq_2yrs  open_acc  ...   tax_liens  \\\n",
       "0          1.0         0.0          0.0       6.0  ...         0.0   \n",
       "1          1.0         0.0          0.0       9.0  ...         0.0   \n",
       "2          1.0         0.0          0.0       9.0  ...         1.0   \n",
       "3          1.0         0.0          1.0       6.0  ...         0.0   \n",
       "4          1.0         0.0          0.0      19.0  ...         0.0   \n",
       "\n",
       "   tot_hi_cred_lim  total_bal_ex_mort  total_bc_limit  \\\n",
       "0          88629.0            83563.0          2300.0   \n",
       "1          80899.0            40673.0         48400.0   \n",
       "2          71858.0            48844.0             0.0   \n",
       "3         221908.0            25665.0         42200.0   \n",
       "4         176338.0            68841.0        122100.0   \n",
       "\n",
       "   total_il_high_credit_limit  finantial  property  MORTGAGE  OWN  RENT  \n",
       "0                     80329.0        1.0       0.0       0.0  0.0   1.0  \n",
       "1                     32499.0        1.0       0.0       0.0  0.0   1.0  \n",
       "2                     60358.0        1.0       0.0       1.0  0.0   0.0  \n",
       "3                     30936.0        1.0       0.0       0.0  0.0   1.0  \n",
       "4                     48438.0        1.0       0.0       0.0  0.0   1.0  \n",
       "\n",
       "[5 rows x 56 columns]"
      ]
     },
     "execution_count": 22,
     "metadata": {},
     "output_type": "execute_result"
    }
   ],
   "source": [
    "#Insert dummy variables into dataset\n",
    "data['loan_status'] = dummy1['good']\n",
    "data['addr_state'] = dummy3['CA']\n",
    "data['term'] = dummy4[' 36 months']\n",
    "data['verification_status'] = dummy6['verified']\n",
    "data['initial_list_status'] = dummy7['w']\n",
    "data['application_type'] = dummy8['Individual']\n",
    "\n",
    "data = data.drop(['purpose','home_ownership'], axis = 1)\n",
    "data = pd.concat([data, dummy2.iloc[:,[0,2]],dummy5.iloc[:,1:4]],axis = 1)\n",
    "\n",
    "# convert all data as float\n",
    "data['int_rate'] = [x[:-1] for x in data['int_rate']]\n",
    "data = data.astype(float)\n",
    "data['int_rate'] = data['int_rate']/100\n",
    "\n",
    "data.head()"
   ]
  },
  {
   "cell_type": "code",
   "execution_count": 106,
   "metadata": {
    "collapsed": true
   },
   "outputs": [],
   "source": [
    "# store the categorical variable indexes\n",
    "data_category = ['loan_status','verification_status','addr_state', 'term', 'initial_list_status',\n",
    "                 'application_type','finantial','property','MORTGAGE','OWN','RENT']"
   ]
  },
  {
   "cell_type": "markdown",
   "metadata": {},
   "source": [
    "### 2.3 Variable Selection (Group Lasso)\n",
    "\n",
    "As we have two sets of group dummy variables, __Group Lasso__ has been taken into consideration since __the simple Lasso__ seems to unsuitable here."
   ]
  },
  {
   "cell_type": "code",
   "execution_count": 23,
   "metadata": {
    "collapsed": true
   },
   "outputs": [],
   "source": [
    "from pyglmnet import GLM\n",
    "from  sklearn.preprocessing  import scale\n",
    "\n",
    "data_lasso = data.copy()\n",
    "\n",
    "# Scale the numerical variables\n",
    "data_lasso[data.columns[~data_lasso.columns.isin(data_category)]]=scale(data_lasso[data.columns[~data_lasso.columns.isin(data_category)]])"
   ]
  },
  {
   "cell_type": "code",
   "execution_count": 26,
   "metadata": {
    "collapsed": true
   },
   "outputs": [],
   "source": [
    "X = data_lasso[data_lasso.columns.difference(['loan_status'])].values\n",
    "y = data_lasso.loc[:, 'loan_status'].values\n",
    "X=X.astype(float)"
   ]
  },
  {
   "cell_type": "code",
   "execution_count": 27,
   "metadata": {},
   "outputs": [
    {
     "data": {
      "text/plain": [
       "array([ 1,  2,  3,  4,  5,  6,  7,  8,  9, 10, 11, 12, 13, 14, 15, 16, 17,\n",
       "       18, 19, 20, 21, 22, 23, 24, 25, 26, 27, 28, 29, 30, 31, 32, 33, 34,\n",
       "       35, 36, 37, 38, 39, 40, 41, 42, 43, 44, 45, 46, 47, 48, 49, 50, 51,\n",
       "       51, 52, 52, 52], dtype=int64)"
      ]
     },
     "execution_count": 27,
     "metadata": {},
     "output_type": "execute_result"
    }
   ],
   "source": [
    "group_idxs = np.arange(len(data_lasso.columns)-1)+1\n",
    "group_idxs[-3:] = group_idxs[-4]\n",
    "group_idxs[-5:-3] = group_idxs[-5]\n",
    "group_idxs = group_idxs.astype('int64')\n",
    "group_idxs"
   ]
  },
  {
   "cell_type": "markdown",
   "metadata": {},
   "source": [
    "#### ----$\\lambda$ Selection----\n",
    "\n",
    "Since we've tried lots of different $\\lambda$, during which the __pseudo-__$ R^2$ shows to keep decreasing from $\\lambda = 1$. Finally we bulid the Group Lasso through trying 250 different $\\lambda$ ranging from $0.01$ to $1$ as the following:"
   ]
  },
  {
   "cell_type": "code",
   "execution_count": 65,
   "metadata": {
    "collapsed": true
   },
   "outputs": [],
   "source": [
    "#set up the group lasso GLM model\n",
    "trial_lambda=np.logspace(np.log(100), np.log(.01), 500, base=np.exp(1))[250:]\n",
    "\n",
    "gl_glm = GLM(distr=\"binomial\",\n",
    "             tol=1e-2,\n",
    "             group=group_idxs,\n",
    "             score_metric=\"pseudo_R2\",\n",
    "             #solver = 'cdfast',\n",
    "             alpha=1,\n",
    "             reg_lambda=trial_lambda)"
   ]
  },
  {
   "cell_type": "code",
   "execution_count": 66,
   "metadata": {},
   "outputs": [
    {
     "data": {
      "text/plain": [
       "<\n",
       "Distribution | binomial\n",
       "alpha | 1.00\n",
       "max_iter | 1000.00\n",
       "lambda: 0.99 to 0.01\n",
       ">"
      ]
     },
     "execution_count": 66,
     "metadata": {},
     "output_type": "execute_result"
    }
   ],
   "source": [
    "gl_glm.fit(X, y)"
   ]
  },
  {
   "cell_type": "code",
   "execution_count": 67,
   "metadata": {
    "collapsed": true
   },
   "outputs": [],
   "source": [
    "# get the pseudo-R^2\n",
    "R_2 = gl_glm.score(X, y)"
   ]
  },
  {
   "cell_type": "code",
   "execution_count": 71,
   "metadata": {},
   "outputs": [
    {
     "data": {
      "image/png": "[encoded data removed]",
      "text/plain": [
       "<matplotlib.figure.Figure at 0x21f1c8b5ef0>"
      ]
     },
     "metadata": {},
     "output_type": "display_data"
    }
   ],
   "source": [
    "plt.figure(figsize=(20,5))\n",
    "plt.plot(gl_glm.reg_lambda, R_2, label = 'Group Lasso')\n",
    "plt.xlabel('$\\lambda$')\n",
    "plt.ylabel('pseudo-$R^2$')\n",
    "#plt.ylim([-0.1, 0.7])\n",
    "plt.xlim([.01,1])\n",
    "\n",
    "plt.tick_params(axis='y', right='off')\n",
    "plt.tick_params(axis='x', top='off')\n",
    "ax = plt.gca()\n",
    "\n",
    "ax.set_xticks(np.arange(0.01, 1,.03))\n",
    "#ax.set_xticks(np.arange(0, 1, .05))\n",
    "ax.set_yticks(np.arange(0, 1., 0.1))\n",
    "plt.grid()\n",
    "\n",
    "plt.legend()\n",
    "plt.show()"
   ]
  },
  {
   "cell_type": "code",
   "execution_count": 85,
   "metadata": {},
   "outputs": [
    {
     "data": {
      "text/plain": [
       "39"
      ]
     },
     "execution_count": 85,
     "metadata": {},
     "output_type": "execute_result"
    }
   ],
   "source": [
    "sum(reg_lambda>.485)"
   ]
  },
  {
   "cell_type": "code",
   "execution_count": 75,
   "metadata": {},
   "outputs": [
    {
     "name": "stdout",
     "output_type": "stream",
     "text": [
      "Best lambda is 0.49134072862963607\n"
     ]
    },
    {
     "data": {
      "text/plain": [
       "array([[ 0.36858478],\n",
       "       [-0.32241935],\n",
       "       [ 0.23573884],\n",
       "       [ 0.01323486],\n",
       "       [ 0.01044898]])"
      ]
     },
     "execution_count": 75,
     "metadata": {},
     "output_type": "execute_result"
    }
   ],
   "source": [
    "# upon above graph, we are able to get the best lambda and best beta which are the following:\n",
    "print('Best lambda is',reg_lambda[38])\n",
    "best_beta_1 = gl_glm.fit_[38]['beta']\n",
    "best_beta_1[-5:]"
   ]
  },
  {
   "cell_type": "markdown",
   "metadata": {},
   "source": [
    "Also, through trying a big range of $\\lambda$ from $1$ to $10^{10}$, we are still not able to zero out any X variables. Finally, we decide to set a reasonable threshold to realize the property of __Group Lasso__.\n",
    "\n",
    "Upon the above output(the last five coefficients of the two sets of group dummy variables), $0.05$ becomes the ideal choice, and it successfully selects out $18$ predictor variables."
   ]
  },
  {
   "cell_type": "code",
   "execution_count": 79,
   "metadata": {},
   "outputs": [
    {
     "data": {
      "text/plain": [
       "array([18])"
      ]
     },
     "execution_count": 79,
     "metadata": {},
     "output_type": "execute_result"
    }
   ],
   "source": [
    "sum(abs(best_beta_1)>.05)"
   ]
  },
  {
   "cell_type": "code",
   "execution_count": 80,
   "metadata": {
    "scrolled": true
   },
   "outputs": [
    {
     "data": {
      "text/html": [
       "<div>\n",
       "<style scoped>\n",
       "    .dataframe tbody tr th:only-of-type {\n",
       "        vertical-align: middle;\n",
       "    }\n",
       "\n",
       "    .dataframe tbody tr th {\n",
       "        vertical-align: top;\n",
       "    }\n",
       "\n",
       "    .dataframe thead th {\n",
       "        text-align: right;\n",
       "    }\n",
       "</style>\n",
       "<table border=\"1\" class=\"dataframe\">\n",
       "  <thead>\n",
       "    <tr style=\"text-align: right;\">\n",
       "      <th></th>\n",
       "      <th>loan_amnt</th>\n",
       "      <th>term</th>\n",
       "      <th>int_rate</th>\n",
       "      <th>annual_inc</th>\n",
       "      <th>out_prncp</th>\n",
       "      <th>total_rec_prncp</th>\n",
       "      <th>total_rec_int</th>\n",
       "      <th>total_rec_late_fee</th>\n",
       "      <th>recoveries</th>\n",
       "      <th>last_pymnt_amnt</th>\n",
       "      <th>num_bc_tl</th>\n",
       "      <th>num_op_rev_tl</th>\n",
       "      <th>num_rev_tl_bal_gt_0</th>\n",
       "      <th>num_tl_op_past_12m</th>\n",
       "      <th>total_bc_limit</th>\n",
       "      <th>finantial</th>\n",
       "      <th>property</th>\n",
       "      <th>MORTGAGE</th>\n",
       "    </tr>\n",
       "  </thead>\n",
       "  <tbody>\n",
       "    <tr>\n",
       "      <th>0</th>\n",
       "      <td>17600.0</td>\n",
       "      <td>1.0</td>\n",
       "      <td>0.1075</td>\n",
       "      <td>57109.0</td>\n",
       "      <td>0.00</td>\n",
       "      <td>17600.00</td>\n",
       "      <td>1105.74</td>\n",
       "      <td>0.0</td>\n",
       "      <td>0.0</td>\n",
       "      <td>14521.94</td>\n",
       "      <td>9.0</td>\n",
       "      <td>4.0</td>\n",
       "      <td>2.0</td>\n",
       "      <td>1.0</td>\n",
       "      <td>2300.0</td>\n",
       "      <td>1.0</td>\n",
       "      <td>0.0</td>\n",
       "      <td>0.0</td>\n",
       "    </tr>\n",
       "    <tr>\n",
       "      <th>1</th>\n",
       "      <td>12500.0</td>\n",
       "      <td>0.0</td>\n",
       "      <td>0.0839</td>\n",
       "      <td>120000.0</td>\n",
       "      <td>7716.54</td>\n",
       "      <td>4783.46</td>\n",
       "      <td>1855.69</td>\n",
       "      <td>0.0</td>\n",
       "      <td>0.0</td>\n",
       "      <td>255.80</td>\n",
       "      <td>6.0</td>\n",
       "      <td>6.0</td>\n",
       "      <td>4.0</td>\n",
       "      <td>1.0</td>\n",
       "      <td>48400.0</td>\n",
       "      <td>1.0</td>\n",
       "      <td>0.0</td>\n",
       "      <td>0.0</td>\n",
       "    </tr>\n",
       "    <tr>\n",
       "      <th>2</th>\n",
       "      <td>10000.0</td>\n",
       "      <td>1.0</td>\n",
       "      <td>0.1199</td>\n",
       "      <td>75000.0</td>\n",
       "      <td>3145.38</td>\n",
       "      <td>6854.62</td>\n",
       "      <td>1766.66</td>\n",
       "      <td>0.0</td>\n",
       "      <td>0.0</td>\n",
       "      <td>332.10</td>\n",
       "      <td>7.0</td>\n",
       "      <td>5.0</td>\n",
       "      <td>3.0</td>\n",
       "      <td>2.0</td>\n",
       "      <td>0.0</td>\n",
       "      <td>1.0</td>\n",
       "      <td>0.0</td>\n",
       "      <td>1.0</td>\n",
       "    </tr>\n",
       "    <tr>\n",
       "      <th>3</th>\n",
       "      <td>3000.0</td>\n",
       "      <td>1.0</td>\n",
       "      <td>0.0739</td>\n",
       "      <td>80000.0</td>\n",
       "      <td>588.27</td>\n",
       "      <td>2411.73</td>\n",
       "      <td>301.62</td>\n",
       "      <td>0.0</td>\n",
       "      <td>0.0</td>\n",
       "      <td>93.17</td>\n",
       "      <td>8.0</td>\n",
       "      <td>4.0</td>\n",
       "      <td>3.0</td>\n",
       "      <td>0.0</td>\n",
       "      <td>42200.0</td>\n",
       "      <td>1.0</td>\n",
       "      <td>0.0</td>\n",
       "      <td>0.0</td>\n",
       "    </tr>\n",
       "    <tr>\n",
       "      <th>4</th>\n",
       "      <td>2000.0</td>\n",
       "      <td>1.0</td>\n",
       "      <td>0.0649</td>\n",
       "      <td>90000.0</td>\n",
       "      <td>0.00</td>\n",
       "      <td>2000.00</td>\n",
       "      <td>108.98</td>\n",
       "      <td>0.0</td>\n",
       "      <td>0.0</td>\n",
       "      <td>1497.52</td>\n",
       "      <td>16.0</td>\n",
       "      <td>17.0</td>\n",
       "      <td>7.0</td>\n",
       "      <td>2.0</td>\n",
       "      <td>122100.0</td>\n",
       "      <td>1.0</td>\n",
       "      <td>0.0</td>\n",
       "      <td>0.0</td>\n",
       "    </tr>\n",
       "  </tbody>\n",
       "</table>\n",
       "</div>"
      ],
      "text/plain": [
       "   loan_amnt  term  int_rate  annual_inc  out_prncp  total_rec_prncp  \\\n",
       "0    17600.0   1.0    0.1075     57109.0       0.00         17600.00   \n",
       "1    12500.0   0.0    0.0839    120000.0    7716.54          4783.46   \n",
       "2    10000.0   1.0    0.1199     75000.0    3145.38          6854.62   \n",
       "3     3000.0   1.0    0.0739     80000.0     588.27          2411.73   \n",
       "4     2000.0   1.0    0.0649     90000.0       0.00          2000.00   \n",
       "\n",
       "   total_rec_int  total_rec_late_fee  recoveries  last_pymnt_amnt  num_bc_tl  \\\n",
       "0        1105.74                 0.0         0.0         14521.94        9.0   \n",
       "1        1855.69                 0.0         0.0           255.80        6.0   \n",
       "2        1766.66                 0.0         0.0           332.10        7.0   \n",
       "3         301.62                 0.0         0.0            93.17        8.0   \n",
       "4         108.98                 0.0         0.0          1497.52       16.0   \n",
       "\n",
       "   num_op_rev_tl  num_rev_tl_bal_gt_0  num_tl_op_past_12m  total_bc_limit  \\\n",
       "0            4.0                  2.0                 1.0          2300.0   \n",
       "1            6.0                  4.0                 1.0         48400.0   \n",
       "2            5.0                  3.0                 2.0             0.0   \n",
       "3            4.0                  3.0                 0.0         42200.0   \n",
       "4           17.0                  7.0                 2.0        122100.0   \n",
       "\n",
       "   finantial  property  MORTGAGE  \n",
       "0        1.0       0.0       0.0  \n",
       "1        1.0       0.0       0.0  \n",
       "2        1.0       0.0       1.0  \n",
       "3        1.0       0.0       0.0  \n",
       "4        1.0       0.0       0.0  "
      ]
     },
     "execution_count": 80,
     "metadata": {},
     "output_type": "execute_result"
    }
   ],
   "source": [
    "select_X = abs(best_beta_1)>.05\n",
    "# below are the selected x variables\n",
    "selected_X = data.columns.drop('loan_status')[select_X.T[0]]\n",
    "data[selected_X].head()"
   ]
  },
  {
   "cell_type": "code",
   "execution_count": 81,
   "metadata": {},
   "outputs": [
    {
     "data": {
      "text/plain": [
       "Index(['loan_amnt', 'term', 'int_rate', 'annual_inc', 'out_prncp',\n",
       "       'total_rec_prncp', 'total_rec_int', 'total_rec_late_fee', 'recoveries',\n",
       "       'last_pymnt_amnt', 'num_bc_tl', 'num_op_rev_tl', 'num_rev_tl_bal_gt_0',\n",
       "       'num_tl_op_past_12m', 'total_bc_limit', 'finantial', 'property',\n",
       "       'MORTGAGE'],\n",
       "      dtype='object')"
      ]
     },
     "execution_count": 81,
     "metadata": {},
     "output_type": "execute_result"
    }
   ],
   "source": [
    "selected_X"
   ]
  },
  {
   "cell_type": "markdown",
   "metadata": {},
   "source": [
    "#### Analysis of selected Variables upon Group Lasso\n",
    "\n",
    "The following $18$ selected variables are all reasonable to be high impact factors for the __loan status__.\n",
    "\n",
    "\n",
    "1. __loan_amnt__ (the list amount of the loan applied by the borrowers), __term__ (The number of payments on the loan. 36months/60months), __int_rate__ (interest rate on the loan), __annual_inc__ (The self-reported annual income provided by the borrower during registration) would definitely be the critical part that determine and demonstrate the loan repayment pressure and financial capacity.\n",
    "\n",
    "2. __out_prncp__ (Remaining outstanding principal for total amount funded), __total_rec_prncp__ (Principal received to date), __total_rec_int__ (Interest received to date), __total_rec_late_fee__ (Late fees received to date), __recoveries__ (post charge off gross recovery) and __last_pymnt_amnt__ (Last total payment amount received) are regarded as the record for this loan repayment status, which can be used to track and predict the future repayment capacity for the borrower.\n",
    "\n",
    "num_bc_tl:\n",
    "\n",
    "num_op_rev_tl:\n",
    "\n",
    "num_rev_tl_bal_gt_0:\n",
    "\n",
    "num_tl_op_past_12m:\n",
    "\n",
    "total_bc_limit:\n",
    "\n",
    "finantial: \n",
    "property:\n",
    "\n",
    "MORTGAGE:"
   ]
  },
  {
   "cell_type": "markdown",
   "metadata": {},
   "source": [
    "### 2.4 Data Description\n",
    "\n",
    "#### 2.4.1 Numerical Variables"
   ]
  },
  {
   "cell_type": "code",
   "execution_count": 104,
   "metadata": {},
   "outputs": [
    {
     "data": {
      "text/plain": [
       "<matplotlib.axes._subplots.AxesSubplot at 0x21f1c1e1780>"
      ]
     },
     "execution_count": 104,
     "metadata": {},
     "output_type": "execute_result"
    },
    {
     "data": {
      "image/png": "[encoded data removed]",
      "text/plain": [
       "<matplotlib.figure.Figure at 0x21f19d6fa20>"
      ]
     },
     "metadata": {},
     "output_type": "display_data"
    }
   ],
   "source": [
    "selected_X_0 = ['loan_amnt', 'term', 'int_rate', 'annual_inc', 'out_prncp',\n",
    "       'total_rec_prncp', 'total_rec_int', 'total_rec_late_fee', 'recoveries',\n",
    "       'last_pymnt_amnt', 'num_bc_tl', 'num_op_rev_tl', 'num_rev_tl_bal_gt_0',\n",
    "       'num_tl_op_past_12m', 'total_bc_limit', 'finantial', 'property',\n",
    "       'MORTGAGE']\n",
    "numerical = list(set(selected_X_0) - set(data_category))\n",
    "numerical = ['loan_status'] + numerical\n",
    "newdata_numerical = data[numerical]\n",
    "newdata_numerical.head()\n",
    "\n",
    "newdata_numerical_scale = data_lasso[numerical]\n",
    "\n",
    "# draw correlation matrix and heatmap\n",
    "import seaborn as sns\n",
    "import matplotlib.pyplot as plt\n",
    "fig, ax = plt.subplots(figsize=(8,6)) \n",
    "corr = newdata_numerical_scale.corr()\n",
    "#sns.heatmap(corr,cmap=\"Blues\",ax=ax)\n",
    "sns.heatmap(abs(corr),cmap=\"Blues\",ax=ax)"
   ]
  },
  {
   "cell_type": "code",
   "execution_count": 83,
   "metadata": {},
   "outputs": [
    {
     "data": {
      "text/html": [
       "<div>\n",
       "<style scoped>\n",
       "    .dataframe tbody tr th:only-of-type {\n",
       "        vertical-align: middle;\n",
       "    }\n",
       "\n",
       "    .dataframe tbody tr th {\n",
       "        vertical-align: top;\n",
       "    }\n",
       "\n",
       "    .dataframe thead th {\n",
       "        text-align: right;\n",
       "    }\n",
       "</style>\n",
       "<table border=\"1\" class=\"dataframe\">\n",
       "  <thead>\n",
       "    <tr style=\"text-align: right;\">\n",
       "      <th></th>\n",
       "      <th>loan_status</th>\n",
       "      <th>total_rec_late_fee</th>\n",
       "      <th>annual_inc</th>\n",
       "      <th>loan_amnt</th>\n",
       "      <th>total_rec_int</th>\n",
       "      <th>num_tl_op_past_12m</th>\n",
       "      <th>out_prncp</th>\n",
       "      <th>total_rec_prncp</th>\n",
       "      <th>num_bc_tl</th>\n",
       "      <th>last_pymnt_amnt</th>\n",
       "      <th>int_rate</th>\n",
       "      <th>num_rev_tl_bal_gt_0</th>\n",
       "      <th>total_bc_limit</th>\n",
       "      <th>num_op_rev_tl</th>\n",
       "      <th>recoveries</th>\n",
       "    </tr>\n",
       "  </thead>\n",
       "  <tbody>\n",
       "    <tr>\n",
       "      <th>loan_status</th>\n",
       "      <td>1.000000</td>\n",
       "      <td>-0.156267</td>\n",
       "      <td>0.030183</td>\n",
       "      <td>-0.039910</td>\n",
       "      <td>0.009442</td>\n",
       "      <td>-0.095993</td>\n",
       "      <td>0.167089</td>\n",
       "      <td>0.266620</td>\n",
       "      <td>0.003461</td>\n",
       "      <td>0.177592</td>\n",
       "      <td>-0.221374</td>\n",
       "      <td>-0.037603</td>\n",
       "      <td>0.063804</td>\n",
       "      <td>-0.021726</td>\n",
       "      <td>-0.424554</td>\n",
       "    </tr>\n",
       "    <tr>\n",
       "      <th>total_rec_late_fee</th>\n",
       "      <td>-0.156267</td>\n",
       "      <td>1.000000</td>\n",
       "      <td>0.033394</td>\n",
       "      <td>0.084394</td>\n",
       "      <td>0.108788</td>\n",
       "      <td>0.015495</td>\n",
       "      <td>0.045709</td>\n",
       "      <td>0.007546</td>\n",
       "      <td>-0.010164</td>\n",
       "      <td>-0.025014</td>\n",
       "      <td>0.071627</td>\n",
       "      <td>0.002311</td>\n",
       "      <td>-0.009938</td>\n",
       "      <td>-0.010827</td>\n",
       "      <td>0.048622</td>\n",
       "    </tr>\n",
       "    <tr>\n",
       "      <th>annual_inc</th>\n",
       "      <td>0.030183</td>\n",
       "      <td>0.033394</td>\n",
       "      <td>1.000000</td>\n",
       "      <td>0.307442</td>\n",
       "      <td>0.154621</td>\n",
       "      <td>0.051651</td>\n",
       "      <td>0.156549</td>\n",
       "      <td>0.232683</td>\n",
       "      <td>0.135779</td>\n",
       "      <td>0.110693</td>\n",
       "      <td>-0.086169</td>\n",
       "      <td>0.081732</td>\n",
       "      <td>0.268748</td>\n",
       "      <td>0.082467</td>\n",
       "      <td>0.016917</td>\n",
       "    </tr>\n",
       "    <tr>\n",
       "      <th>loan_amnt</th>\n",
       "      <td>-0.039910</td>\n",
       "      <td>0.084394</td>\n",
       "      <td>0.307442</td>\n",
       "      <td>1.000000</td>\n",
       "      <td>0.719434</td>\n",
       "      <td>-0.019302</td>\n",
       "      <td>0.531941</td>\n",
       "      <td>0.653621</td>\n",
       "      <td>0.214271</td>\n",
       "      <td>0.320882</td>\n",
       "      <td>0.138625</td>\n",
       "      <td>0.161313</td>\n",
       "      <td>0.373556</td>\n",
       "      <td>0.170019</td>\n",
       "      <td>0.120202</td>\n",
       "    </tr>\n",
       "    <tr>\n",
       "      <th>total_rec_int</th>\n",
       "      <td>0.009442</td>\n",
       "      <td>0.108788</td>\n",
       "      <td>0.154621</td>\n",
       "      <td>0.719434</td>\n",
       "      <td>1.000000</td>\n",
       "      <td>0.037647</td>\n",
       "      <td>0.682768</td>\n",
       "      <td>0.276272</td>\n",
       "      <td>0.091133</td>\n",
       "      <td>0.006610</td>\n",
       "      <td>0.474430</td>\n",
       "      <td>0.160696</td>\n",
       "      <td>0.137288</td>\n",
       "      <td>0.109669</td>\n",
       "      <td>0.004489</td>\n",
       "    </tr>\n",
       "    <tr>\n",
       "      <th>num_tl_op_past_12m</th>\n",
       "      <td>-0.095993</td>\n",
       "      <td>0.015495</td>\n",
       "      <td>0.051651</td>\n",
       "      <td>-0.019302</td>\n",
       "      <td>0.037647</td>\n",
       "      <td>1.000000</td>\n",
       "      <td>-0.076279</td>\n",
       "      <td>-0.008769</td>\n",
       "      <td>0.246000</td>\n",
       "      <td>0.049750</td>\n",
       "      <td>0.227151</td>\n",
       "      <td>0.266691</td>\n",
       "      <td>0.051642</td>\n",
       "      <td>0.365220</td>\n",
       "      <td>0.055602</td>\n",
       "    </tr>\n",
       "    <tr>\n",
       "      <th>out_prncp</th>\n",
       "      <td>0.167089</td>\n",
       "      <td>0.045709</td>\n",
       "      <td>0.156549</td>\n",
       "      <td>0.531941</td>\n",
       "      <td>0.682768</td>\n",
       "      <td>-0.076279</td>\n",
       "      <td>1.000000</td>\n",
       "      <td>-0.065702</td>\n",
       "      <td>0.074495</td>\n",
       "      <td>-0.346314</td>\n",
       "      <td>0.109354</td>\n",
       "      <td>0.111197</td>\n",
       "      <td>0.183874</td>\n",
       "      <td>0.077036</td>\n",
       "      <td>-0.131151</td>\n",
       "    </tr>\n",
       "    <tr>\n",
       "      <th>total_rec_prncp</th>\n",
       "      <td>0.266620</td>\n",
       "      <td>0.007546</td>\n",
       "      <td>0.232683</td>\n",
       "      <td>0.653621</td>\n",
       "      <td>0.276272</td>\n",
       "      <td>-0.008769</td>\n",
       "      <td>-0.065702</td>\n",
       "      <td>1.000000</td>\n",
       "      <td>0.180400</td>\n",
       "      <td>0.778589</td>\n",
       "      <td>-0.069325</td>\n",
       "      <td>0.073689</td>\n",
       "      <td>0.303056</td>\n",
       "      <td>0.116841</td>\n",
       "      <td>-0.128802</td>\n",
       "    </tr>\n",
       "    <tr>\n",
       "      <th>num_bc_tl</th>\n",
       "      <td>0.003461</td>\n",
       "      <td>-0.010164</td>\n",
       "      <td>0.135779</td>\n",
       "      <td>0.214271</td>\n",
       "      <td>0.091133</td>\n",
       "      <td>0.246000</td>\n",
       "      <td>0.074495</td>\n",
       "      <td>0.180400</td>\n",
       "      <td>1.000000</td>\n",
       "      <td>0.097827</td>\n",
       "      <td>-0.094410</td>\n",
       "      <td>0.511279</td>\n",
       "      <td>0.537191</td>\n",
       "      <td>0.657704</td>\n",
       "      <td>0.021036</td>\n",
       "    </tr>\n",
       "    <tr>\n",
       "      <th>last_pymnt_amnt</th>\n",
       "      <td>0.177592</td>\n",
       "      <td>-0.025014</td>\n",
       "      <td>0.110693</td>\n",
       "      <td>0.320882</td>\n",
       "      <td>0.006610</td>\n",
       "      <td>0.049750</td>\n",
       "      <td>-0.346314</td>\n",
       "      <td>0.778589</td>\n",
       "      <td>0.097827</td>\n",
       "      <td>1.000000</td>\n",
       "      <td>0.065918</td>\n",
       "      <td>0.004662</td>\n",
       "      <td>0.132947</td>\n",
       "      <td>0.053430</td>\n",
       "      <td>-0.071597</td>\n",
       "    </tr>\n",
       "    <tr>\n",
       "      <th>int_rate</th>\n",
       "      <td>-0.221374</td>\n",
       "      <td>0.071627</td>\n",
       "      <td>-0.086169</td>\n",
       "      <td>0.138625</td>\n",
       "      <td>0.474430</td>\n",
       "      <td>0.227151</td>\n",
       "      <td>0.109354</td>\n",
       "      <td>-0.069325</td>\n",
       "      <td>-0.094410</td>\n",
       "      <td>0.065918</td>\n",
       "      <td>1.000000</td>\n",
       "      <td>0.066796</td>\n",
       "      <td>-0.210946</td>\n",
       "      <td>-0.011884</td>\n",
       "      <td>0.143068</td>\n",
       "    </tr>\n",
       "    <tr>\n",
       "      <th>num_rev_tl_bal_gt_0</th>\n",
       "      <td>-0.037603</td>\n",
       "      <td>0.002311</td>\n",
       "      <td>0.081732</td>\n",
       "      <td>0.161313</td>\n",
       "      <td>0.160696</td>\n",
       "      <td>0.266691</td>\n",
       "      <td>0.111197</td>\n",
       "      <td>0.073689</td>\n",
       "      <td>0.511279</td>\n",
       "      <td>0.004662</td>\n",
       "      <td>0.066796</td>\n",
       "      <td>1.000000</td>\n",
       "      <td>0.320432</td>\n",
       "      <td>0.804704</td>\n",
       "      <td>0.024400</td>\n",
       "    </tr>\n",
       "    <tr>\n",
       "      <th>total_bc_limit</th>\n",
       "      <td>0.063804</td>\n",
       "      <td>-0.009938</td>\n",
       "      <td>0.268748</td>\n",
       "      <td>0.373556</td>\n",
       "      <td>0.137288</td>\n",
       "      <td>0.051642</td>\n",
       "      <td>0.183874</td>\n",
       "      <td>0.303056</td>\n",
       "      <td>0.537191</td>\n",
       "      <td>0.132947</td>\n",
       "      <td>-0.210946</td>\n",
       "      <td>0.320432</td>\n",
       "      <td>1.000000</td>\n",
       "      <td>0.437927</td>\n",
       "      <td>0.001439</td>\n",
       "    </tr>\n",
       "    <tr>\n",
       "      <th>num_op_rev_tl</th>\n",
       "      <td>-0.021726</td>\n",
       "      <td>-0.010827</td>\n",
       "      <td>0.082467</td>\n",
       "      <td>0.170019</td>\n",
       "      <td>0.109669</td>\n",
       "      <td>0.365220</td>\n",
       "      <td>0.077036</td>\n",
       "      <td>0.116841</td>\n",
       "      <td>0.657704</td>\n",
       "      <td>0.053430</td>\n",
       "      <td>-0.011884</td>\n",
       "      <td>0.804704</td>\n",
       "      <td>0.437927</td>\n",
       "      <td>1.000000</td>\n",
       "      <td>0.023644</td>\n",
       "    </tr>\n",
       "    <tr>\n",
       "      <th>recoveries</th>\n",
       "      <td>-0.424554</td>\n",
       "      <td>0.048622</td>\n",
       "      <td>0.016917</td>\n",
       "      <td>0.120202</td>\n",
       "      <td>0.004489</td>\n",
       "      <td>0.055602</td>\n",
       "      <td>-0.131151</td>\n",
       "      <td>-0.128802</td>\n",
       "      <td>0.021036</td>\n",
       "      <td>-0.071597</td>\n",
       "      <td>0.143068</td>\n",
       "      <td>0.024400</td>\n",
       "      <td>0.001439</td>\n",
       "      <td>0.023644</td>\n",
       "      <td>1.000000</td>\n",
       "    </tr>\n",
       "  </tbody>\n",
       "</table>\n",
       "</div>"
      ],
      "text/plain": [
       "                     loan_status  total_rec_late_fee  annual_inc  loan_amnt  \\\n",
       "loan_status             1.000000           -0.156267    0.030183  -0.039910   \n",
       "total_rec_late_fee     -0.156267            1.000000    0.033394   0.084394   \n",
       "annual_inc              0.030183            0.033394    1.000000   0.307442   \n",
       "loan_amnt              -0.039910            0.084394    0.307442   1.000000   \n",
       "total_rec_int           0.009442            0.108788    0.154621   0.719434   \n",
       "num_tl_op_past_12m     -0.095993            0.015495    0.051651  -0.019302   \n",
       "out_prncp               0.167089            0.045709    0.156549   0.531941   \n",
       "total_rec_prncp         0.266620            0.007546    0.232683   0.653621   \n",
       "num_bc_tl               0.003461           -0.010164    0.135779   0.214271   \n",
       "last_pymnt_amnt         0.177592           -0.025014    0.110693   0.320882   \n",
       "int_rate               -0.221374            0.071627   -0.086169   0.138625   \n",
       "num_rev_tl_bal_gt_0    -0.037603            0.002311    0.081732   0.161313   \n",
       "total_bc_limit          0.063804           -0.009938    0.268748   0.373556   \n",
       "num_op_rev_tl          -0.021726           -0.010827    0.082467   0.170019   \n",
       "recoveries             -0.424554            0.048622    0.016917   0.120202   \n",
       "\n",
       "                     total_rec_int  num_tl_op_past_12m  out_prncp  \\\n",
       "loan_status               0.009442           -0.095993   0.167089   \n",
       "total_rec_late_fee        0.108788            0.015495   0.045709   \n",
       "annual_inc                0.154621            0.051651   0.156549   \n",
       "loan_amnt                 0.719434           -0.019302   0.531941   \n",
       "total_rec_int             1.000000            0.037647   0.682768   \n",
       "num_tl_op_past_12m        0.037647            1.000000  -0.076279   \n",
       "out_prncp                 0.682768           -0.076279   1.000000   \n",
       "total_rec_prncp           0.276272           -0.008769  -0.065702   \n",
       "num_bc_tl                 0.091133            0.246000   0.074495   \n",
       "last_pymnt_amnt           0.006610            0.049750  -0.346314   \n",
       "int_rate                  0.474430            0.227151   0.109354   \n",
       "num_rev_tl_bal_gt_0       0.160696            0.266691   0.111197   \n",
       "total_bc_limit            0.137288            0.051642   0.183874   \n",
       "num_op_rev_tl             0.109669            0.365220   0.077036   \n",
       "recoveries                0.004489            0.055602  -0.131151   \n",
       "\n",
       "                     total_rec_prncp  num_bc_tl  last_pymnt_amnt  int_rate  \\\n",
       "loan_status                 0.266620   0.003461         0.177592 -0.221374   \n",
       "total_rec_late_fee          0.007546  -0.010164        -0.025014  0.071627   \n",
       "annual_inc                  0.232683   0.135779         0.110693 -0.086169   \n",
       "loan_amnt                   0.653621   0.214271         0.320882  0.138625   \n",
       "total_rec_int               0.276272   0.091133         0.006610  0.474430   \n",
       "num_tl_op_past_12m         -0.008769   0.246000         0.049750  0.227151   \n",
       "out_prncp                  -0.065702   0.074495        -0.346314  0.109354   \n",
       "total_rec_prncp             1.000000   0.180400         0.778589 -0.069325   \n",
       "num_bc_tl                   0.180400   1.000000         0.097827 -0.094410   \n",
       "last_pymnt_amnt             0.778589   0.097827         1.000000  0.065918   \n",
       "int_rate                   -0.069325  -0.094410         0.065918  1.000000   \n",
       "num_rev_tl_bal_gt_0         0.073689   0.511279         0.004662  0.066796   \n",
       "total_bc_limit              0.303056   0.537191         0.132947 -0.210946   \n",
       "num_op_rev_tl               0.116841   0.657704         0.053430 -0.011884   \n",
       "recoveries                 -0.128802   0.021036        -0.071597  0.143068   \n",
       "\n",
       "                     num_rev_tl_bal_gt_0  total_bc_limit  num_op_rev_tl  \\\n",
       "loan_status                    -0.037603        0.063804      -0.021726   \n",
       "total_rec_late_fee              0.002311       -0.009938      -0.010827   \n",
       "annual_inc                      0.081732        0.268748       0.082467   \n",
       "loan_amnt                       0.161313        0.373556       0.170019   \n",
       "total_rec_int                   0.160696        0.137288       0.109669   \n",
       "num_tl_op_past_12m              0.266691        0.051642       0.365220   \n",
       "out_prncp                       0.111197        0.183874       0.077036   \n",
       "total_rec_prncp                 0.073689        0.303056       0.116841   \n",
       "num_bc_tl                       0.511279        0.537191       0.657704   \n",
       "last_pymnt_amnt                 0.004662        0.132947       0.053430   \n",
       "int_rate                        0.066796       -0.210946      -0.011884   \n",
       "num_rev_tl_bal_gt_0             1.000000        0.320432       0.804704   \n",
       "total_bc_limit                  0.320432        1.000000       0.437927   \n",
       "num_op_rev_tl                   0.804704        0.437927       1.000000   \n",
       "recoveries                      0.024400        0.001439       0.023644   \n",
       "\n",
       "                     recoveries  \n",
       "loan_status           -0.424554  \n",
       "total_rec_late_fee     0.048622  \n",
       "annual_inc             0.016917  \n",
       "loan_amnt              0.120202  \n",
       "total_rec_int          0.004489  \n",
       "num_tl_op_past_12m     0.055602  \n",
       "out_prncp             -0.131151  \n",
       "total_rec_prncp       -0.128802  \n",
       "num_bc_tl              0.021036  \n",
       "last_pymnt_amnt       -0.071597  \n",
       "int_rate               0.143068  \n",
       "num_rev_tl_bal_gt_0    0.024400  \n",
       "total_bc_limit         0.001439  \n",
       "num_op_rev_tl          0.023644  \n",
       "recoveries             1.000000  "
      ]
     },
     "execution_count": 83,
     "metadata": {},
     "output_type": "execute_result"
    }
   ],
   "source": [
    "corr"
   ]
  },
  {
   "cell_type": "markdown",
   "metadata": {},
   "source": [
    "Through setting the threshold - the coefficient is larger than $0.05$, we finally get the following $25$ X variables:\n",
    "\n",
    "1) loan_amount: the list amount of the loan applied by the borrowers;\n",
    "\n",
    "2)* term: The number of payments on the loan. 36months/60months;\n",
    "\n",
    "3) int_rate: interest rate on the loan;\n",
    "\n",
    "4) annual_inc: The self-reported annual income provided by the borrower during registration;\n",
    "\n",
    "5) delinq_2yrs: The number of 30+ days past-due incidences of delinquency in the borrower's credit file for the past 2 years;\n",
    "\n",
    "6) total_acc:  The total number of credit lines currently in the borrower's credit file;\n",
    "\n",
    "7)* initial_list_status: The initial listing status of the loan. Possible values are – W, F;\n",
    "\n",
    "8) out_prncp_inv: Remaining outstanding principal for portion of total amount funded by investors;\n",
    "\n",
    "9) total_pymnt: Payments received to date for total amount funded;\n",
    "\n",
    "10) total_rec_prncp: Principal received to date;\n",
    "\n",
    "11) total_rec_int: Interest received to date;\n",
    "\n",
    "12) total_rec_late_fee: Late fees received to date;\n",
    "\n",
    "13) recoveries: post charge off gross recovery;\n",
    "\n",
    "14) num_bc_sats: Number of satisfactory bankcard accounts;\n",
    "\n",
    "15) num_bc_tl: Number of bankcard accounts;\n",
    "\n",
    "16) num_op_rev_tl: Number of open revolving accounts;\n",
    "\n",
    "17) num_rev_tl_bal_gt_0: Number of revolving trades with balance >0;\n",
    "\n",
    "18) num_sats: Number of satisfactory accounts;\n",
    "\n",
    "19) num_tl_op_past_12m: Number of accounts opened in past 12 months;\n",
    "\n",
    "20) total_bc_limit: Total bankcard high credit/credit limit;\n",
    "\n",
    "21)* finantial, medical, property: Purpose;\n",
    "\n",
    "22)* MORTGAGE, RENT: home_ownership."
   ]
  },
  {
   "cell_type": "code",
   "execution_count": 90,
   "metadata": {
    "collapsed": true
   },
   "outputs": [],
   "source": [
    "data_fnl = pd.concat([data_lasso[selected_X_0], data_lasso['loan_status']],axis = 1)"
   ]
  },
  {
   "cell_type": "code",
   "execution_count": 88,
   "metadata": {
    "collapsed": true
   },
   "outputs": [],
   "source": [
    "### training and test set split\n",
    "#Split the data into training set(75% of data) and testing set(25% of data)\n",
    "from sklearn.model_selection import train_test_split\n",
    "\n",
    "train, test = train_test_split(data_fnl, test_size = 0.25, random_state = 0)\n",
    "\n",
    "## get the train and test data set\n",
    "X_tr = train[train.columns.difference(['loan_status'])].values\n",
    "y_tr = train.loc[:, 'loan_status'].values\n",
    "\n",
    "X_te = test[test.columns.difference(['loan_status'])].values\n",
    "y_te = test.loc[:, 'loan_status'].values"
   ]
  },
  {
   "cell_type": "code",
   "execution_count": 35,
   "metadata": {},
   "outputs": [
    {
     "data": {
      "image/png": "[encoded data removed]",
      "text/plain": [
       "<matplotlib.figure.Figure at 0x1d80ce919e8>"
      ]
     },
     "metadata": {},
     "output_type": "display_data"
    }
   ],
   "source": [
    "# Analysis of categorical variables\n",
    "# violin plot to check the distribution of qualitative variables\n",
    "# 'term', 'home_ownership', 'verification_status', 'purpose', 'addr_state', 'initial_list_status',\n",
    "# 'application_type'\n",
    "f, axes = plt.subplots(2, 2, figsize=(15,15))\n",
    "buckets = ['term', 'addr_state', 'verification_status', 'initial_list_status']\n",
    "\n",
    "for i in buckets:\n",
    "    catg = data[[\"loan_status\",i]]\n",
    "    row = buckets.index(i) // 2\n",
    "    col = buckets.index(i) % 2\n",
    "    ax_curr = axes[row, col]\n",
    "    sns.violinplot(x=i, y=\"loan_status\", data=catg, ax=ax_curr)\n",
    "    ax_curr.set_title(i)\n",
    "\n",
    "plt.show()"
   ]
  },
  {
   "cell_type": "markdown",
   "metadata": {
    "collapsed": true
   },
   "source": [
    "__Logistic Regression:__"
   ]
  },
  {
   "cell_type": "code",
   "execution_count": 91,
   "metadata": {
    "collapsed": true
   },
   "outputs": [],
   "source": [
    "from sklearn.linear_model import LogisticRegression"
   ]
  },
  {
   "cell_type": "code",
   "execution_count": 92,
   "metadata": {},
   "outputs": [
    {
     "data": {
      "text/plain": [
       "1.0    376807\n",
       "0.0     57600\n",
       "Name: loan_status, dtype: int64"
      ]
     },
     "execution_count": 92,
     "metadata": {},
     "output_type": "execute_result"
    }
   ],
   "source": [
    "data_fnl['loan_status'].value_counts()"
   ]
  },
  {
   "cell_type": "code",
   "execution_count": 93,
   "metadata": {},
   "outputs": [
    {
     "data": {
      "text/html": [
       "<div>\n",
       "<style scoped>\n",
       "    .dataframe tbody tr th:only-of-type {\n",
       "        vertical-align: middle;\n",
       "    }\n",
       "\n",
       "    .dataframe tbody tr th {\n",
       "        vertical-align: top;\n",
       "    }\n",
       "\n",
       "    .dataframe thead th {\n",
       "        text-align: right;\n",
       "    }\n",
       "</style>\n",
       "<table border=\"1\" class=\"dataframe\">\n",
       "  <thead>\n",
       "    <tr style=\"text-align: right;\">\n",
       "      <th></th>\n",
       "      <th>loan_amnt</th>\n",
       "      <th>term</th>\n",
       "      <th>int_rate</th>\n",
       "      <th>annual_inc</th>\n",
       "      <th>out_prncp</th>\n",
       "      <th>total_rec_prncp</th>\n",
       "      <th>total_rec_int</th>\n",
       "      <th>total_rec_late_fee</th>\n",
       "      <th>recoveries</th>\n",
       "      <th>last_pymnt_amnt</th>\n",
       "      <th>num_bc_tl</th>\n",
       "      <th>num_op_rev_tl</th>\n",
       "      <th>num_rev_tl_bal_gt_0</th>\n",
       "      <th>num_tl_op_past_12m</th>\n",
       "      <th>total_bc_limit</th>\n",
       "      <th>finantial</th>\n",
       "      <th>property</th>\n",
       "      <th>MORTGAGE</th>\n",
       "    </tr>\n",
       "    <tr>\n",
       "      <th>loan_status</th>\n",
       "      <th></th>\n",
       "      <th></th>\n",
       "      <th></th>\n",
       "      <th></th>\n",
       "      <th></th>\n",
       "      <th></th>\n",
       "      <th></th>\n",
       "      <th></th>\n",
       "      <th></th>\n",
       "      <th></th>\n",
       "      <th></th>\n",
       "      <th></th>\n",
       "      <th></th>\n",
       "      <th></th>\n",
       "      <th></th>\n",
       "      <th></th>\n",
       "      <th></th>\n",
       "      <th></th>\n",
       "    </tr>\n",
       "  </thead>\n",
       "  <tbody>\n",
       "    <tr>\n",
       "      <th>0.0</th>\n",
       "      <td>0.102077</td>\n",
       "      <td>0.680000</td>\n",
       "      <td>0.566207</td>\n",
       "      <td>-0.077200</td>\n",
       "      <td>-0.427362</td>\n",
       "      <td>-0.681931</td>\n",
       "      <td>-0.024150</td>\n",
       "      <td>0.399684</td>\n",
       "      <td>1.085877</td>\n",
       "      <td>-0.454225</td>\n",
       "      <td>-0.008852</td>\n",
       "      <td>0.055567</td>\n",
       "      <td>0.096176</td>\n",
       "      <td>0.245521</td>\n",
       "      <td>-0.163191</td>\n",
       "      <td>0.877049</td>\n",
       "      <td>0.108819</td>\n",
       "      <td>0.416059</td>\n",
       "    </tr>\n",
       "    <tr>\n",
       "      <th>1.0</th>\n",
       "      <td>-0.015604</td>\n",
       "      <td>0.754569</td>\n",
       "      <td>-0.086552</td>\n",
       "      <td>0.011801</td>\n",
       "      <td>0.065328</td>\n",
       "      <td>0.104242</td>\n",
       "      <td>0.003692</td>\n",
       "      <td>-0.061097</td>\n",
       "      <td>-0.165991</td>\n",
       "      <td>0.069434</td>\n",
       "      <td>0.001353</td>\n",
       "      <td>-0.008494</td>\n",
       "      <td>-0.014702</td>\n",
       "      <td>-0.037531</td>\n",
       "      <td>0.024946</td>\n",
       "      <td>0.866521</td>\n",
       "      <td>0.121203</td>\n",
       "      <td>0.497738</td>\n",
       "    </tr>\n",
       "  </tbody>\n",
       "</table>\n",
       "</div>"
      ],
      "text/plain": [
       "             loan_amnt      term  int_rate  annual_inc  out_prncp  \\\n",
       "loan_status                                                         \n",
       "0.0           0.102077  0.680000  0.566207   -0.077200  -0.427362   \n",
       "1.0          -0.015604  0.754569 -0.086552    0.011801   0.065328   \n",
       "\n",
       "             total_rec_prncp  total_rec_int  total_rec_late_fee  recoveries  \\\n",
       "loan_status                                                                   \n",
       "0.0                -0.681931      -0.024150            0.399684    1.085877   \n",
       "1.0                 0.104242       0.003692           -0.061097   -0.165991   \n",
       "\n",
       "             last_pymnt_amnt  num_bc_tl  num_op_rev_tl  num_rev_tl_bal_gt_0  \\\n",
       "loan_status                                                                   \n",
       "0.0                -0.454225  -0.008852       0.055567             0.096176   \n",
       "1.0                 0.069434   0.001353      -0.008494            -0.014702   \n",
       "\n",
       "             num_tl_op_past_12m  total_bc_limit  finantial  property  MORTGAGE  \n",
       "loan_status                                                                     \n",
       "0.0                    0.245521       -0.163191   0.877049  0.108819  0.416059  \n",
       "1.0                   -0.037531        0.024946   0.866521  0.121203  0.497738  "
      ]
     },
     "execution_count": 93,
     "metadata": {},
     "output_type": "execute_result"
    }
   ],
   "source": [
    "data_fnl.groupby('loan_status').mean()"
   ]
  },
  {
   "cell_type": "code",
   "execution_count": 94,
   "metadata": {},
   "outputs": [
    {
     "data": {
      "text/plain": [
       "LogisticRegression(C=1.0, class_weight=None, dual=False, fit_intercept=True,\n",
       "          intercept_scaling=1, max_iter=100, multi_class='ovr', n_jobs=1,\n",
       "          penalty='l2', random_state=None, solver='liblinear', tol=0.0001,\n",
       "          verbose=0, warm_start=False)"
      ]
     },
     "execution_count": 94,
     "metadata": {},
     "output_type": "execute_result"
    }
   ],
   "source": [
    "logreg=LogisticRegression()\n",
    "logreg.fit(X_tr,y_tr)"
   ]
  },
  {
   "cell_type": "code",
   "execution_count": 95,
   "metadata": {
    "collapsed": true
   },
   "outputs": [],
   "source": [
    "y_pred = logreg.predict(X_te)"
   ]
  },
  {
   "cell_type": "code",
   "execution_count": 96,
   "metadata": {},
   "outputs": [
    {
     "name": "stdout",
     "output_type": "stream",
     "text": [
      "Accuracy of logistic regression classifier on test set: 0.97\n"
     ]
    }
   ],
   "source": [
    "print('Accuracy of logistic regression classifier on test set: {:.2f}'.format(logreg.score(X_te, y_te)))"
   ]
  },
  {
   "cell_type": "code",
   "execution_count": 97,
   "metadata": {},
   "outputs": [
    {
     "data": {
      "image/png": "[encoded data removed]",
      "text/plain": [
       "<matplotlib.figure.Figure at 0x21f1c816f28>"
      ]
     },
     "metadata": {},
     "output_type": "display_data"
    }
   ],
   "source": [
    "from sklearn.metrics import roc_auc_score\n",
    "from sklearn.metrics import roc_curve\n",
    "logit_roc_auc = roc_auc_score(y_te, logreg.predict(X_te))\n",
    "fpr, tpr, thresholds = roc_curve(y_te, logreg.predict_proba(X_te)[:,1])\n",
    "plt.figure()\n",
    "plt.plot(fpr, tpr, label='Logistic Regression (area = %0.2f)' % logit_roc_auc)\n",
    "plt.plot([0, 1], [0, 1],'r--')\n",
    "plt.xlim([0.0, 1.0])\n",
    "plt.ylim([0.0, 1.05])\n",
    "plt.xlabel('False Positive Rate')\n",
    "plt.ylabel('True Positive Rate')\n",
    "plt.title('Receiver operating characteristic')\n",
    "plt.legend(loc=\"lower right\")\n",
    "plt.savefig('Log_ROC')\n",
    "plt.show()"
   ]
  },
  {
   "cell_type": "code",
   "execution_count": 176,
   "metadata": {},
   "outputs": [
    {
     "data": {
      "text/plain": [
       "array([ 1.47922626e-01, -6.89886903e-02,  1.25976314e-01, -7.15114287e-03,\n",
       "       -1.71558633e-01, -9.04782527e-02, -4.01236371e-01, -2.22989161e+01,\n",
       "       -1.20392273e-01, -1.00522424e-01, -2.98746601e-02,  4.47714429e-02,\n",
       "       -7.63674144e-02,  3.90062454e-02, -1.42926342e-01,  1.44087281e+01,\n",
       "       -6.63652650e-02, -8.68628663e+00, -1.35100531e+00, -5.81920697e-02,\n",
       "        2.89218476e-01,  8.83828328e+00, -1.93798423e+00, -4.20644894e-01,\n",
       "        1.10540419e+01])"
      ]
     },
     "execution_count": 176,
     "metadata": {},
     "output_type": "execute_result"
    }
   ],
   "source": [
    "logreg.coef_[0]"
   ]
  },
  {
   "cell_type": "code",
   "execution_count": 186,
   "metadata": {},
   "outputs": [
    {
     "data": {
      "text/plain": [
       "array([ 0.41728253,  0.22312659,  0.25035068, -0.13057753,  0.15544497,\n",
       "       -0.47229493, -0.05682666,  0.30609711,  0.30539769, -0.30838795,\n",
       "       -0.3463868 ,  0.4893977 , -0.28748542,  0.28732588,  0.28755715,\n",
       "        0.24377843, -0.44049728, -0.05264153,  0.11303518,  0.10057491,\n",
       "        0.16644152,  0.05328055, -0.11303911,  0.2387712 ,  0.08758874])"
      ]
     },
     "execution_count": 186,
     "metadata": {},
     "output_type": "execute_result"
    }
   ],
   "source": [
    "best_beta_1[select_X.T[0]].T[0]"
   ]
  }
 ],
 "metadata": {
  "kernelspec": {
   "display_name": "Python 3",
   "language": "python",
   "name": "python3"
  },
  "language_info": {
   "codemirror_mode": {
    "name": "ipython",
    "version": 3
   },
   "file_extension": ".py",
   "mimetype": "text/x-python",
   "name": "python",
   "nbconvert_exporter": "python",
   "pygments_lexer": "ipython3",
   "version": "3.6.1"
  }
 },
 "nbformat": 4,
 "nbformat_minor": 2
}
