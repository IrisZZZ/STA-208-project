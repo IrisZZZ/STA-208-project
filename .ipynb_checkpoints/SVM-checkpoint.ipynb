{
 "cells": [
  {
   "cell_type": "markdown",
   "metadata": {},
   "source": [
    "# Project Introduction\n",
    "\n",
    "This project aims to built a model to predict a loan status upon information of the borrower."
   ]
  },
  {
   "cell_type": "markdown",
   "metadata": {},
   "source": [
    "# 1. Data Importing"
   ]
  },
  {
   "cell_type": "code",
   "execution_count": 1,
   "metadata": {
    "collapsed": true
   },
   "outputs": [],
   "source": [
    "import numpy as np\n",
    "import pandas as pd\n",
    "import os\n",
    "import sqlalchemy as sqla\n",
    "import sqlite3 as sql\n",
    "from sqlite3 import Error\n",
    "import re\n",
    "\n",
    "import matplotlib as mpl\n",
    "import matplotlib.pyplot as plt\n",
    "import seaborn as sns\n",
    "\n",
    "%matplotlib inline"
   ]
  },
  {
   "cell_type": "code",
   "execution_count": 2,
   "metadata": {
    "collapsed": true
   },
   "outputs": [],
   "source": [
    "file_loc = os.getcwd()"
   ]
  },
  {
   "cell_type": "code",
   "execution_count": 3,
   "metadata": {},
   "outputs": [
    {
     "data": {
      "text/plain": [
       "'C:\\\\Users\\\\Administrator\\\\1-STA208\\\\STA-208-project'"
      ]
     },
     "execution_count": 3,
     "metadata": {},
     "output_type": "execute_result"
    }
   ],
   "source": [
    "file_loc"
   ]
  },
  {
   "cell_type": "code",
   "execution_count": 4,
   "metadata": {
    "collapsed": true
   },
   "outputs": [],
   "source": [
    "db1= sql.connect(file_loc+\"\\data1.db\")\n",
    "df1=pd.read_sql(\"SELECT * FROM loan\",db1)\n",
    "db2= sql.connect(file_loc+\"\\data2.db\")\n",
    "df2=pd.read_sql(\"SELECT * FROM loan\",db2)\n",
    "db3= sql.connect(file_loc+\"\\data3.db\")\n",
    "df3=pd.read_sql(\"SELECT * FROM loan\",db3)\n",
    "db4= sql.connect(file_loc+\"\\data4.db\")\n",
    "df4=pd.read_sql(\"SELECT * FROM loan\",db4)\n",
    "db5= sql.connect(file_loc+\"\\data5.db\")\n",
    "df5=pd.read_sql(\"SELECT * FROM loan\",db5)\n",
    "db6= sql.connect(file_loc+\"\\data6.db\")\n",
    "df6=pd.read_sql(\"SELECT * FROM loan\",db6)\n",
    "db7= sql.connect(file_loc+\"\\data7.db\")\n",
    "df7=pd.read_sql(\"SELECT * FROM loan\",db7)\n",
    "db8= sql.connect(file_loc+\"\\data8.db\")\n",
    "df8=pd.read_sql(\"SELECT * FROM loan\",db8)\n",
    "db9= sql.connect(file_loc+\"\\data9.db\")\n",
    "df9=pd.read_sql(\"SELECT * FROM loan\",db9)\n",
    "db10= sql.connect(file_loc+\"\\data10.db\")\n",
    "df10=pd.read_sql(\"SELECT * FROM loan\",db10)\n",
    "db11= sql.connect(file_loc+\"\\data11.db\")\n",
    "df11=pd.read_sql(\"SELECT * FROM loan\",db11)\n",
    "db12= sql.connect(file_loc+\"\\data12.db\")\n",
    "df12=pd.read_sql(\"SELECT * FROM loan\",db12)"
   ]
  },
  {
   "cell_type": "code",
   "execution_count": 5,
   "metadata": {},
   "outputs": [
    {
     "data": {
      "text/plain": [
       "(434407, 65)"
      ]
     },
     "execution_count": 5,
     "metadata": {},
     "output_type": "execute_result"
    }
   ],
   "source": [
    "df = pd.DataFrame()\n",
    "df = df.append(df1)\n",
    "df = df.append(df2)\n",
    "df = df.append(df3)\n",
    "df = df.append(df4)\n",
    "df = df.append(df5)\n",
    "df = df.append(df6)\n",
    "df = df.append(df7)\n",
    "df = df.append(df8)\n",
    "df = df.append(df9)\n",
    "df = df.append(df10)\n",
    "df = df.append(df11)\n",
    "df = df.append(df12)\n",
    "df.shape"
   ]
  },
  {
   "cell_type": "code",
   "execution_count": 6,
   "metadata": {},
   "outputs": [
    {
     "data": {
      "text/html": [
       "<div>\n",
       "<style scoped>\n",
       "    .dataframe tbody tr th:only-of-type {\n",
       "        vertical-align: middle;\n",
       "    }\n",
       "\n",
       "    .dataframe tbody tr th {\n",
       "        vertical-align: top;\n",
       "    }\n",
       "\n",
       "    .dataframe thead th {\n",
       "        text-align: right;\n",
       "    }\n",
       "</style>\n",
       "<table border=\"1\" class=\"dataframe\">\n",
       "  <thead>\n",
       "    <tr style=\"text-align: right;\">\n",
       "      <th></th>\n",
       "      <th>loan_amnt</th>\n",
       "      <th>funded_amnt</th>\n",
       "      <th>funded_amnt_inv</th>\n",
       "      <th>term</th>\n",
       "      <th>int_rate</th>\n",
       "      <th>installment</th>\n",
       "      <th>grade</th>\n",
       "      <th>sub_grade</th>\n",
       "      <th>home_ownership</th>\n",
       "      <th>annual_inc</th>\n",
       "      <th>...</th>\n",
       "      <th>num_sats</th>\n",
       "      <th>num_tl_90g_dpd_24m</th>\n",
       "      <th>num_tl_op_past_12m</th>\n",
       "      <th>pct_tl_nvr_dlq</th>\n",
       "      <th>pub_rec_bankruptcies</th>\n",
       "      <th>tax_liens</th>\n",
       "      <th>tot_hi_cred_lim</th>\n",
       "      <th>total_bal_ex_mort</th>\n",
       "      <th>total_bc_limit</th>\n",
       "      <th>total_il_high_credit_limit</th>\n",
       "    </tr>\n",
       "  </thead>\n",
       "  <tbody>\n",
       "    <tr>\n",
       "      <th>0</th>\n",
       "      <td>17600</td>\n",
       "      <td>17600</td>\n",
       "      <td>17600</td>\n",
       "      <td>36 months</td>\n",
       "      <td>10.75%</td>\n",
       "      <td>574.12</td>\n",
       "      <td>B</td>\n",
       "      <td>B4</td>\n",
       "      <td>RENT</td>\n",
       "      <td>57109</td>\n",
       "      <td>...</td>\n",
       "      <td>6</td>\n",
       "      <td>0</td>\n",
       "      <td>1</td>\n",
       "      <td>95.1</td>\n",
       "      <td>1</td>\n",
       "      <td>0</td>\n",
       "      <td>88629</td>\n",
       "      <td>83563</td>\n",
       "      <td>2300</td>\n",
       "      <td>80329</td>\n",
       "    </tr>\n",
       "    <tr>\n",
       "      <th>1</th>\n",
       "      <td>12500</td>\n",
       "      <td>12500</td>\n",
       "      <td>12500</td>\n",
       "      <td>60 months</td>\n",
       "      <td>8.39%</td>\n",
       "      <td>255.8</td>\n",
       "      <td>B</td>\n",
       "      <td>B1</td>\n",
       "      <td>RENT</td>\n",
       "      <td>120000</td>\n",
       "      <td>...</td>\n",
       "      <td>9</td>\n",
       "      <td>0</td>\n",
       "      <td>1</td>\n",
       "      <td>100</td>\n",
       "      <td>0</td>\n",
       "      <td>0</td>\n",
       "      <td>80899</td>\n",
       "      <td>40673</td>\n",
       "      <td>48400</td>\n",
       "      <td>32499</td>\n",
       "    </tr>\n",
       "    <tr>\n",
       "      <th>2</th>\n",
       "      <td>10000</td>\n",
       "      <td>10000</td>\n",
       "      <td>10000</td>\n",
       "      <td>36 months</td>\n",
       "      <td>11.99%</td>\n",
       "      <td>332.1</td>\n",
       "      <td>C</td>\n",
       "      <td>C1</td>\n",
       "      <td>MORTGAGE</td>\n",
       "      <td>75000</td>\n",
       "      <td>...</td>\n",
       "      <td>9</td>\n",
       "      <td>0</td>\n",
       "      <td>2</td>\n",
       "      <td>100</td>\n",
       "      <td>0</td>\n",
       "      <td>1</td>\n",
       "      <td>71858</td>\n",
       "      <td>48844</td>\n",
       "      <td>0</td>\n",
       "      <td>60358</td>\n",
       "    </tr>\n",
       "    <tr>\n",
       "      <th>3</th>\n",
       "      <td>3000</td>\n",
       "      <td>3000</td>\n",
       "      <td>3000</td>\n",
       "      <td>36 months</td>\n",
       "      <td>7.39%</td>\n",
       "      <td>93.17</td>\n",
       "      <td>A</td>\n",
       "      <td>A4</td>\n",
       "      <td>RENT</td>\n",
       "      <td>80000</td>\n",
       "      <td>...</td>\n",
       "      <td>6</td>\n",
       "      <td>0</td>\n",
       "      <td>0</td>\n",
       "      <td>95</td>\n",
       "      <td>0</td>\n",
       "      <td>0</td>\n",
       "      <td>221908</td>\n",
       "      <td>25665</td>\n",
       "      <td>42200</td>\n",
       "      <td>30936</td>\n",
       "    </tr>\n",
       "    <tr>\n",
       "      <th>4</th>\n",
       "      <td>2000</td>\n",
       "      <td>2000</td>\n",
       "      <td>2000</td>\n",
       "      <td>36 months</td>\n",
       "      <td>6.49%</td>\n",
       "      <td>61.29</td>\n",
       "      <td>A</td>\n",
       "      <td>A2</td>\n",
       "      <td>RENT</td>\n",
       "      <td>90000</td>\n",
       "      <td>...</td>\n",
       "      <td>19</td>\n",
       "      <td>0</td>\n",
       "      <td>2</td>\n",
       "      <td>97.3</td>\n",
       "      <td>0</td>\n",
       "      <td>0</td>\n",
       "      <td>176338</td>\n",
       "      <td>68841</td>\n",
       "      <td>122100</td>\n",
       "      <td>48438</td>\n",
       "    </tr>\n",
       "  </tbody>\n",
       "</table>\n",
       "<p>5 rows × 65 columns</p>\n",
       "</div>"
      ],
      "text/plain": [
       "   loan_amnt  funded_amnt funded_amnt_inv        term int_rate installment  \\\n",
       "0      17600        17600           17600   36 months   10.75%      574.12   \n",
       "1      12500        12500           12500   60 months    8.39%       255.8   \n",
       "2      10000        10000           10000   36 months   11.99%       332.1   \n",
       "3       3000         3000            3000   36 months    7.39%       93.17   \n",
       "4       2000         2000            2000   36 months    6.49%       61.29   \n",
       "\n",
       "  grade sub_grade home_ownership annual_inc             ...              \\\n",
       "0     B        B4           RENT      57109             ...               \n",
       "1     B        B1           RENT     120000             ...               \n",
       "2     C        C1       MORTGAGE      75000             ...               \n",
       "3     A        A4           RENT      80000             ...               \n",
       "4     A        A2           RENT      90000             ...               \n",
       "\n",
       "  num_sats num_tl_90g_dpd_24m num_tl_op_past_12m pct_tl_nvr_dlq  \\\n",
       "0        6                  0                  1           95.1   \n",
       "1        9                  0                  1            100   \n",
       "2        9                  0                  2            100   \n",
       "3        6                  0                  0             95   \n",
       "4       19                  0                  2           97.3   \n",
       "\n",
       "  pub_rec_bankruptcies tax_liens  tot_hi_cred_lim total_bal_ex_mort  \\\n",
       "0                    1         0            88629             83563   \n",
       "1                    0         0            80899             40673   \n",
       "2                    0         1            71858             48844   \n",
       "3                    0         0           221908             25665   \n",
       "4                    0         0           176338             68841   \n",
       "\n",
       "   total_bc_limit  total_il_high_credit_limit  \n",
       "0            2300                       80329  \n",
       "1           48400                       32499  \n",
       "2               0                       60358  \n",
       "3           42200                       30936  \n",
       "4          122100                       48438  \n",
       "\n",
       "[5 rows x 65 columns]"
      ]
     },
     "execution_count": 6,
     "metadata": {},
     "output_type": "execute_result"
    }
   ],
   "source": [
    "df.head()"
   ]
  },
  {
   "cell_type": "markdown",
   "metadata": {},
   "source": [
    "# 2. Data Processing"
   ]
  },
  {
   "cell_type": "markdown",
   "metadata": {},
   "source": [
    "### 2.1 Prelimilary Data cleansing\n",
    "\n",
    "Through the prelimilary data viewing and the dictionary of all variables (you are able to reach out it at [Data Dictionary](https://resources.lendingclub.com/LCDataDictionary.xlsx)), we do the data cleansing as the following:\n",
    "\n",
    "1. Notice that the __grade__ and __subgrade__ variables are assessed directly from the interest rate, that is, the variable __int_rate__. Thus, mere __int_rate__ suffices to cover the information provided by them, and __grade__ and __subgrade__ can be removed from our list of variables. \n",
    "\n",
    "2. __zip_code__ is not appropriate to be deemed as a variable. ALso, the __addr_state__ includes the information.\n",
    "\n",
    "3. __issue_d__, __earliest_cr_line__ and __last_credit_pull_d__ don't contain valuable information, we also drop them.\n",
    "\n",
    "4. __collection_recovery_fee__ would definitely has a ratio relationship with __recoveries__ which should be dropped here.\n",
    "\n",
    "5. Since __total_pymnt__ is the sum of __total_rec_prncp__, __total_rec_int__, and __total_rec_late_fee__. Meanwhile, __total_pymnt_inv__ is almost the same as __total_pymnt__, obviously we should drop both of them to avoid multicollinearity. \n",
    "\n",
    "6. Finally, as __funded_amnt__,__funded_amnt_inv__ and __out_prncp_inv__ are all duplicate X variables in the dataset, we drop them as well."
   ]
  },
  {
   "cell_type": "code",
   "execution_count": 7,
   "metadata": {},
   "outputs": [
    {
     "data": {
      "text/plain": [
       "(434407, 53)"
      ]
     },
     "execution_count": 7,
     "metadata": {},
     "output_type": "execute_result"
    }
   ],
   "source": [
    "data = df.copy()\n",
    "\n",
    "col_drop = ['grade','sub_grade','issue_d','earliest_cr_line','zip_code','collection_recovery_fee',\n",
    "            'total_pymnt', 'total_pymnt_inv','last_credit_pull_d', 'funded_amnt','funded_amnt_inv','out_prncp_inv']\n",
    "data = data.drop(col_drop, axis = 1)\n",
    "data = data.reset_index(drop=True)\n",
    "data.shape"
   ]
  },
  {
   "cell_type": "markdown",
   "metadata": {},
   "source": [
    "### 2.2  Dummy variables creation\n",
    "\n",
    "Among the __$53$__ variables we have now, some of them are quantitative and have only a few statuses. For these variables, we can establish dummy variables that take either 0 or 1. For quantitative variables that have more than two categories, we combine some of to create more synthesized categories.\n",
    "\n",
    "      1. Response variable: loan_status\n",
    "\n",
    "   Because it has $7$ different categories, `Fully paid`, `Current`, `In Grace Period`, `Late(16-30 days)`, `Late(31-120 days)`, `Default`, `Charged Off`, we want to categorize them into two groups that result to a binary variable. \n",
    "   \n",
    "   Since the first two categories are signs of a good status of loan, and the latter five indicate different extents of late payment, we denote __good status__ as `Fully paid` or `Current`, and __bad status__ as `In Grace Period`, `Late(16-30 days)`, `Late(31-120 days)`, `Default` or `Charged Off`.\n",
    "   \n",
    "   loan_status$=\n",
    "\\left\\{\\begin{array}{cl} \n",
    "\t\t1,& \\text{good status}\\\\\n",
    "\t\t0,& \\text{bad status}\n",
    "\t\\end{array}\\right.$\n",
    "\n",
    "       2. Predictor variable 1: purpose\n",
    "    \n",
    "It also has multiple categories: `car, home-improvement, house, moving, major_purchase, renewable_enery, credit_card, debt_consolidation, small_business, medical, vacation and other`, which requires many dummy variables. \n",
    "    \n",
    "To make the situation simpler, except for __`medical`__, we classify `car, home_improvement, house, moving, major_purchase and renewable_enery` as __`property`__, `credit_card, debt_consolidation and small_business, vacation and other` as __`financial`__. Therefore, we get $3$ categories of purposes, which can be represented by $2$ dummy variables:\n",
    "\n",
    "purpose1$=\n",
    "\\left\\{\\begin{array}{cl} \n",
    "        1,& \\text{financial}\\\\\n",
    "        0,& \\text{medical} \n",
    "     \\end{array}\\right.$\n",
    "        \n",
    "purpose2$=\n",
    "\\left\\{\\begin{array}{cl} \n",
    "        1,&\\text{property} \\\\\n",
    "        0,&\\text{medical}  \n",
    "    \\end{array}\\right.$\n",
    "\n",
    "      3. Predictor variable 2: addr_state\n",
    "\n",
    "It records the state address of the borrower. Considering the data is collected from Lending Club, which locates in San Francisco, CA, we want to know whether it makes a difference if the loan request is from an instate borrower or not. In this case, we only have to make a distinction between a California loaner and a non California borrower.\n",
    "\n",
    "addr_state$=\n",
    "\\left\\{\\begin{array}{cl} \n",
    "\t\t1,&\\text{California} \\\\\n",
    "\t\t0,&\\text{other states}  \n",
    "\t\\end{array}\\right.$\n",
    "\n",
    "      4. Predictor variable 3: verification_status\n",
    "\n",
    "Similarly, in verification_status, we combine verified and source verified as verified:\n",
    "\n",
    "verification_status$=\n",
    "\\left\\{\\begin{array}{cl} \n",
    "\t\t1,& \\text{verified}\\\\\n",
    "\t\t0, & \\text{not verified}\n",
    "\t\\end{array}\\right.$\n",
    " \n",
    "      5. The other 4 more qualitative variables, which are coded as below:\n",
    "\n",
    "term$=\n",
    "\\left\\{\\begin{array}{cl} \n",
    "\t\t1,&\\text{36 months} \\\\\n",
    "\t\t0,&\\text{60 others}  \n",
    "\t\\end{array}\\right.$\n",
    " \n",
    "home_ownership1$=\n",
    "\\left\\{\\begin{array}{cl} \n",
    "\t\t1,& \\text{rent}\\\\\n",
    "\t\t0,& \\text{any}  \n",
    "\t\\end{array}\\right.$, \n",
    "home_ownership2$=\n",
    "\\left\\{\\begin{array}{cl} \n",
    "\t\t1,& \\text{own}\\\\\n",
    "\t\t0,& \\text{any}\n",
    "\t\\end{array}\\right.$, \n",
    "home_ownership3$=\n",
    "\\left\\{\\begin{array}{cl} \n",
    "\t\t1,& \\text{mortage}\\\\\n",
    "\t\t0,& \\text{any} \n",
    "\t\\end{array}\\right.$\n",
    "\n",
    "initial_list_status$=\n",
    "\\left\\{\\begin{array}{cl} \n",
    "\t\t1,& \\text{whole}\\\\\n",
    "\t\t0,& \\text{fraction}\n",
    "\t\\end{array}\\right.$\n",
    "\n",
    "application_type$=\n",
    "\\left\\{\\begin{array}{cl} \n",
    "\t\t1,& \\text{Individual}\\\\\n",
    "\t\t0,& \\text{Joint App}\n",
    "\t\\end{array}\\right.$"
   ]
  },
  {
   "cell_type": "code",
   "execution_count": 8,
   "metadata": {
    "collapsed": true
   },
   "outputs": [],
   "source": [
    "y_temp = data['loan_status']"
   ]
  },
  {
   "cell_type": "code",
   "execution_count": 9,
   "metadata": {
    "collapsed": true
   },
   "outputs": [],
   "source": [
    "# recode loan_status\n",
    "y = y_temp.copy()\n",
    "for i in range(len(y)):\n",
    "    if (y_temp[i] == 'Fully Paid') or (y_temp[i] == 'Current'):\n",
    "        y[i] = 'good'\n",
    "    else:\n",
    "        y[i] = 'bad'"
   ]
  },
  {
   "cell_type": "code",
   "execution_count": 10,
   "metadata": {},
   "outputs": [
    {
     "data": {
      "text/plain": [
       "0    good\n",
       "1    good\n",
       "2    good\n",
       "3    good\n",
       "4    good\n",
       "Name: loan_status, dtype: object"
      ]
     },
     "execution_count": 10,
     "metadata": {},
     "output_type": "execute_result"
    }
   ],
   "source": [
    "y.head()"
   ]
  },
  {
   "cell_type": "code",
   "execution_count": 11,
   "metadata": {
    "collapsed": true
   },
   "outputs": [],
   "source": [
    "purpose_temp = data['purpose']"
   ]
  },
  {
   "cell_type": "code",
   "execution_count": 12,
   "metadata": {
    "collapsed": true
   },
   "outputs": [],
   "source": [
    "#recode purposes\n",
    "purpose = purpose_temp.copy()\n",
    "for i in range(len(purpose)):\n",
    "    if (purpose_temp[i] == 'credit_card') or ( purpose_temp[i] == 'debt_consolidation') or (purpose_temp[i] == 'small_business') or (purpose_temp[i] == 'vacation') or (purpose_temp[i] == 'other'):\n",
    "        purpose[i] = 'financial'\n",
    "    elif purpose_temp[i] == 'medical':\n",
    "        purpose[i] == 'medical'\n",
    "    else:\n",
    "        purpose[i] = 'property'"
   ]
  },
  {
   "cell_type": "code",
   "execution_count": 13,
   "metadata": {
    "scrolled": true
   },
   "outputs": [
    {
     "data": {
      "text/plain": [
       "0    financial\n",
       "1    financial\n",
       "2    financial\n",
       "3    financial\n",
       "4    financial\n",
       "Name: purpose, dtype: object"
      ]
     },
     "execution_count": 13,
     "metadata": {},
     "output_type": "execute_result"
    }
   ],
   "source": [
    "purpose.head()"
   ]
  },
  {
   "cell_type": "code",
   "execution_count": 14,
   "metadata": {
    "collapsed": true
   },
   "outputs": [],
   "source": [
    "addr_state_temp = data['addr_state']"
   ]
  },
  {
   "cell_type": "code",
   "execution_count": 15,
   "metadata": {
    "collapsed": true
   },
   "outputs": [],
   "source": [
    "#recode addr_state\n",
    "addr_state = addr_state_temp.copy()\n",
    "for i in range(len(y)):\n",
    "    if addr_state_temp[i] == 'CA':\n",
    "        addr_state[i] = 'CA'\n",
    "    else:\n",
    "        addr_state[i] = 'other'"
   ]
  },
  {
   "cell_type": "code",
   "execution_count": 16,
   "metadata": {},
   "outputs": [
    {
     "data": {
      "text/plain": [
       "0    other\n",
       "1    other\n",
       "2    other\n",
       "3    other\n",
       "4    other\n",
       "Name: addr_state, dtype: object"
      ]
     },
     "execution_count": 16,
     "metadata": {},
     "output_type": "execute_result"
    }
   ],
   "source": [
    "addr_state.head()"
   ]
  },
  {
   "cell_type": "code",
   "execution_count": 17,
   "metadata": {
    "collapsed": true
   },
   "outputs": [],
   "source": [
    "verification_status_temp = data['verification_status']"
   ]
  },
  {
   "cell_type": "code",
   "execution_count": 18,
   "metadata": {
    "collapsed": true
   },
   "outputs": [],
   "source": [
    "#recode addr_state\n",
    "verification_status = verification_status_temp.copy()\n",
    "for i in range(len(y)):\n",
    "    if verification_status_temp[i] == 'Not Verified':\n",
    "        verification_status[i] = 'not verified'\n",
    "    else:\n",
    "        verification_status[i] = 'verified'"
   ]
  },
  {
   "cell_type": "code",
   "execution_count": 19,
   "metadata": {},
   "outputs": [
    {
     "data": {
      "text/plain": [
       "0        verified\n",
       "1    not verified\n",
       "2    not verified\n",
       "3    not verified\n",
       "4    not verified\n",
       "Name: verification_status, dtype: object"
      ]
     },
     "execution_count": 19,
     "metadata": {},
     "output_type": "execute_result"
    }
   ],
   "source": [
    "verification_status.head()"
   ]
  },
  {
   "cell_type": "code",
   "execution_count": 20,
   "metadata": {
    "collapsed": true
   },
   "outputs": [],
   "source": [
    "#Create dummy variables\n",
    "dummy1 = pd.get_dummies(y)\n",
    "dummy2 = pd.get_dummies(purpose)\n",
    "dummy3 = pd.get_dummies(addr_state)\n",
    "dummy4 = pd.get_dummies(data['term'])\n",
    "dummy5 = pd.get_dummies(data['home_ownership'])\n",
    "dummy6 = pd.get_dummies(verification_status)\n",
    "dummy7 = pd.get_dummies(data['initial_list_status'])\n",
    "dummy8 = pd.get_dummies(data['application_type'])"
   ]
  },
  {
   "cell_type": "code",
   "execution_count": 21,
   "metadata": {
    "scrolled": false
   },
   "outputs": [
    {
     "data": {
      "text/html": [
       "<div>\n",
       "<style scoped>\n",
       "    .dataframe tbody tr th:only-of-type {\n",
       "        vertical-align: middle;\n",
       "    }\n",
       "\n",
       "    .dataframe tbody tr th {\n",
       "        vertical-align: top;\n",
       "    }\n",
       "\n",
       "    .dataframe thead th {\n",
       "        text-align: right;\n",
       "    }\n",
       "</style>\n",
       "<table border=\"1\" class=\"dataframe\">\n",
       "  <thead>\n",
       "    <tr style=\"text-align: right;\">\n",
       "      <th></th>\n",
       "      <th>loan_amnt</th>\n",
       "      <th>term</th>\n",
       "      <th>int_rate</th>\n",
       "      <th>installment</th>\n",
       "      <th>annual_inc</th>\n",
       "      <th>verification_status</th>\n",
       "      <th>loan_status</th>\n",
       "      <th>addr_state</th>\n",
       "      <th>delinq_2yrs</th>\n",
       "      <th>open_acc</th>\n",
       "      <th>...</th>\n",
       "      <th>tax_liens</th>\n",
       "      <th>tot_hi_cred_lim</th>\n",
       "      <th>total_bal_ex_mort</th>\n",
       "      <th>total_bc_limit</th>\n",
       "      <th>total_il_high_credit_limit</th>\n",
       "      <th>financial</th>\n",
       "      <th>property</th>\n",
       "      <th>MORTGAGE</th>\n",
       "      <th>OWN</th>\n",
       "      <th>RENT</th>\n",
       "    </tr>\n",
       "  </thead>\n",
       "  <tbody>\n",
       "    <tr>\n",
       "      <th>0</th>\n",
       "      <td>17600.0</td>\n",
       "      <td>1.0</td>\n",
       "      <td>0.1075</td>\n",
       "      <td>574.12</td>\n",
       "      <td>57109.0</td>\n",
       "      <td>1.0</td>\n",
       "      <td>1.0</td>\n",
       "      <td>0.0</td>\n",
       "      <td>0.0</td>\n",
       "      <td>6.0</td>\n",
       "      <td>...</td>\n",
       "      <td>0.0</td>\n",
       "      <td>88629.0</td>\n",
       "      <td>83563.0</td>\n",
       "      <td>2300.0</td>\n",
       "      <td>80329.0</td>\n",
       "      <td>1.0</td>\n",
       "      <td>0.0</td>\n",
       "      <td>0.0</td>\n",
       "      <td>0.0</td>\n",
       "      <td>1.0</td>\n",
       "    </tr>\n",
       "    <tr>\n",
       "      <th>1</th>\n",
       "      <td>12500.0</td>\n",
       "      <td>0.0</td>\n",
       "      <td>0.0839</td>\n",
       "      <td>255.80</td>\n",
       "      <td>120000.0</td>\n",
       "      <td>0.0</td>\n",
       "      <td>1.0</td>\n",
       "      <td>0.0</td>\n",
       "      <td>0.0</td>\n",
       "      <td>9.0</td>\n",
       "      <td>...</td>\n",
       "      <td>0.0</td>\n",
       "      <td>80899.0</td>\n",
       "      <td>40673.0</td>\n",
       "      <td>48400.0</td>\n",
       "      <td>32499.0</td>\n",
       "      <td>1.0</td>\n",
       "      <td>0.0</td>\n",
       "      <td>0.0</td>\n",
       "      <td>0.0</td>\n",
       "      <td>1.0</td>\n",
       "    </tr>\n",
       "    <tr>\n",
       "      <th>2</th>\n",
       "      <td>10000.0</td>\n",
       "      <td>1.0</td>\n",
       "      <td>0.1199</td>\n",
       "      <td>332.10</td>\n",
       "      <td>75000.0</td>\n",
       "      <td>0.0</td>\n",
       "      <td>1.0</td>\n",
       "      <td>0.0</td>\n",
       "      <td>0.0</td>\n",
       "      <td>9.0</td>\n",
       "      <td>...</td>\n",
       "      <td>1.0</td>\n",
       "      <td>71858.0</td>\n",
       "      <td>48844.0</td>\n",
       "      <td>0.0</td>\n",
       "      <td>60358.0</td>\n",
       "      <td>1.0</td>\n",
       "      <td>0.0</td>\n",
       "      <td>1.0</td>\n",
       "      <td>0.0</td>\n",
       "      <td>0.0</td>\n",
       "    </tr>\n",
       "    <tr>\n",
       "      <th>3</th>\n",
       "      <td>3000.0</td>\n",
       "      <td>1.0</td>\n",
       "      <td>0.0739</td>\n",
       "      <td>93.17</td>\n",
       "      <td>80000.0</td>\n",
       "      <td>0.0</td>\n",
       "      <td>1.0</td>\n",
       "      <td>0.0</td>\n",
       "      <td>1.0</td>\n",
       "      <td>6.0</td>\n",
       "      <td>...</td>\n",
       "      <td>0.0</td>\n",
       "      <td>221908.0</td>\n",
       "      <td>25665.0</td>\n",
       "      <td>42200.0</td>\n",
       "      <td>30936.0</td>\n",
       "      <td>1.0</td>\n",
       "      <td>0.0</td>\n",
       "      <td>0.0</td>\n",
       "      <td>0.0</td>\n",
       "      <td>1.0</td>\n",
       "    </tr>\n",
       "    <tr>\n",
       "      <th>4</th>\n",
       "      <td>2000.0</td>\n",
       "      <td>1.0</td>\n",
       "      <td>0.0649</td>\n",
       "      <td>61.29</td>\n",
       "      <td>90000.0</td>\n",
       "      <td>0.0</td>\n",
       "      <td>1.0</td>\n",
       "      <td>0.0</td>\n",
       "      <td>0.0</td>\n",
       "      <td>19.0</td>\n",
       "      <td>...</td>\n",
       "      <td>0.0</td>\n",
       "      <td>176338.0</td>\n",
       "      <td>68841.0</td>\n",
       "      <td>122100.0</td>\n",
       "      <td>48438.0</td>\n",
       "      <td>1.0</td>\n",
       "      <td>0.0</td>\n",
       "      <td>0.0</td>\n",
       "      <td>0.0</td>\n",
       "      <td>1.0</td>\n",
       "    </tr>\n",
       "  </tbody>\n",
       "</table>\n",
       "<p>5 rows × 56 columns</p>\n",
       "</div>"
      ],
      "text/plain": [
       "   loan_amnt  term  int_rate  installment  annual_inc  verification_status  \\\n",
       "0    17600.0   1.0    0.1075       574.12     57109.0                  1.0   \n",
       "1    12500.0   0.0    0.0839       255.80    120000.0                  0.0   \n",
       "2    10000.0   1.0    0.1199       332.10     75000.0                  0.0   \n",
       "3     3000.0   1.0    0.0739        93.17     80000.0                  0.0   \n",
       "4     2000.0   1.0    0.0649        61.29     90000.0                  0.0   \n",
       "\n",
       "   loan_status  addr_state  delinq_2yrs  open_acc  ...   tax_liens  \\\n",
       "0          1.0         0.0          0.0       6.0  ...         0.0   \n",
       "1          1.0         0.0          0.0       9.0  ...         0.0   \n",
       "2          1.0         0.0          0.0       9.0  ...         1.0   \n",
       "3          1.0         0.0          1.0       6.0  ...         0.0   \n",
       "4          1.0         0.0          0.0      19.0  ...         0.0   \n",
       "\n",
       "   tot_hi_cred_lim  total_bal_ex_mort  total_bc_limit  \\\n",
       "0          88629.0            83563.0          2300.0   \n",
       "1          80899.0            40673.0         48400.0   \n",
       "2          71858.0            48844.0             0.0   \n",
       "3         221908.0            25665.0         42200.0   \n",
       "4         176338.0            68841.0        122100.0   \n",
       "\n",
       "   total_il_high_credit_limit  financial  property  MORTGAGE  OWN  RENT  \n",
       "0                     80329.0        1.0       0.0       0.0  0.0   1.0  \n",
       "1                     32499.0        1.0       0.0       0.0  0.0   1.0  \n",
       "2                     60358.0        1.0       0.0       1.0  0.0   0.0  \n",
       "3                     30936.0        1.0       0.0       0.0  0.0   1.0  \n",
       "4                     48438.0        1.0       0.0       0.0  0.0   1.0  \n",
       "\n",
       "[5 rows x 56 columns]"
      ]
     },
     "execution_count": 21,
     "metadata": {},
     "output_type": "execute_result"
    }
   ],
   "source": [
    "#Insert dummy variables into dataset\n",
    "data['loan_status'] = dummy1['good']\n",
    "data['addr_state'] = dummy3['CA']\n",
    "data['term'] = dummy4[' 36 months']\n",
    "data['verification_status'] = dummy6['verified']\n",
    "data['initial_list_status'] = dummy7['w']\n",
    "data['application_type'] = dummy8['Individual']\n",
    "\n",
    "data = data.drop(['purpose','home_ownership'], axis = 1)\n",
    "data = pd.concat([data, dummy2.iloc[:,[0,2]],dummy5.iloc[:,1:4]],axis = 1)\n",
    "\n",
    "# convert all data as float\n",
    "data['int_rate'] = [x[:-1] for x in data['int_rate']]\n",
    "data = data.astype(float)\n",
    "data['int_rate'] = data['int_rate']/100\n",
    "\n",
    "data.head()"
   ]
  },
  {
   "cell_type": "code",
   "execution_count": 22,
   "metadata": {
    "collapsed": true
   },
   "outputs": [],
   "source": [
    "# store the categorical variable indexes\n",
    "data_category = ['loan_status','verification_status','addr_state', 'term', 'initial_list_status',\n",
    "                 'application_type','financial','property','MORTGAGE','OWN','RENT']"
   ]
  },
  {
   "cell_type": "code",
   "execution_count": 28,
   "metadata": {
    "collapsed": true
   },
   "outputs": [],
   "source": [
    "from  sklearn.preprocessing  import scale\n",
    "\n",
    "data_lasso = data.copy()\n",
    "\n",
    "# Scale the numerical variables\n",
    "data_lasso[data.columns[~data_lasso.columns.isin(data_category)]]=scale(data_lasso[data.columns[~data_lasso.columns.isin(data_category)]])"
   ]
  },
  {
   "cell_type": "code",
   "execution_count": 29,
   "metadata": {
    "collapsed": true
   },
   "outputs": [],
   "source": [
    "X = data_lasso[data_lasso.columns.difference(['loan_status'])].values\n",
    "y = data_lasso.loc[:, 'loan_status'].values\n",
    "X=X.astype(float)"
   ]
  },
  {
   "cell_type": "code",
   "execution_count": 52,
   "metadata": {
    "collapsed": true
   },
   "outputs": [],
   "source": [
    "selected_X_0 = ['loan_amnt', 'term', 'int_rate', 'annual_inc', 'out_prncp',\n",
    "       'total_rec_prncp', 'total_rec_int', 'total_rec_late_fee', 'recoveries',\n",
    "       'last_pymnt_amnt', 'num_bc_tl', 'num_op_rev_tl', 'num_rev_tl_bal_gt_0',\n",
    "       'num_tl_op_past_12m', 'total_bc_limit', 'financial', 'property',\n",
    "       'MORTGAGE']"
   ]
  },
  {
   "cell_type": "code",
   "execution_count": 53,
   "metadata": {
    "collapsed": true
   },
   "outputs": [],
   "source": [
    "data_fnl = pd.concat([data_lasso[selected_X_0], data_lasso['loan_status']],axis = 1)"
   ]
  },
  {
   "cell_type": "code",
   "execution_count": 54,
   "metadata": {
    "collapsed": true
   },
   "outputs": [],
   "source": [
    "### training and test set split\n",
    "#Split the data into training set(75% of data) and testing set(25% of data)\n",
    "from sklearn.model_selection import train_test_split\n",
    "\n",
    "train, test = train_test_split(data_fnl, test_size = 0.25, random_state = 0)\n",
    "\n",
    "## get the train and test data set\n",
    "X_tr = train[train.columns.difference(['loan_status'])].values\n",
    "y_tr = train.loc[:, 'loan_status'].values\n",
    "\n",
    "X_te = test[test.columns.difference(['loan_status'])].values\n",
    "y_te = test.loc[:, 'loan_status'].values"
   ]
  },
  {
   "cell_type": "code",
   "execution_count": 55,
   "metadata": {},
   "outputs": [
    {
     "data": {
      "text/plain": [
       "SVC(C=0.1, cache_size=200, class_weight=None, coef0=0.0,\n",
       "  decision_function_shape=None, degree=3, gamma='auto', kernel='rbf',\n",
       "  max_iter=-1, probability=False, random_state=None, shrinking=True,\n",
       "  tol=0.001, verbose=False)"
      ]
     },
     "execution_count": 55,
     "metadata": {},
     "output_type": "execute_result"
    }
   ],
   "source": [
    "# use SVM to fit the model\n",
    "from sklearn import svm\n",
    "clf = svm.SVC(C=0.1, kernel='rbf')\n",
    "clf.fit(X_tr, y_tr)"
   ]
  },
  {
   "cell_type": "code",
   "execution_count": 56,
   "metadata": {},
   "outputs": [
    {
     "data": {
      "text/plain": [
       "array([1., 0., 1., ..., 1., 1., 1.])"
      ]
     },
     "execution_count": 56,
     "metadata": {},
     "output_type": "execute_result"
    }
   ],
   "source": [
    "y_hat = clf.predict(X_te)\n",
    "y_hat"
   ]
  },
  {
   "cell_type": "code",
   "execution_count": 57,
   "metadata": {},
   "outputs": [
    {
     "data": {
      "text/plain": [
       "0.03386677961731828"
      ]
     },
     "execution_count": 57,
     "metadata": {},
     "output_type": "execute_result"
    }
   ],
   "source": [
    "# calculate test error\n",
    "np.mean((y_hat - y_te)**2)"
   ]
  },
  {
   "cell_type": "code",
   "execution_count": 58,
   "metadata": {},
   "outputs": [
    {
     "data": {
      "text/plain": [
       "0.9661332203826817"
      ]
     },
     "execution_count": 58,
     "metadata": {},
     "output_type": "execute_result"
    }
   ],
   "source": [
    "# calculate accuracy \n",
    "clf.score(X_te, y_te)"
   ]
  }
 ],
 "metadata": {
  "kernelspec": {
   "display_name": "Python 3",
   "language": "python",
   "name": "python3"
  },
  "language_info": {
   "codemirror_mode": {
    "name": "ipython",
    "version": 3
   },
   "file_extension": ".py",
   "mimetype": "text/x-python",
   "name": "python",
   "nbconvert_exporter": "python",
   "pygments_lexer": "ipython3",
   "version": "3.6.1"
  }
 },
 "nbformat": 4,
 "nbformat_minor": 2
}
